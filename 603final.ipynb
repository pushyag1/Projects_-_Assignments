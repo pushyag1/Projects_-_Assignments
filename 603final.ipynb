{
  "nbformat": 4,
  "nbformat_minor": 0,
  "metadata": {
    "colab": {
      "name": "603final.ipynb",
      "provenance": [],
      "toc_visible": true,
      "authorship_tag": "ABX9TyM7p3zyWmOkwEQEHwbJQSGL",
      "include_colab_link": true
    },
    "kernelspec": {
      "name": "python3",
      "display_name": "Python 3"
    }
  },
  "cells": [
    {
      "cell_type": "markdown",
      "metadata": {
        "id": "view-in-github",
        "colab_type": "text"
      },
      "source": [
        "<a href=\"https://colab.research.google.com/github/pushyag1/Projects_-_Assignments/blob/master/603final.ipynb\" target=\"_parent\"><img src=\"https://colab.research.google.com/assets/colab-badge.svg\" alt=\"Open In Colab\"/></a>"
      ]
    },
    {
      "cell_type": "markdown",
      "metadata": {
        "id": "75VOg1jf6HtD",
        "colab_type": "text"
      },
      "source": [
        "# Exercise 1: Unsupervised Models (20 points)"
      ]
    },
    {
      "cell_type": "markdown",
      "metadata": {
        "id": "GOqlaZwbkg_E",
        "colab_type": "text"
      },
      "source": [
        "\n",
        "\n",
        "Question 1. Import the required libraries for a kmeans model. Import make_blobs from\n",
        "the sklearn.datasets.samples_generator.\n",
        "\n",
        "Question 2. Define X,y as n_samples=300, centers=4, cluster_std=0.6, and\n",
        "random_state=0.\n",
        "\n",
        "Question 3. Use a scatter plot to show the clusters.\n",
        "\n",
        "Question 4. Define ‘within cluster sum of squares’ as wcss[ ]. The purpose of this\n",
        "question is to determine the ‘elbow’ value. Define wcss ‘for i in range(1, 11)’ with\n",
        "‘kmeans = KMeans(n_clusters=i, init='k-means++', max_iter=300, n_init=10,\n",
        "random_state=0).’\n",
        "\n",
        "Question 5. What is the ‘elbow’ value? What does it mean?\n",
        "\n",
        "Question 6. Now that you have determined the number of clusters, add the\n",
        "‘cluster_centers_’ for each cluster in a plot.\n",
        "\n",
        "Question 7. What are the other methods of clustering? Provide at least two examples\n",
        "and determine their benefits and limitations.\n",
        "\n",
        "Question 8. How are unsupervised models different from supervised models?"
      ]
    },
    {
      "cell_type": "code",
      "metadata": {
        "id": "t9NGiopykejm",
        "colab_type": "code",
        "outputId": "2004200c-21ed-4580-f910-24d398009b8d",
        "colab": {
          "base_uri": "https://localhost:8080/",
          "height": 70
        }
      },
      "source": [
        "import numpy as np\n",
        "import pandas as pd\n",
        "from matplotlib import pyplot as plt\n",
        "from sklearn.datasets.samples_generator import make_blobs\n",
        "from sklearn.cluster import KMeans"
      ],
      "execution_count": 1,
      "outputs": [
        {
          "output_type": "stream",
          "text": [
            "/usr/local/lib/python3.6/dist-packages/sklearn/utils/deprecation.py:144: FutureWarning: The sklearn.datasets.samples_generator module is  deprecated in version 0.22 and will be removed in version 0.24. The corresponding classes / functions should instead be imported from sklearn.datasets. Anything that cannot be imported from sklearn.datasets is now part of the private API.\n",
            "  warnings.warn(message, FutureWarning)\n"
          ],
          "name": "stderr"
        }
      ]
    },
    {
      "cell_type": "code",
      "metadata": {
        "id": "r-suVgmskgMe",
        "colab_type": "code",
        "colab": {}
      },
      "source": [
        "X, y = make_blobs(n_samples=300, centers=4,cluster_std=0.6, n_features=2, random_state=0)"
      ],
      "execution_count": 0,
      "outputs": []
    },
    {
      "cell_type": "code",
      "metadata": {
        "id": "2UYOp64dkgJ4",
        "colab_type": "code",
        "outputId": "04a31de5-0b0c-4dda-ead5-628f0dbacb6c",
        "colab": {
          "base_uri": "https://localhost:8080/",
          "height": 34
        }
      },
      "source": [
        "print(X.shape)"
      ],
      "execution_count": 3,
      "outputs": [
        {
          "output_type": "stream",
          "text": [
            "(300, 2)\n"
          ],
          "name": "stdout"
        }
      ]
    },
    {
      "cell_type": "code",
      "metadata": {
        "id": "cXwmVU19kgG8",
        "colab_type": "code",
        "outputId": "a43fd3dc-f775-448c-fb52-6b7e00517b00",
        "colab": {
          "base_uri": "https://localhost:8080/",
          "height": 34
        }
      },
      "source": [
        "y.shape"
      ],
      "execution_count": 4,
      "outputs": [
        {
          "output_type": "execute_result",
          "data": {
            "text/plain": [
              "(300,)"
            ]
          },
          "metadata": {
            "tags": []
          },
          "execution_count": 4
        }
      ]
    },
    {
      "cell_type": "code",
      "metadata": {
        "id": "a86wq194kgEM",
        "colab_type": "code",
        "outputId": "d5656049-033c-48f2-9df3-9111a051be39",
        "colab": {
          "base_uri": "https://localhost:8080/",
          "height": 252
        }
      },
      "source": [
        "y"
      ],
      "execution_count": 5,
      "outputs": [
        {
          "output_type": "execute_result",
          "data": {
            "text/plain": [
              "array([1, 3, 0, 3, 1, 1, 2, 0, 3, 3, 2, 3, 0, 3, 1, 0, 0, 1, 2, 2, 1, 1,\n",
              "       0, 2, 2, 0, 1, 0, 2, 0, 3, 3, 0, 3, 3, 3, 3, 3, 2, 1, 0, 2, 0, 0,\n",
              "       2, 2, 3, 2, 3, 1, 2, 1, 3, 1, 1, 2, 3, 2, 3, 1, 3, 0, 3, 2, 2, 2,\n",
              "       3, 1, 3, 2, 0, 2, 3, 2, 2, 3, 2, 0, 1, 3, 1, 0, 1, 1, 3, 0, 1, 0,\n",
              "       3, 3, 0, 1, 3, 2, 2, 0, 1, 1, 0, 2, 3, 1, 3, 1, 0, 1, 1, 0, 3, 0,\n",
              "       2, 2, 1, 3, 1, 0, 3, 1, 1, 0, 2, 1, 2, 1, 1, 1, 1, 2, 1, 2, 3, 2,\n",
              "       2, 1, 3, 2, 2, 3, 0, 3, 3, 2, 0, 2, 0, 2, 3, 0, 3, 3, 3, 0, 3, 0,\n",
              "       1, 2, 3, 2, 1, 0, 3, 0, 0, 1, 0, 2, 2, 0, 1, 0, 0, 3, 1, 0, 2, 3,\n",
              "       1, 1, 0, 2, 1, 0, 2, 2, 0, 0, 0, 0, 1, 3, 0, 2, 0, 0, 2, 2, 2, 0,\n",
              "       2, 3, 0, 2, 1, 2, 0, 3, 2, 3, 0, 3, 0, 2, 0, 0, 3, 2, 2, 1, 1, 0,\n",
              "       3, 1, 1, 2, 1, 2, 0, 3, 3, 0, 0, 3, 0, 1, 2, 0, 1, 2, 3, 2, 1, 0,\n",
              "       1, 3, 3, 3, 3, 2, 2, 3, 0, 2, 1, 0, 2, 2, 2, 1, 1, 3, 0, 0, 2, 1,\n",
              "       3, 2, 0, 3, 0, 1, 1, 2, 2, 0, 1, 1, 1, 0, 3, 3, 1, 1, 0, 1, 1, 1,\n",
              "       3, 2, 3, 0, 1, 1, 3, 3, 3, 1, 1, 0, 3, 2])"
            ]
          },
          "metadata": {
            "tags": []
          },
          "execution_count": 5
        }
      ]
    },
    {
      "cell_type": "code",
      "metadata": {
        "id": "Q6P4dOfekgBW",
        "colab_type": "code",
        "outputId": "08757fe7-7594-4caa-a6cc-9f2c9bc6e276",
        "colab": {
          "base_uri": "https://localhost:8080/",
          "height": 295
        }
      },
      "source": [
        "plt.subplot()\n",
        "plt.title(\"blobs\", fontsize='small')\n",
        "X, y = make_blobs(n_samples=300, centers=4,cluster_std=0.6, n_features=2, random_state=0)\n",
        "plt.scatter(X[:, 0], X[:, 1], marker='o', c=y,\n",
        "            s=25, edgecolor='k')"
      ],
      "execution_count": 6,
      "outputs": [
        {
          "output_type": "execute_result",
          "data": {
            "text/plain": [
              "<matplotlib.collections.PathCollection at 0x7ff3b520e668>"
            ]
          },
          "metadata": {
            "tags": []
          },
          "execution_count": 6
        },
        {
          "output_type": "display_data",
          "data": {
            "image/png": "[encoded data removed]",
            "text/plain": [
              "<Figure size 432x288 with 1 Axes>"
            ]
          },
          "metadata": {
            "tags": [],
            "needs_background": "light"
          }
        }
      ]
    },
    {
      "cell_type": "code",
      "metadata": {
        "id": "T_e1k15rkf-c",
        "colab_type": "code",
        "outputId": "76301ad6-6dc3-412f-a5d4-d7fff590d3d8",
        "colab": {
          "base_uri": "https://localhost:8080/",
          "height": 295
        }
      },
      "source": [
        "wcss = []\n",
        "for i in range(1, 11):\n",
        "    kmeans = KMeans(n_clusters=i, init='k-means++', max_iter=300, n_init=10, random_state=0)\n",
        "    kmeans.fit(X)\n",
        "    wcss.append(kmeans.inertia_)\n",
        "plt.plot(range(1, 11), wcss)\n",
        "plt.title('Elbow Method')\n",
        "plt.xlabel('Number of clusters')\n",
        "plt.ylabel('WCSS')\n",
        "plt.show()"
      ],
      "execution_count": 7,
      "outputs": [
        {
          "output_type": "display_data",
          "data": {
            "image/png": "[encoded data removed]",
            "text/plain": [
              "<Figure size 432x288 with 1 Axes>"
            ]
          },
          "metadata": {
            "tags": [],
            "needs_background": "light"
          }
        }
      ]
    },
    {
      "cell_type": "markdown",
      "metadata": {
        "id": "UNgvvapjCRip",
        "colab_type": "text"
      },
      "source": [
        "Question 5. What is the ‘elbow’ value? What does it mean?\n",
        "\n",
        "Answer: Elbow value is 4, its determined by the number of clusters and the WCSS(within cluster sum of squares). The plot is determined and the point from where the WCSS value comes down is the elbow value, that elbow value will help in taking or choosing the right number of clusters for K means algorithm."
      ]
    },
    {
      "cell_type": "markdown",
      "metadata": {
        "id": "7xDzV4BcC5SV",
        "colab_type": "text"
      },
      "source": [
        ""
      ]
    },
    {
      "cell_type": "code",
      "metadata": {
        "id": "U8ibil7Okf6m",
        "colab_type": "code",
        "outputId": "2f5233e2-1944-4fd0-e3fe-abc044d6c789",
        "colab": {
          "base_uri": "https://localhost:8080/",
          "height": 265
        }
      },
      "source": [
        "kmeans = KMeans(n_clusters=4, init='k-means++', max_iter=300, n_init=10, random_state=0)\n",
        "pred_y = kmeans.fit_predict(X)\n",
        "plt.scatter(X[:,0], X[:,1],c='red')\n",
        "plt.scatter(kmeans.cluster_centers_[:, 0], kmeans.cluster_centers_[:, 1], s=300, c='blue')\n",
        "plt.show()"
      ],
      "execution_count": 8,
      "outputs": [
        {
          "output_type": "display_data",
          "data": {
            "image/png": "[encoded data removed]",
            "text/plain": [
              "<Figure size 432x288 with 1 Axes>"
            ]
          },
          "metadata": {
            "tags": [],
            "needs_background": "light"
          }
        }
      ]
    },
    {
      "cell_type": "code",
      "metadata": {
        "id": "kIZHCoznkf26",
        "colab_type": "code",
        "colab": {}
      },
      "source": [
        ""
      ],
      "execution_count": 0,
      "outputs": []
    },
    {
      "cell_type": "markdown",
      "metadata": {
        "id": "GJaDu40JSoEV",
        "colab_type": "text"
      },
      "source": [
        "###Question 7: What are the other methods of clustering? Provide at least two examples and determine their benefits and limitations\n",
        "\n",
        "Other types of clutering are K Nearest Neighbor (KNN) and Density Based Spatial Clustering (DBSCAN).\n",
        "\n",
        "KNN is a non parametric algorithm. K refers to 'n_neighbors' in the KNN function. It does not make any underlying assumptions about the distribution of data. KNN algorithm can also be used for regression problems. Regression problems will be using averages of nearest neighbors rather than voting from nearest neighbors.\n",
        "\n",
        "Applications: \n",
        "economic forecasting, data compression, and genetics\n",
        "\n",
        "Benefits:\n",
        "\n",
        "No assumptions about data\n",
        "Simple algorithm to explain and understand/interpret\n",
        "Overall good accuracy\n",
        "Versatile useful for classification or regression\n",
        "\n",
        "Limitations:\n",
        "\n",
        "Computationally expensive because the algorithm stores all the training data\n",
        "High memory requirement\n",
        "Prediction stage might be slow with large datasets\n",
        "May be sensitive to features not relevant in the classification and to the scale of the data\n",
        "\n",
        "DBSCAN groups together points that are close to each other based on a distance measurement (usually Euclidean distance) and a minimum number of points. The main concept of DBSCAN algorithm is to locate regions of high density that are separated from one another by region of low density. It also marks as outliers the points that are in low density regions.\n",
        "\n",
        "Applications: Characters recognition, Management systems\n",
        "\n",
        "Benefits:\n",
        "\n",
        "It requires minimum domain knowledge\n",
        "It can discover clusters of arbitrary shape\n",
        "It works well with large samples of data\n",
        "Limitations:\n",
        "Does not work well while dealing with clusters of varying densities.\n",
        "Less efficient results with high dimensional data\n"
      ]
    },
    {
      "cell_type": "markdown",
      "metadata": {
        "id": "wk7C0RruTr64",
        "colab_type": "text"
      },
      "source": [
        "###Question 8. How are unsupervised models different from supervised models?\n",
        "In unsupervised learning model,\n",
        "only input data will be given\n",
        "Algorithms are used against data which is not labeled\n",
        "Unsupervised algorithms can be divided into different categories: like Cluster algorithms, K-means, Hierarchical clustering, etc.\n",
        "Unsupervised learning is computationally complex\n",
        "Unsupervised learning does not use output data\n",
        "Less accurate and trustworthy method\n",
        "Learning method takes place in real time\n",
        "Number of classes is not known\n",
        "You cannot get precise information regarding data sorting, and the output as data used in unsupervised learning is labeled and not known\n",
        "In a supervised learning model,\n",
        "input and output variables will be given\n",
        "Algorithms are trained using labeled data\n",
        "Support vector machine, Neural network, Linear and logistics regression, random forest, and Classification trees\n",
        "Supervised learning is a simpler method\n",
        "Supervised learning model uses training data to learn a link between the input and the outputs\n",
        "Highly accurate and trustworthy method\n",
        "Learning method takes place offline\n",
        "Number of classes is known\n",
        "Classifying big data can be a real challenge in Supervised Learning"
      ]
    },
    {
      "cell_type": "markdown",
      "metadata": {
        "id": "cBeio5sA6VDJ",
        "colab_type": "text"
      },
      "source": [
        "#Exercise 2: Neural Network (40 points)"
      ]
    },
    {
      "cell_type": "markdown",
      "metadata": {
        "id": "Mief_BHqxrYq",
        "colab_type": "text"
      },
      "source": [
        "\n",
        "Question 1. Plot the histograms of the variables. Visualize the difference in distribution\n",
        "between diabetics and non-diabetics with separate plots using seaborn. Create a\n",
        "subplot of 3 X 3 and plot a density plot for each variable. Use the diabetes2.csv file from\n",
        "the Data Files folder. Hide the 9th subplot.\n",
        "\n",
        "Question 2. Check the data (null data and number of rows with 0 for each variable).\n",
        "Replace the zero values with NaN. Re-check the data.\n",
        "Replace the NaN values with the mean of the non-missing values.\n",
        "\n",
        "Question 3. Standardize the data. Take a look at the mean, std. deviation, and the\n",
        "maximum of each of the transformed variables.\n",
        "\n",
        "Question 4. Create a train and test set (80/20).\n",
        "\n",
        "Question 5. Use the sequential class from Keras to build the MLP. Add two hidden\n",
        "layers (with the respective node values of 32 and 16, ‘relu’ activation) and one hidden\n",
        "layer (‘sigmoid’ activation for output layer). Use ‘adam’ optimizer and ‘binary\n",
        "crossentropy’ loss. What does cross-entropy mean and refer to?\n",
        "\n",
        "Question 6. What is the outcome of 100 and 200 epochs? Any difference? Explain.\n",
        "\n",
        "Question 7. Evaluate the training and testing sets’ accuracy.\n",
        "\n",
        "Question 8. Provide the confusion matrix using seaborn. What are your conclusions?\n",
        "\n",
        "Question 9. Provide the ROC graph. What is the area under the curve? What are your\n",
        "conclusions?\n",
        "\n",
        "Question 10. What is the purpose of the activation function? Provide an example.\n",
        "\n",
        "Question 11. What is binary cross-entropy and when is it used?"
      ]
    },
    {
      "cell_type": "code",
      "metadata": {
        "id": "2Pt-L01axozo",
        "colab_type": "code",
        "colab": {}
      },
      "source": [
        "from __future__ import absolute_import, division, print_function  # Python 2/3 compatibility\n",
        "import warnings\n",
        "warnings.filterwarnings(\"ignore\")\n",
        "import numpy as np\n",
        "import pandas as pd\n",
        "import matplotlib.pyplot as plt\n",
        "from sklearn.model_selection import train_test_split\n",
        "from sklearn.preprocessing import StandardScaler\n",
        "from sklearn.metrics import confusion_matrix, precision_recall_curve, roc_auc_score, roc_curve, accuracy_score\n",
        "from sklearn.ensemble import RandomForestClassifier\n",
        "import seaborn as sns\n",
        "%matplotlib inline\n",
        "from sklearn.neighbors import KNeighborsClassifier\n",
        "from sklearn.svm import SVC\n",
        "from sklearn.linear_model import LogisticRegression\n",
        "from sklearn.tree import DecisionTreeClassifier\n",
        "from sklearn.naive_bayes import GaussianNB\n",
        "from sklearn.ensemble import RandomForestClassifier\n",
        "from sklearn.ensemble import GradientBoostingClassifier"
      ],
      "execution_count": 0,
      "outputs": []
    },
    {
      "cell_type": "code",
      "metadata": {
        "id": "uvSg6yz6xqSU",
        "colab_type": "code",
        "outputId": "83e51cae-1a4e-4256-98ee-6490d0de0e2b",
        "colab": {
          "base_uri": "https://localhost:8080/",
          "height": 34
        }
      },
      "source": [
        "from keras.models  import Sequential, K\n",
        "from keras.layers import Input, Dense, Flatten, Dropout, BatchNormalization\n",
        "from keras.optimizers import Adam, SGD, RMSprop"
      ],
      "execution_count": 10,
      "outputs": [
        {
          "output_type": "stream",
          "text": [
            "Using TensorFlow backend.\n"
          ],
          "name": "stderr"
        }
      ]
    },
    {
      "cell_type": "code",
      "metadata": {
        "id": "-4mgmBJUxqdb",
        "colab_type": "code",
        "colab": {}
      },
      "source": [
        "\n",
        "diabetes_df = pd.read_csv('diabetes2.csv')"
      ],
      "execution_count": 0,
      "outputs": []
    },
    {
      "cell_type": "code",
      "metadata": {
        "id": "nt3bxjHpxqf1",
        "colab_type": "code",
        "outputId": "76390fcb-3b4f-40c7-bf1d-e4142cc932dc",
        "colab": {
          "base_uri": "https://localhost:8080/",
          "height": 195
        }
      },
      "source": [
        "diabetes_df.head()"
      ],
      "execution_count": 12,
      "outputs": [
        {
          "output_type": "execute_result",
          "data": {
            "text/html": [
              "<div>\n",
              "<style scoped>\n",
              "    .dataframe tbody tr th:only-of-type {\n",
              "        vertical-align: middle;\n",
              "    }\n",
              "\n",
              "    .dataframe tbody tr th {\n",
              "        vertical-align: top;\n",
              "    }\n",
              "\n",
              "    .dataframe thead th {\n",
              "        text-align: right;\n",
              "    }\n",
              "</style>\n",
              "<table border=\"1\" class=\"dataframe\">\n",
              "  <thead>\n",
              "    <tr style=\"text-align: right;\">\n",
              "      <th></th>\n",
              "      <th>Pregnancies</th>\n",
              "      <th>Glucose</th>\n",
              "      <th>BloodPressure</th>\n",
              "      <th>SkinThickness</th>\n",
              "      <th>Insulin</th>\n",
              "      <th>BMI</th>\n",
              "      <th>DiabetesPedigreeFunction</th>\n",
              "      <th>Age</th>\n",
              "      <th>Outcome</th>\n",
              "    </tr>\n",
              "  </thead>\n",
              "  <tbody>\n",
              "    <tr>\n",
              "      <th>0</th>\n",
              "      <td>6</td>\n",
              "      <td>148</td>\n",
              "      <td>72</td>\n",
              "      <td>35</td>\n",
              "      <td>0</td>\n",
              "      <td>33.6</td>\n",
              "      <td>0.627</td>\n",
              "      <td>50</td>\n",
              "      <td>1</td>\n",
              "    </tr>\n",
              "    <tr>\n",
              "      <th>1</th>\n",
              "      <td>1</td>\n",
              "      <td>85</td>\n",
              "      <td>66</td>\n",
              "      <td>29</td>\n",
              "      <td>0</td>\n",
              "      <td>26.6</td>\n",
              "      <td>0.351</td>\n",
              "      <td>31</td>\n",
              "      <td>0</td>\n",
              "    </tr>\n",
              "    <tr>\n",
              "      <th>2</th>\n",
              "      <td>8</td>\n",
              "      <td>183</td>\n",
              "      <td>64</td>\n",
              "      <td>0</td>\n",
              "      <td>0</td>\n",
              "      <td>23.3</td>\n",
              "      <td>0.672</td>\n",
              "      <td>32</td>\n",
              "      <td>1</td>\n",
              "    </tr>\n",
              "    <tr>\n",
              "      <th>3</th>\n",
              "      <td>1</td>\n",
              "      <td>89</td>\n",
              "      <td>66</td>\n",
              "      <td>23</td>\n",
              "      <td>94</td>\n",
              "      <td>28.1</td>\n",
              "      <td>0.167</td>\n",
              "      <td>21</td>\n",
              "      <td>0</td>\n",
              "    </tr>\n",
              "    <tr>\n",
              "      <th>4</th>\n",
              "      <td>0</td>\n",
              "      <td>137</td>\n",
              "      <td>40</td>\n",
              "      <td>35</td>\n",
              "      <td>168</td>\n",
              "      <td>43.1</td>\n",
              "      <td>2.288</td>\n",
              "      <td>33</td>\n",
              "      <td>1</td>\n",
              "    </tr>\n",
              "  </tbody>\n",
              "</table>\n",
              "</div>"
            ],
            "text/plain": [
              "   Pregnancies  Glucose  BloodPressure  ...  DiabetesPedigreeFunction  Age  Outcome\n",
              "0            6      148             72  ...                     0.627   50        1\n",
              "1            1       85             66  ...                     0.351   31        0\n",
              "2            8      183             64  ...                     0.672   32        1\n",
              "3            1       89             66  ...                     0.167   21        0\n",
              "4            0      137             40  ...                     2.288   33        1\n",
              "\n",
              "[5 rows x 9 columns]"
            ]
          },
          "metadata": {
            "tags": []
          },
          "execution_count": 12
        }
      ]
    },
    {
      "cell_type": "code",
      "metadata": {
        "id": "yTU9flxQxqiM",
        "colab_type": "code",
        "outputId": "1eaaaf67-50ba-47ba-a3d2-5134aba37f01",
        "colab": {
          "base_uri": "https://localhost:8080/",
          "height": 212
        }
      },
      "source": [
        "print(diabetes_df.shape)\n",
        "diabetes_df.sample(5)"
      ],
      "execution_count": 13,
      "outputs": [
        {
          "output_type": "stream",
          "text": [
            "(768, 9)\n"
          ],
          "name": "stdout"
        },
        {
          "output_type": "execute_result",
          "data": {
            "text/html": [
              "<div>\n",
              "<style scoped>\n",
              "    .dataframe tbody tr th:only-of-type {\n",
              "        vertical-align: middle;\n",
              "    }\n",
              "\n",
              "    .dataframe tbody tr th {\n",
              "        vertical-align: top;\n",
              "    }\n",
              "\n",
              "    .dataframe thead th {\n",
              "        text-align: right;\n",
              "    }\n",
              "</style>\n",
              "<table border=\"1\" class=\"dataframe\">\n",
              "  <thead>\n",
              "    <tr style=\"text-align: right;\">\n",
              "      <th></th>\n",
              "      <th>Pregnancies</th>\n",
              "      <th>Glucose</th>\n",
              "      <th>BloodPressure</th>\n",
              "      <th>SkinThickness</th>\n",
              "      <th>Insulin</th>\n",
              "      <th>BMI</th>\n",
              "      <th>DiabetesPedigreeFunction</th>\n",
              "      <th>Age</th>\n",
              "      <th>Outcome</th>\n",
              "    </tr>\n",
              "  </thead>\n",
              "  <tbody>\n",
              "    <tr>\n",
              "      <th>229</th>\n",
              "      <td>0</td>\n",
              "      <td>117</td>\n",
              "      <td>80</td>\n",
              "      <td>31</td>\n",
              "      <td>53</td>\n",
              "      <td>45.2</td>\n",
              "      <td>0.089</td>\n",
              "      <td>24</td>\n",
              "      <td>0</td>\n",
              "    </tr>\n",
              "    <tr>\n",
              "      <th>178</th>\n",
              "      <td>5</td>\n",
              "      <td>143</td>\n",
              "      <td>78</td>\n",
              "      <td>0</td>\n",
              "      <td>0</td>\n",
              "      <td>45.0</td>\n",
              "      <td>0.190</td>\n",
              "      <td>47</td>\n",
              "      <td>0</td>\n",
              "    </tr>\n",
              "    <tr>\n",
              "      <th>157</th>\n",
              "      <td>1</td>\n",
              "      <td>109</td>\n",
              "      <td>56</td>\n",
              "      <td>21</td>\n",
              "      <td>135</td>\n",
              "      <td>25.2</td>\n",
              "      <td>0.833</td>\n",
              "      <td>23</td>\n",
              "      <td>0</td>\n",
              "    </tr>\n",
              "    <tr>\n",
              "      <th>506</th>\n",
              "      <td>0</td>\n",
              "      <td>180</td>\n",
              "      <td>90</td>\n",
              "      <td>26</td>\n",
              "      <td>90</td>\n",
              "      <td>36.5</td>\n",
              "      <td>0.314</td>\n",
              "      <td>35</td>\n",
              "      <td>1</td>\n",
              "    </tr>\n",
              "    <tr>\n",
              "      <th>285</th>\n",
              "      <td>7</td>\n",
              "      <td>136</td>\n",
              "      <td>74</td>\n",
              "      <td>26</td>\n",
              "      <td>135</td>\n",
              "      <td>26.0</td>\n",
              "      <td>0.647</td>\n",
              "      <td>51</td>\n",
              "      <td>0</td>\n",
              "    </tr>\n",
              "  </tbody>\n",
              "</table>\n",
              "</div>"
            ],
            "text/plain": [
              "     Pregnancies  Glucose  ...  Age  Outcome\n",
              "229            0      117  ...   24        0\n",
              "178            5      143  ...   47        0\n",
              "157            1      109  ...   23        0\n",
              "506            0      180  ...   35        1\n",
              "285            7      136  ...   51        0\n",
              "\n",
              "[5 rows x 9 columns]"
            ]
          },
          "metadata": {
            "tags": []
          },
          "execution_count": 13
        }
      ]
    },
    {
      "cell_type": "code",
      "metadata": {
        "id": "_Rr1NG9dZPdd",
        "colab_type": "code",
        "outputId": "415682a2-bb4d-4457-da31-7d977e04d833",
        "colab": {
          "base_uri": "https://localhost:8080/",
          "height": 390
        }
      },
      "source": [
        "sns.heatmap(diabetes_df.corr(), annot = True)\n",
        "plt.show()"
      ],
      "execution_count": 14,
      "outputs": [
        {
          "output_type": "display_data",
          "data": {
            "image/png": "[encoded data removed]",
            "text/plain": [
              "<Figure size 432x288 with 2 Axes>"
            ]
          },
          "metadata": {
            "tags": [],
            "needs_background": "light"
          }
        }
      ]
    },
    {
      "cell_type": "code",
      "metadata": {
        "id": "FPdpTwhnxqkq",
        "colab_type": "code",
        "outputId": "fe010135-0f34-4c5b-c611-7f1a971b1f86",
        "colab": {
          "base_uri": "https://localhost:8080/",
          "height": 296
        }
      },
      "source": [
        "sns.countplot(x = 'Outcome',data = diabetes_df)"
      ],
      "execution_count": 15,
      "outputs": [
        {
          "output_type": "execute_result",
          "data": {
            "text/plain": [
              "<matplotlib.axes._subplots.AxesSubplot at 0x7ff371d308d0>"
            ]
          },
          "metadata": {
            "tags": []
          },
          "execution_count": 15
        },
        {
          "output_type": "display_data",
          "data": {
            "image/png": "[encoded data removed]",
            "text/plain": [
              "<Figure size 432x288 with 1 Axes>"
            ]
          },
          "metadata": {
            "tags": [],
            "needs_background": "light"
          }
        }
      ]
    },
    {
      "cell_type": "code",
      "metadata": {
        "id": "POaJagPFNGFK",
        "colab_type": "code",
        "outputId": "0cc406a1-b588-49b1-8f5c-4dd160890377",
        "colab": {
          "base_uri": "https://localhost:8080/",
          "height": 631
        }
      },
      "source": [
        "#with 9 plots\n",
        "import itertools\n",
        "col = diabetes_df.columns[:9]\n",
        "plt.subplots(figsize = (20, 15))\n",
        "length = len(col)\n",
        "for i, j in itertools.zip_longest(col, range(length)):\n",
        "    plt.subplot((length/2), 3, j + 1)\n",
        "    plt.subplots_adjust(wspace = 0.1,hspace = 0.5)\n",
        "    diabetes_df[i].hist(bins = 20)\n",
        "    plt.title(i)\n",
        "plt.show()"
      ],
      "execution_count": 16,
      "outputs": [
        {
          "output_type": "display_data",
          "data": {
            "image/png": "[encoded data removed]",
            "text/plain": [
              "<Figure size 1440x1080 with 9 Axes>"
            ]
          },
          "metadata": {
            "tags": [],
            "needs_background": "light"
          }
        }
      ]
    },
    {
      "cell_type": "code",
      "metadata": {
        "id": "dAAIY7ywUzNw",
        "colab_type": "code",
        "colab": {
          "base_uri": "https://localhost:8080/",
          "height": 631
        },
        "outputId": "20eb0689-0a8a-499f-885c-f1283ce3e80e"
      },
      "source": [
        "#with 8 plots, by removing the 9th\n",
        "import itertools\n",
        "col = diabetes_df.columns[:8]\n",
        "plt.subplots(figsize = (20, 15))\n",
        "length = len(col)\n",
        "for i, j in itertools.zip_longest(col, range(length)):\n",
        "    plt.subplot((length/2), 3, j + 1)\n",
        "    plt.subplots_adjust(wspace = 0.1,hspace = 0.5)\n",
        "    diabetes_df[i].hist(bins = 20)\n",
        "    plt.title(i)\n",
        "plt.show()"
      ],
      "execution_count": 17,
      "outputs": [
        {
          "output_type": "display_data",
          "data": {
            "image/png": "[encoded data removed]",
            "text/plain": [
              "<Figure size 1440x1080 with 8 Axes>"
            ]
          },
          "metadata": {
            "tags": [],
            "needs_background": "light"
          }
        }
      ]
    },
    {
      "cell_type": "code",
      "metadata": {
        "id": "mwIY-GwMUzFH",
        "colab_type": "code",
        "colab": {
          "base_uri": "https://localhost:8080/",
          "height": 607
        },
        "outputId": "60b0938a-88a1-4822-fe6b-06c762dad919"
      },
      "source": [
        "#Density plot for 3 variables\n",
        "\n",
        "plt.subplots(3,3,figsize=(10,10))\n",
        "\n",
        "for idx, col in enumerate(diabetes_df.columns):\n",
        "    ax = plt.subplot(3,3,idx+1)\n",
        "    ax.yaxis.set_ticklabels([])\n",
        "    sns.distplot(diabetes_df.loc[diabetes_df.Outcome == 0][col], hist=False, axlabel= False, \n",
        "    kde_kws={'linestyle':'-',  \n",
        "    'color':'black', 'label':'No Diabetes'})\n",
        "    sns.distplot(diabetes_df.loc[diabetes_df\n",
        "    .Outcome == 1][col], hist=False, axlabel= False, \n",
        "    kde_kws={'linestyle':'--', \n",
        "    'color':'black', 'label':'Diabetes'})\n",
        "    ax.set_title(col)\n",
        "\n",
        "plt.subplot(3,3,9).set_visible(False)\n",
        "\n",
        "plt.show()"
      ],
      "execution_count": 18,
      "outputs": [
        {
          "output_type": "display_data",
          "data": {
            "image/png": "[encoded data removed]",
            "text/plain": [
              "<Figure size 720x720 with 9 Axes>"
            ]
          },
          "metadata": {
            "tags": [],
            "needs_background": "light"
          }
        }
      ]
    },
    {
      "cell_type": "code",
      "metadata": {
        "id": "8-Tsz6YbP3hm",
        "colab_type": "code",
        "outputId": "11396beb-adcc-4ba1-dc5d-1adb02cb8b8f",
        "colab": {
          "base_uri": "https://localhost:8080/",
          "height": 168
        }
      },
      "source": [
        "print(\"number of rows in dataframe {0}\".format(len(diabetes_df)))\n",
        "print(\"Number of rows missing glucose_conc: {0}\".format(len(diabetes_df.loc[diabetes_df['Glucose'] == 0])))\n",
        "print(\"Number of rows missing diastolic_bp: {0}\".format(len(diabetes_df.loc[diabetes_df['BloodPressure'] == 0])))\n",
        "print(\"Number of rows missing thickness: {0}\".format(len(diabetes_df.loc[diabetes_df['SkinThickness'] == 0])))\n",
        "print(\"Number of rows missing insulin: {0}\".format(len(diabetes_df.loc[diabetes_df['Insulin'] == 0])))\n",
        "print(\"Number of rows missing bmi: {0}\".format(len(diabetes_df.loc[diabetes_df['BMI'] == 0])))\n",
        "print(\"Number of rows missing diab_pred: {0}\".format(len(diabetes_df.loc[diabetes_df['DiabetesPedigreeFunction'] == 0])))\n",
        "print(\"Number of rows missing age: {0}\".format(len(diabetes_df.loc[diabetes_df['Age'] == 0])))\n",
        "print(\"Number of rows missing outcome: {0}\".format(len(diabetes_df.loc[diabetes_df['Outcome'] == 0])))"
      ],
      "execution_count": 19,
      "outputs": [
        {
          "output_type": "stream",
          "text": [
            "number of rows in dataframe 768\n",
            "Number of rows missing glucose_conc: 5\n",
            "Number of rows missing diastolic_bp: 35\n",
            "Number of rows missing thickness: 227\n",
            "Number of rows missing insulin: 374\n",
            "Number of rows missing bmi: 11\n",
            "Number of rows missing diab_pred: 0\n",
            "Number of rows missing age: 0\n",
            "Number of rows missing outcome: 500\n"
          ],
          "name": "stdout"
        }
      ]
    },
    {
      "cell_type": "code",
      "metadata": {
        "id": "rjXVCoa9Ukb0",
        "colab_type": "code",
        "outputId": "f452d836-2726-4dda-edde-684d6d83149d",
        "colab": {
          "base_uri": "https://localhost:8080/",
          "height": 314
        }
      },
      "source": [
        "diabetes_df.describe().T"
      ],
      "execution_count": 20,
      "outputs": [
        {
          "output_type": "execute_result",
          "data": {
            "text/html": [
              "<div>\n",
              "<style scoped>\n",
              "    .dataframe tbody tr th:only-of-type {\n",
              "        vertical-align: middle;\n",
              "    }\n",
              "\n",
              "    .dataframe tbody tr th {\n",
              "        vertical-align: top;\n",
              "    }\n",
              "\n",
              "    .dataframe thead th {\n",
              "        text-align: right;\n",
              "    }\n",
              "</style>\n",
              "<table border=\"1\" class=\"dataframe\">\n",
              "  <thead>\n",
              "    <tr style=\"text-align: right;\">\n",
              "      <th></th>\n",
              "      <th>count</th>\n",
              "      <th>mean</th>\n",
              "      <th>std</th>\n",
              "      <th>min</th>\n",
              "      <th>25%</th>\n",
              "      <th>50%</th>\n",
              "      <th>75%</th>\n",
              "      <th>max</th>\n",
              "    </tr>\n",
              "  </thead>\n",
              "  <tbody>\n",
              "    <tr>\n",
              "      <th>Pregnancies</th>\n",
              "      <td>768.0</td>\n",
              "      <td>3.845052</td>\n",
              "      <td>3.369578</td>\n",
              "      <td>0.000</td>\n",
              "      <td>1.00000</td>\n",
              "      <td>3.0000</td>\n",
              "      <td>6.00000</td>\n",
              "      <td>17.00</td>\n",
              "    </tr>\n",
              "    <tr>\n",
              "      <th>Glucose</th>\n",
              "      <td>768.0</td>\n",
              "      <td>120.894531</td>\n",
              "      <td>31.972618</td>\n",
              "      <td>0.000</td>\n",
              "      <td>99.00000</td>\n",
              "      <td>117.0000</td>\n",
              "      <td>140.25000</td>\n",
              "      <td>199.00</td>\n",
              "    </tr>\n",
              "    <tr>\n",
              "      <th>BloodPressure</th>\n",
              "      <td>768.0</td>\n",
              "      <td>69.105469</td>\n",
              "      <td>19.355807</td>\n",
              "      <td>0.000</td>\n",
              "      <td>62.00000</td>\n",
              "      <td>72.0000</td>\n",
              "      <td>80.00000</td>\n",
              "      <td>122.00</td>\n",
              "    </tr>\n",
              "    <tr>\n",
              "      <th>SkinThickness</th>\n",
              "      <td>768.0</td>\n",
              "      <td>20.536458</td>\n",
              "      <td>15.952218</td>\n",
              "      <td>0.000</td>\n",
              "      <td>0.00000</td>\n",
              "      <td>23.0000</td>\n",
              "      <td>32.00000</td>\n",
              "      <td>99.00</td>\n",
              "    </tr>\n",
              "    <tr>\n",
              "      <th>Insulin</th>\n",
              "      <td>768.0</td>\n",
              "      <td>79.799479</td>\n",
              "      <td>115.244002</td>\n",
              "      <td>0.000</td>\n",
              "      <td>0.00000</td>\n",
              "      <td>30.5000</td>\n",
              "      <td>127.25000</td>\n",
              "      <td>846.00</td>\n",
              "    </tr>\n",
              "    <tr>\n",
              "      <th>BMI</th>\n",
              "      <td>768.0</td>\n",
              "      <td>31.992578</td>\n",
              "      <td>7.884160</td>\n",
              "      <td>0.000</td>\n",
              "      <td>27.30000</td>\n",
              "      <td>32.0000</td>\n",
              "      <td>36.60000</td>\n",
              "      <td>67.10</td>\n",
              "    </tr>\n",
              "    <tr>\n",
              "      <th>DiabetesPedigreeFunction</th>\n",
              "      <td>768.0</td>\n",
              "      <td>0.471876</td>\n",
              "      <td>0.331329</td>\n",
              "      <td>0.078</td>\n",
              "      <td>0.24375</td>\n",
              "      <td>0.3725</td>\n",
              "      <td>0.62625</td>\n",
              "      <td>2.42</td>\n",
              "    </tr>\n",
              "    <tr>\n",
              "      <th>Age</th>\n",
              "      <td>768.0</td>\n",
              "      <td>33.240885</td>\n",
              "      <td>11.760232</td>\n",
              "      <td>21.000</td>\n",
              "      <td>24.00000</td>\n",
              "      <td>29.0000</td>\n",
              "      <td>41.00000</td>\n",
              "      <td>81.00</td>\n",
              "    </tr>\n",
              "    <tr>\n",
              "      <th>Outcome</th>\n",
              "      <td>768.0</td>\n",
              "      <td>0.348958</td>\n",
              "      <td>0.476951</td>\n",
              "      <td>0.000</td>\n",
              "      <td>0.00000</td>\n",
              "      <td>0.0000</td>\n",
              "      <td>1.00000</td>\n",
              "      <td>1.00</td>\n",
              "    </tr>\n",
              "  </tbody>\n",
              "</table>\n",
              "</div>"
            ],
            "text/plain": [
              "                          count        mean  ...        75%     max\n",
              "Pregnancies               768.0    3.845052  ...    6.00000   17.00\n",
              "Glucose                   768.0  120.894531  ...  140.25000  199.00\n",
              "BloodPressure             768.0   69.105469  ...   80.00000  122.00\n",
              "SkinThickness             768.0   20.536458  ...   32.00000   99.00\n",
              "Insulin                   768.0   79.799479  ...  127.25000  846.00\n",
              "BMI                       768.0   31.992578  ...   36.60000   67.10\n",
              "DiabetesPedigreeFunction  768.0    0.471876  ...    0.62625    2.42\n",
              "Age                       768.0   33.240885  ...   41.00000   81.00\n",
              "Outcome                   768.0    0.348958  ...    1.00000    1.00\n",
              "\n",
              "[9 rows x 8 columns]"
            ]
          },
          "metadata": {
            "tags": []
          },
          "execution_count": 20
        }
      ]
    },
    {
      "cell_type": "code",
      "metadata": {
        "id": "TVCxZC9YxqnF",
        "colab_type": "code",
        "outputId": "43d9c6bd-dac8-499c-c6cd-da13bb6e206e",
        "colab": {
          "base_uri": "https://localhost:8080/",
          "height": 185
        }
      },
      "source": [
        "(diabetes_df==0).sum()"
      ],
      "execution_count": 21,
      "outputs": [
        {
          "output_type": "execute_result",
          "data": {
            "text/plain": [
              "Pregnancies                 111\n",
              "Glucose                       5\n",
              "BloodPressure                35\n",
              "SkinThickness               227\n",
              "Insulin                     374\n",
              "BMI                          11\n",
              "DiabetesPedigreeFunction      0\n",
              "Age                           0\n",
              "Outcome                     500\n",
              "dtype: int64"
            ]
          },
          "metadata": {
            "tags": []
          },
          "execution_count": 21
        }
      ]
    },
    {
      "cell_type": "code",
      "metadata": {
        "id": "vp0OAC9GTuHh",
        "colab_type": "code",
        "colab": {}
      },
      "source": [
        "cols=[\"Pregnancies\",\"Glucose\",\"BloodPressure\",\"SkinThickness\",\"Insulin\",\"BMI\"]\n",
        "diabetes_df[cols]=diabetes_df[cols].replace(['0',0],np.nan)"
      ],
      "execution_count": 0,
      "outputs": []
    },
    {
      "cell_type": "code",
      "metadata": {
        "id": "1ucBkaFVUP5Y",
        "colab_type": "code",
        "outputId": "d4a9bee7-5ae0-422d-92dd-31636f43ae21",
        "colab": {
          "base_uri": "https://localhost:8080/",
          "height": 185
        }
      },
      "source": [
        "(diabetes_df==0).sum()\n"
      ],
      "execution_count": 23,
      "outputs": [
        {
          "output_type": "execute_result",
          "data": {
            "text/plain": [
              "Pregnancies                   0\n",
              "Glucose                       0\n",
              "BloodPressure                 0\n",
              "SkinThickness                 0\n",
              "Insulin                       0\n",
              "BMI                           0\n",
              "DiabetesPedigreeFunction      0\n",
              "Age                           0\n",
              "Outcome                     500\n",
              "dtype: int64"
            ]
          },
          "metadata": {
            "tags": []
          },
          "execution_count": 23
        }
      ]
    },
    {
      "cell_type": "code",
      "metadata": {
        "id": "zAWGonL5wsdQ",
        "colab_type": "code",
        "colab": {}
      },
      "source": [
        "diabetes=diabetes_df"
      ],
      "execution_count": 0,
      "outputs": []
    },
    {
      "cell_type": "code",
      "metadata": {
        "id": "g8_NMd3XuqjM",
        "colab_type": "code",
        "outputId": "f0afe711-8492-4a9a-f69c-e987e7fc09fd",
        "colab": {
          "base_uri": "https://localhost:8080/",
          "height": 314
        }
      },
      "source": [
        "diabetes.describe().T"
      ],
      "execution_count": 25,
      "outputs": [
        {
          "output_type": "execute_result",
          "data": {
            "text/html": [
              "<div>\n",
              "<style scoped>\n",
              "    .dataframe tbody tr th:only-of-type {\n",
              "        vertical-align: middle;\n",
              "    }\n",
              "\n",
              "    .dataframe tbody tr th {\n",
              "        vertical-align: top;\n",
              "    }\n",
              "\n",
              "    .dataframe thead th {\n",
              "        text-align: right;\n",
              "    }\n",
              "</style>\n",
              "<table border=\"1\" class=\"dataframe\">\n",
              "  <thead>\n",
              "    <tr style=\"text-align: right;\">\n",
              "      <th></th>\n",
              "      <th>count</th>\n",
              "      <th>mean</th>\n",
              "      <th>std</th>\n",
              "      <th>min</th>\n",
              "      <th>25%</th>\n",
              "      <th>50%</th>\n",
              "      <th>75%</th>\n",
              "      <th>max</th>\n",
              "    </tr>\n",
              "  </thead>\n",
              "  <tbody>\n",
              "    <tr>\n",
              "      <th>Pregnancies</th>\n",
              "      <td>657.0</td>\n",
              "      <td>4.494673</td>\n",
              "      <td>3.217291</td>\n",
              "      <td>1.000</td>\n",
              "      <td>2.00000</td>\n",
              "      <td>4.0000</td>\n",
              "      <td>7.00000</td>\n",
              "      <td>17.00</td>\n",
              "    </tr>\n",
              "    <tr>\n",
              "      <th>Glucose</th>\n",
              "      <td>763.0</td>\n",
              "      <td>121.686763</td>\n",
              "      <td>30.535641</td>\n",
              "      <td>44.000</td>\n",
              "      <td>99.00000</td>\n",
              "      <td>117.0000</td>\n",
              "      <td>141.00000</td>\n",
              "      <td>199.00</td>\n",
              "    </tr>\n",
              "    <tr>\n",
              "      <th>BloodPressure</th>\n",
              "      <td>733.0</td>\n",
              "      <td>72.405184</td>\n",
              "      <td>12.382158</td>\n",
              "      <td>24.000</td>\n",
              "      <td>64.00000</td>\n",
              "      <td>72.0000</td>\n",
              "      <td>80.00000</td>\n",
              "      <td>122.00</td>\n",
              "    </tr>\n",
              "    <tr>\n",
              "      <th>SkinThickness</th>\n",
              "      <td>541.0</td>\n",
              "      <td>29.153420</td>\n",
              "      <td>10.476982</td>\n",
              "      <td>7.000</td>\n",
              "      <td>22.00000</td>\n",
              "      <td>29.0000</td>\n",
              "      <td>36.00000</td>\n",
              "      <td>99.00</td>\n",
              "    </tr>\n",
              "    <tr>\n",
              "      <th>Insulin</th>\n",
              "      <td>394.0</td>\n",
              "      <td>155.548223</td>\n",
              "      <td>118.775855</td>\n",
              "      <td>14.000</td>\n",
              "      <td>76.25000</td>\n",
              "      <td>125.0000</td>\n",
              "      <td>190.00000</td>\n",
              "      <td>846.00</td>\n",
              "    </tr>\n",
              "    <tr>\n",
              "      <th>BMI</th>\n",
              "      <td>757.0</td>\n",
              "      <td>32.457464</td>\n",
              "      <td>6.924988</td>\n",
              "      <td>18.200</td>\n",
              "      <td>27.50000</td>\n",
              "      <td>32.3000</td>\n",
              "      <td>36.60000</td>\n",
              "      <td>67.10</td>\n",
              "    </tr>\n",
              "    <tr>\n",
              "      <th>DiabetesPedigreeFunction</th>\n",
              "      <td>768.0</td>\n",
              "      <td>0.471876</td>\n",
              "      <td>0.331329</td>\n",
              "      <td>0.078</td>\n",
              "      <td>0.24375</td>\n",
              "      <td>0.3725</td>\n",
              "      <td>0.62625</td>\n",
              "      <td>2.42</td>\n",
              "    </tr>\n",
              "    <tr>\n",
              "      <th>Age</th>\n",
              "      <td>768.0</td>\n",
              "      <td>33.240885</td>\n",
              "      <td>11.760232</td>\n",
              "      <td>21.000</td>\n",
              "      <td>24.00000</td>\n",
              "      <td>29.0000</td>\n",
              "      <td>41.00000</td>\n",
              "      <td>81.00</td>\n",
              "    </tr>\n",
              "    <tr>\n",
              "      <th>Outcome</th>\n",
              "      <td>768.0</td>\n",
              "      <td>0.348958</td>\n",
              "      <td>0.476951</td>\n",
              "      <td>0.000</td>\n",
              "      <td>0.00000</td>\n",
              "      <td>0.0000</td>\n",
              "      <td>1.00000</td>\n",
              "      <td>1.00</td>\n",
              "    </tr>\n",
              "  </tbody>\n",
              "</table>\n",
              "</div>"
            ],
            "text/plain": [
              "                          count        mean  ...        75%     max\n",
              "Pregnancies               657.0    4.494673  ...    7.00000   17.00\n",
              "Glucose                   763.0  121.686763  ...  141.00000  199.00\n",
              "BloodPressure             733.0   72.405184  ...   80.00000  122.00\n",
              "SkinThickness             541.0   29.153420  ...   36.00000   99.00\n",
              "Insulin                   394.0  155.548223  ...  190.00000  846.00\n",
              "BMI                       757.0   32.457464  ...   36.60000   67.10\n",
              "DiabetesPedigreeFunction  768.0    0.471876  ...    0.62625    2.42\n",
              "Age                       768.0   33.240885  ...   41.00000   81.00\n",
              "Outcome                   768.0    0.348958  ...    1.00000    1.00\n",
              "\n",
              "[9 rows x 8 columns]"
            ]
          },
          "metadata": {
            "tags": []
          },
          "execution_count": 25
        }
      ]
    },
    {
      "cell_type": "code",
      "metadata": {
        "id": "1qWDlsS-xqpX",
        "colab_type": "code",
        "outputId": "c4d65854-e27c-4a7b-bb78-15948955423c",
        "colab": {
          "base_uri": "https://localhost:8080/",
          "height": 185
        }
      },
      "source": [
        "diabetes.isnull().sum()"
      ],
      "execution_count": 26,
      "outputs": [
        {
          "output_type": "execute_result",
          "data": {
            "text/plain": [
              "Pregnancies                 111\n",
              "Glucose                       5\n",
              "BloodPressure                35\n",
              "SkinThickness               227\n",
              "Insulin                     374\n",
              "BMI                          11\n",
              "DiabetesPedigreeFunction      0\n",
              "Age                           0\n",
              "Outcome                       0\n",
              "dtype: int64"
            ]
          },
          "metadata": {
            "tags": []
          },
          "execution_count": 26
        }
      ]
    },
    {
      "cell_type": "code",
      "metadata": {
        "id": "INoMSBr3Us-n",
        "colab_type": "code",
        "colab": {}
      },
      "source": [
        "diabetes[\"Pregnancies\"].fillna(diabetes[\"Pregnancies\"].mean(), inplace = True)\n",
        "diabetes[\"Glucose\"].fillna(diabetes[\"Glucose\"].mean(), inplace = True)\n",
        "diabetes[\"BloodPressure\"].fillna(diabetes[\"BloodPressure\"].mean(), inplace = True)\n",
        "diabetes[\"SkinThickness\"].fillna(diabetes[\"SkinThickness\"].mean(), inplace = True)\n",
        "diabetes[\"Insulin\"].fillna(diabetes[\"Insulin\"].mean(), inplace = True)\n",
        "diabetes[\"BMI\"].fillna(diabetes[\"BMI\"].mean(), inplace = True)"
      ],
      "execution_count": 0,
      "outputs": []
    },
    {
      "cell_type": "code",
      "metadata": {
        "id": "ZCOBF9NEU5r7",
        "colab_type": "code",
        "outputId": "2dc7b099-5f6d-4b7f-a4c8-b5f2b18d89c9",
        "colab": {
          "base_uri": "https://localhost:8080/",
          "height": 314
        }
      },
      "source": [
        "diabetes.describe().T"
      ],
      "execution_count": 28,
      "outputs": [
        {
          "output_type": "execute_result",
          "data": {
            "text/html": [
              "<div>\n",
              "<style scoped>\n",
              "    .dataframe tbody tr th:only-of-type {\n",
              "        vertical-align: middle;\n",
              "    }\n",
              "\n",
              "    .dataframe tbody tr th {\n",
              "        vertical-align: top;\n",
              "    }\n",
              "\n",
              "    .dataframe thead th {\n",
              "        text-align: right;\n",
              "    }\n",
              "</style>\n",
              "<table border=\"1\" class=\"dataframe\">\n",
              "  <thead>\n",
              "    <tr style=\"text-align: right;\">\n",
              "      <th></th>\n",
              "      <th>count</th>\n",
              "      <th>mean</th>\n",
              "      <th>std</th>\n",
              "      <th>min</th>\n",
              "      <th>25%</th>\n",
              "      <th>50%</th>\n",
              "      <th>75%</th>\n",
              "      <th>max</th>\n",
              "    </tr>\n",
              "  </thead>\n",
              "  <tbody>\n",
              "    <tr>\n",
              "      <th>Pregnancies</th>\n",
              "      <td>768.0</td>\n",
              "      <td>4.494673</td>\n",
              "      <td>2.975395</td>\n",
              "      <td>1.000</td>\n",
              "      <td>2.00000</td>\n",
              "      <td>4.494673</td>\n",
              "      <td>6.000000</td>\n",
              "      <td>17.00</td>\n",
              "    </tr>\n",
              "    <tr>\n",
              "      <th>Glucose</th>\n",
              "      <td>768.0</td>\n",
              "      <td>121.686763</td>\n",
              "      <td>30.435949</td>\n",
              "      <td>44.000</td>\n",
              "      <td>99.75000</td>\n",
              "      <td>117.000000</td>\n",
              "      <td>140.250000</td>\n",
              "      <td>199.00</td>\n",
              "    </tr>\n",
              "    <tr>\n",
              "      <th>BloodPressure</th>\n",
              "      <td>768.0</td>\n",
              "      <td>72.405184</td>\n",
              "      <td>12.096346</td>\n",
              "      <td>24.000</td>\n",
              "      <td>64.00000</td>\n",
              "      <td>72.202592</td>\n",
              "      <td>80.000000</td>\n",
              "      <td>122.00</td>\n",
              "    </tr>\n",
              "    <tr>\n",
              "      <th>SkinThickness</th>\n",
              "      <td>768.0</td>\n",
              "      <td>29.153420</td>\n",
              "      <td>8.790942</td>\n",
              "      <td>7.000</td>\n",
              "      <td>25.00000</td>\n",
              "      <td>29.153420</td>\n",
              "      <td>32.000000</td>\n",
              "      <td>99.00</td>\n",
              "    </tr>\n",
              "    <tr>\n",
              "      <th>Insulin</th>\n",
              "      <td>768.0</td>\n",
              "      <td>155.548223</td>\n",
              "      <td>85.021108</td>\n",
              "      <td>14.000</td>\n",
              "      <td>121.50000</td>\n",
              "      <td>155.548223</td>\n",
              "      <td>155.548223</td>\n",
              "      <td>846.00</td>\n",
              "    </tr>\n",
              "    <tr>\n",
              "      <th>BMI</th>\n",
              "      <td>768.0</td>\n",
              "      <td>32.457464</td>\n",
              "      <td>6.875151</td>\n",
              "      <td>18.200</td>\n",
              "      <td>27.50000</td>\n",
              "      <td>32.400000</td>\n",
              "      <td>36.600000</td>\n",
              "      <td>67.10</td>\n",
              "    </tr>\n",
              "    <tr>\n",
              "      <th>DiabetesPedigreeFunction</th>\n",
              "      <td>768.0</td>\n",
              "      <td>0.471876</td>\n",
              "      <td>0.331329</td>\n",
              "      <td>0.078</td>\n",
              "      <td>0.24375</td>\n",
              "      <td>0.372500</td>\n",
              "      <td>0.626250</td>\n",
              "      <td>2.42</td>\n",
              "    </tr>\n",
              "    <tr>\n",
              "      <th>Age</th>\n",
              "      <td>768.0</td>\n",
              "      <td>33.240885</td>\n",
              "      <td>11.760232</td>\n",
              "      <td>21.000</td>\n",
              "      <td>24.00000</td>\n",
              "      <td>29.000000</td>\n",
              "      <td>41.000000</td>\n",
              "      <td>81.00</td>\n",
              "    </tr>\n",
              "    <tr>\n",
              "      <th>Outcome</th>\n",
              "      <td>768.0</td>\n",
              "      <td>0.348958</td>\n",
              "      <td>0.476951</td>\n",
              "      <td>0.000</td>\n",
              "      <td>0.00000</td>\n",
              "      <td>0.000000</td>\n",
              "      <td>1.000000</td>\n",
              "      <td>1.00</td>\n",
              "    </tr>\n",
              "  </tbody>\n",
              "</table>\n",
              "</div>"
            ],
            "text/plain": [
              "                          count        mean  ...         75%     max\n",
              "Pregnancies               768.0    4.494673  ...    6.000000   17.00\n",
              "Glucose                   768.0  121.686763  ...  140.250000  199.00\n",
              "BloodPressure             768.0   72.405184  ...   80.000000  122.00\n",
              "SkinThickness             768.0   29.153420  ...   32.000000   99.00\n",
              "Insulin                   768.0  155.548223  ...  155.548223  846.00\n",
              "BMI                       768.0   32.457464  ...   36.600000   67.10\n",
              "DiabetesPedigreeFunction  768.0    0.471876  ...    0.626250    2.42\n",
              "Age                       768.0   33.240885  ...   41.000000   81.00\n",
              "Outcome                   768.0    0.348958  ...    1.000000    1.00\n",
              "\n",
              "[9 rows x 8 columns]"
            ]
          },
          "metadata": {
            "tags": []
          },
          "execution_count": 28
        }
      ]
    },
    {
      "cell_type": "code",
      "metadata": {
        "id": "fWBXBwrcxqrK",
        "colab_type": "code",
        "outputId": "2c069ca8-7b8c-4b63-848d-8ccad656a5f1",
        "colab": {
          "base_uri": "https://localhost:8080/",
          "height": 34
        }
      },
      "source": [
        "print(\"Total : \", diabetes_df[diabetes_df.BloodPressure == 0].shape[0])"
      ],
      "execution_count": 29,
      "outputs": [
        {
          "output_type": "stream",
          "text": [
            "Total :  0\n"
          ],
          "name": "stdout"
        }
      ]
    },
    {
      "cell_type": "code",
      "metadata": {
        "id": "7pfCKB-Gxqtw",
        "colab_type": "code",
        "outputId": "f31fbb37-8163-4846-f278-71dfea591412",
        "colab": {
          "base_uri": "https://localhost:8080/",
          "height": 34
        }
      },
      "source": [
        "print(diabetes_df[diabetes_df.BloodPressure == 0].groupby('Outcome')['Age'].count())"
      ],
      "execution_count": 30,
      "outputs": [
        {
          "output_type": "stream",
          "text": [
            "Series([], Name: Age, dtype: int64)\n"
          ],
          "name": "stdout"
        }
      ]
    },
    {
      "cell_type": "code",
      "metadata": {
        "id": "tpTpGMIIxqyl",
        "colab_type": "code",
        "colab": {}
      },
      "source": [
        ""
      ],
      "execution_count": 0,
      "outputs": []
    },
    {
      "cell_type": "code",
      "metadata": {
        "id": "u5pY_-wl1Z2o",
        "colab_type": "code",
        "outputId": "0134b04e-f729-41c5-b120-42ff81257b0e",
        "colab": {
          "base_uri": "https://localhost:8080/",
          "height": 34
        }
      },
      "source": [
        "diabetes_mod = diabetes_df[(diabetes_df.BloodPressure != 0) & (diabetes_df.BMI != 0) & (diabetes_df.Glucose != 0)]\n",
        "print(diabetes_mod.shape)\n"
      ],
      "execution_count": 31,
      "outputs": [
        {
          "output_type": "stream",
          "text": [
            "(768, 9)\n"
          ],
          "name": "stdout"
        }
      ]
    },
    {
      "cell_type": "code",
      "metadata": {
        "id": "S8uiJdTn4RbM",
        "colab_type": "code",
        "colab": {}
      },
      "source": [
        "from sklearn import preprocessing"
      ],
      "execution_count": 0,
      "outputs": []
    },
    {
      "cell_type": "code",
      "metadata": {
        "id": "7Xi7n5du4RrJ",
        "colab_type": "code",
        "outputId": "0f44d5af-9307-4e8a-a70e-209c9839e32d",
        "colab": {
          "base_uri": "https://localhost:8080/",
          "height": 314
        }
      },
      "source": [
        "diabetes.describe().T"
      ],
      "execution_count": 33,
      "outputs": [
        {
          "output_type": "execute_result",
          "data": {
            "text/html": [
              "<div>\n",
              "<style scoped>\n",
              "    .dataframe tbody tr th:only-of-type {\n",
              "        vertical-align: middle;\n",
              "    }\n",
              "\n",
              "    .dataframe tbody tr th {\n",
              "        vertical-align: top;\n",
              "    }\n",
              "\n",
              "    .dataframe thead th {\n",
              "        text-align: right;\n",
              "    }\n",
              "</style>\n",
              "<table border=\"1\" class=\"dataframe\">\n",
              "  <thead>\n",
              "    <tr style=\"text-align: right;\">\n",
              "      <th></th>\n",
              "      <th>count</th>\n",
              "      <th>mean</th>\n",
              "      <th>std</th>\n",
              "      <th>min</th>\n",
              "      <th>25%</th>\n",
              "      <th>50%</th>\n",
              "      <th>75%</th>\n",
              "      <th>max</th>\n",
              "    </tr>\n",
              "  </thead>\n",
              "  <tbody>\n",
              "    <tr>\n",
              "      <th>Pregnancies</th>\n",
              "      <td>768.0</td>\n",
              "      <td>4.494673</td>\n",
              "      <td>2.975395</td>\n",
              "      <td>1.000</td>\n",
              "      <td>2.00000</td>\n",
              "      <td>4.494673</td>\n",
              "      <td>6.000000</td>\n",
              "      <td>17.00</td>\n",
              "    </tr>\n",
              "    <tr>\n",
              "      <th>Glucose</th>\n",
              "      <td>768.0</td>\n",
              "      <td>121.686763</td>\n",
              "      <td>30.435949</td>\n",
              "      <td>44.000</td>\n",
              "      <td>99.75000</td>\n",
              "      <td>117.000000</td>\n",
              "      <td>140.250000</td>\n",
              "      <td>199.00</td>\n",
              "    </tr>\n",
              "    <tr>\n",
              "      <th>BloodPressure</th>\n",
              "      <td>768.0</td>\n",
              "      <td>72.405184</td>\n",
              "      <td>12.096346</td>\n",
              "      <td>24.000</td>\n",
              "      <td>64.00000</td>\n",
              "      <td>72.202592</td>\n",
              "      <td>80.000000</td>\n",
              "      <td>122.00</td>\n",
              "    </tr>\n",
              "    <tr>\n",
              "      <th>SkinThickness</th>\n",
              "      <td>768.0</td>\n",
              "      <td>29.153420</td>\n",
              "      <td>8.790942</td>\n",
              "      <td>7.000</td>\n",
              "      <td>25.00000</td>\n",
              "      <td>29.153420</td>\n",
              "      <td>32.000000</td>\n",
              "      <td>99.00</td>\n",
              "    </tr>\n",
              "    <tr>\n",
              "      <th>Insulin</th>\n",
              "      <td>768.0</td>\n",
              "      <td>155.548223</td>\n",
              "      <td>85.021108</td>\n",
              "      <td>14.000</td>\n",
              "      <td>121.50000</td>\n",
              "      <td>155.548223</td>\n",
              "      <td>155.548223</td>\n",
              "      <td>846.00</td>\n",
              "    </tr>\n",
              "    <tr>\n",
              "      <th>BMI</th>\n",
              "      <td>768.0</td>\n",
              "      <td>32.457464</td>\n",
              "      <td>6.875151</td>\n",
              "      <td>18.200</td>\n",
              "      <td>27.50000</td>\n",
              "      <td>32.400000</td>\n",
              "      <td>36.600000</td>\n",
              "      <td>67.10</td>\n",
              "    </tr>\n",
              "    <tr>\n",
              "      <th>DiabetesPedigreeFunction</th>\n",
              "      <td>768.0</td>\n",
              "      <td>0.471876</td>\n",
              "      <td>0.331329</td>\n",
              "      <td>0.078</td>\n",
              "      <td>0.24375</td>\n",
              "      <td>0.372500</td>\n",
              "      <td>0.626250</td>\n",
              "      <td>2.42</td>\n",
              "    </tr>\n",
              "    <tr>\n",
              "      <th>Age</th>\n",
              "      <td>768.0</td>\n",
              "      <td>33.240885</td>\n",
              "      <td>11.760232</td>\n",
              "      <td>21.000</td>\n",
              "      <td>24.00000</td>\n",
              "      <td>29.000000</td>\n",
              "      <td>41.000000</td>\n",
              "      <td>81.00</td>\n",
              "    </tr>\n",
              "    <tr>\n",
              "      <th>Outcome</th>\n",
              "      <td>768.0</td>\n",
              "      <td>0.348958</td>\n",
              "      <td>0.476951</td>\n",
              "      <td>0.000</td>\n",
              "      <td>0.00000</td>\n",
              "      <td>0.000000</td>\n",
              "      <td>1.000000</td>\n",
              "      <td>1.00</td>\n",
              "    </tr>\n",
              "  </tbody>\n",
              "</table>\n",
              "</div>"
            ],
            "text/plain": [
              "                          count        mean  ...         75%     max\n",
              "Pregnancies               768.0    4.494673  ...    6.000000   17.00\n",
              "Glucose                   768.0  121.686763  ...  140.250000  199.00\n",
              "BloodPressure             768.0   72.405184  ...   80.000000  122.00\n",
              "SkinThickness             768.0   29.153420  ...   32.000000   99.00\n",
              "Insulin                   768.0  155.548223  ...  155.548223  846.00\n",
              "BMI                       768.0   32.457464  ...   36.600000   67.10\n",
              "DiabetesPedigreeFunction  768.0    0.471876  ...    0.626250    2.42\n",
              "Age                       768.0   33.240885  ...   41.000000   81.00\n",
              "Outcome                   768.0    0.348958  ...    1.000000    1.00\n",
              "\n",
              "[9 rows x 8 columns]"
            ]
          },
          "metadata": {
            "tags": []
          },
          "execution_count": 33
        }
      ]
    },
    {
      "cell_type": "code",
      "metadata": {
        "id": "vAOeORA84Ruo",
        "colab_type": "code",
        "outputId": "cb45d6e9-0780-4dcf-9356-deb4ce33dd59",
        "colab": {
          "base_uri": "https://localhost:8080/",
          "height": 118
        }
      },
      "source": [
        "print(diabetes.describe().loc[['mean','std','max'],].round(2).abs())"
      ],
      "execution_count": 34,
      "outputs": [
        {
          "output_type": "stream",
          "text": [
            "      Pregnancies  Glucose  ...    Age  Outcome\n",
            "mean         4.49   121.69  ...  33.24     0.35\n",
            "std          2.98    30.44  ...  11.76     0.48\n",
            "max         17.00   199.00  ...  81.00     1.00\n",
            "\n",
            "[3 rows x 9 columns]\n"
          ],
          "name": "stdout"
        }
      ]
    },
    {
      "cell_type": "code",
      "metadata": {
        "id": "N8DHwELukVvu",
        "colab_type": "code",
        "colab": {}
      },
      "source": [
        "from sklearn import preprocessing"
      ],
      "execution_count": 0,
      "outputs": []
    },
    {
      "cell_type": "code",
      "metadata": {
        "id": "739UbzMbyKCT",
        "colab_type": "code",
        "colab": {}
      },
      "source": [
        "standardized_df = preprocessing.scale(diabetes)"
      ],
      "execution_count": 0,
      "outputs": []
    },
    {
      "cell_type": "code",
      "metadata": {
        "id": "8oKV-tvKyOCC",
        "colab_type": "code",
        "outputId": "8a62edfb-244b-4ee1-eb61-676c2dd8fe4e",
        "colab": {
          "base_uri": "https://localhost:8080/",
          "height": 235
        }
      },
      "source": [
        "standardized_df"
      ],
      "execution_count": 37,
      "outputs": [
        {
          "output_type": "execute_result",
          "data": {
            "text/plain": [
              "array([[ 0.50625491,  0.86510807, -0.03351824, ...,  0.46849198,\n",
              "         1.4259954 ,  1.36589591],\n",
              "       [-1.17528945, -1.20616153, -0.52985903, ..., -0.36506078,\n",
              "        -0.19067191, -0.73212021],\n",
              "       [ 1.17887265,  2.0158134 , -0.69530596, ...,  0.60439732,\n",
              "        -0.10558415,  1.36589591],\n",
              "       ...,\n",
              "       [ 0.16994604, -0.0225789 , -0.03351824, ..., -0.68519336,\n",
              "        -0.27575966, -0.73212021],\n",
              "       [-1.17528945,  0.14180757, -1.02619983, ..., -0.37110101,\n",
              "         1.17073215,  1.36589591],\n",
              "       [-1.17528945, -0.94314317, -0.19896517, ..., -0.47378505,\n",
              "        -0.87137393, -0.73212021]])"
            ]
          },
          "metadata": {
            "tags": []
          },
          "execution_count": 37
        }
      ]
    },
    {
      "cell_type": "code",
      "metadata": {
        "id": "Q_jtUVuByRxQ",
        "colab_type": "code",
        "outputId": "3c6baf2a-7507-468b-d8e2-721e86f5ce6d",
        "colab": {
          "base_uri": "https://localhost:8080/",
          "height": 314
        }
      },
      "source": [
        "#Standardize the data. Take a look at the mean, std. deviation, and the maximum of each of the transformed variables.\n",
        "standardized_df = pd.DataFrame(standardized_df, columns=diabetes.columns)\n",
        "standardized_df.describe().T"
      ],
      "execution_count": 38,
      "outputs": [
        {
          "output_type": "execute_result",
          "data": {
            "text/html": [
              "<div>\n",
              "<style scoped>\n",
              "    .dataframe tbody tr th:only-of-type {\n",
              "        vertical-align: middle;\n",
              "    }\n",
              "\n",
              "    .dataframe tbody tr th {\n",
              "        vertical-align: top;\n",
              "    }\n",
              "\n",
              "    .dataframe thead th {\n",
              "        text-align: right;\n",
              "    }\n",
              "</style>\n",
              "<table border=\"1\" class=\"dataframe\">\n",
              "  <thead>\n",
              "    <tr style=\"text-align: right;\">\n",
              "      <th></th>\n",
              "      <th>count</th>\n",
              "      <th>mean</th>\n",
              "      <th>std</th>\n",
              "      <th>min</th>\n",
              "      <th>25%</th>\n",
              "      <th>50%</th>\n",
              "      <th>75%</th>\n",
              "      <th>max</th>\n",
              "    </tr>\n",
              "  </thead>\n",
              "  <tbody>\n",
              "    <tr>\n",
              "      <th>Pregnancies</th>\n",
              "      <td>768.0</td>\n",
              "      <td>2.266705e-16</td>\n",
              "      <td>1.000652</td>\n",
              "      <td>-1.175289</td>\n",
              "      <td>-0.838981</td>\n",
              "      <td>2.987023e-16</td>\n",
              "      <td>5.062549e-01</td>\n",
              "      <td>4.205652</td>\n",
              "    </tr>\n",
              "    <tr>\n",
              "      <th>Glucose</th>\n",
              "      <td>768.0</td>\n",
              "      <td>-3.301757e-16</td>\n",
              "      <td>1.000652</td>\n",
              "      <td>-2.554131</td>\n",
              "      <td>-0.721221</td>\n",
              "      <td>-1.540881e-01</td>\n",
              "      <td>6.103090e-01</td>\n",
              "      <td>2.541850</td>\n",
              "    </tr>\n",
              "    <tr>\n",
              "      <th>BloodPressure</th>\n",
              "      <td>768.0</td>\n",
              "      <td>6.966722e-16</td>\n",
              "      <td>1.000652</td>\n",
              "      <td>-4.004245</td>\n",
              "      <td>-0.695306</td>\n",
              "      <td>-1.675912e-02</td>\n",
              "      <td>6.282695e-01</td>\n",
              "      <td>4.102655</td>\n",
              "    </tr>\n",
              "    <tr>\n",
              "      <th>SkinThickness</th>\n",
              "      <td>768.0</td>\n",
              "      <td>6.866252e-16</td>\n",
              "      <td>1.000652</td>\n",
              "      <td>-2.521670</td>\n",
              "      <td>-0.472774</td>\n",
              "      <td>8.087936e-16</td>\n",
              "      <td>3.240194e-01</td>\n",
              "      <td>7.950467</td>\n",
              "    </tr>\n",
              "    <tr>\n",
              "      <th>Insulin</th>\n",
              "      <td>768.0</td>\n",
              "      <td>-2.352033e-16</td>\n",
              "      <td>1.000652</td>\n",
              "      <td>-1.665945</td>\n",
              "      <td>-0.400729</td>\n",
              "      <td>-3.345079e-16</td>\n",
              "      <td>-3.345079e-16</td>\n",
              "      <td>8.126238</td>\n",
              "    </tr>\n",
              "    <tr>\n",
              "      <th>BMI</th>\n",
              "      <td>768.0</td>\n",
              "      <td>3.090699e-16</td>\n",
              "      <td>1.000652</td>\n",
              "      <td>-2.075119</td>\n",
              "      <td>-0.721540</td>\n",
              "      <td>-8.363615e-03</td>\n",
              "      <td>6.029301e-01</td>\n",
              "      <td>5.042087</td>\n",
              "    </tr>\n",
              "    <tr>\n",
              "      <th>DiabetesPedigreeFunction</th>\n",
              "      <td>768.0</td>\n",
              "      <td>2.398978e-16</td>\n",
              "      <td>1.000652</td>\n",
              "      <td>-1.189553</td>\n",
              "      <td>-0.688969</td>\n",
              "      <td>-3.001282e-01</td>\n",
              "      <td>4.662269e-01</td>\n",
              "      <td>5.883565</td>\n",
              "    </tr>\n",
              "    <tr>\n",
              "      <th>Age</th>\n",
              "      <td>768.0</td>\n",
              "      <td>1.857600e-16</td>\n",
              "      <td>1.000652</td>\n",
              "      <td>-1.041549</td>\n",
              "      <td>-0.786286</td>\n",
              "      <td>-3.608474e-01</td>\n",
              "      <td>6.602056e-01</td>\n",
              "      <td>4.063716</td>\n",
              "    </tr>\n",
              "    <tr>\n",
              "      <th>Outcome</th>\n",
              "      <td>768.0</td>\n",
              "      <td>2.408374e-16</td>\n",
              "      <td>1.000652</td>\n",
              "      <td>-0.732120</td>\n",
              "      <td>-0.732120</td>\n",
              "      <td>-7.321202e-01</td>\n",
              "      <td>1.365896e+00</td>\n",
              "      <td>1.365896</td>\n",
              "    </tr>\n",
              "  </tbody>\n",
              "</table>\n",
              "</div>"
            ],
            "text/plain": [
              "                          count          mean  ...           75%       max\n",
              "Pregnancies               768.0  2.266705e-16  ...  5.062549e-01  4.205652\n",
              "Glucose                   768.0 -3.301757e-16  ...  6.103090e-01  2.541850\n",
              "BloodPressure             768.0  6.966722e-16  ...  6.282695e-01  4.102655\n",
              "SkinThickness             768.0  6.866252e-16  ...  3.240194e-01  7.950467\n",
              "Insulin                   768.0 -2.352033e-16  ... -3.345079e-16  8.126238\n",
              "BMI                       768.0  3.090699e-16  ...  6.029301e-01  5.042087\n",
              "DiabetesPedigreeFunction  768.0  2.398978e-16  ...  4.662269e-01  5.883565\n",
              "Age                       768.0  1.857600e-16  ...  6.602056e-01  4.063716\n",
              "Outcome                   768.0  2.408374e-16  ...  1.365896e+00  1.365896\n",
              "\n",
              "[9 rows x 8 columns]"
            ]
          },
          "metadata": {
            "tags": []
          },
          "execution_count": 38
        }
      ]
    },
    {
      "cell_type": "code",
      "metadata": {
        "id": "zK-dxkI9B3d7",
        "colab_type": "code",
        "colab": {}
      },
      "source": [
        "#x_diabetes = diabetes.loc[:,diabetes.columns!='Outcome']\n",
        "#y_diabetes = diabetes.loc[:, 'Outcome']"
      ],
      "execution_count": 0,
      "outputs": []
    },
    {
      "cell_type": "code",
      "metadata": {
        "id": "zerKc5XYmyVU",
        "colab_type": "code",
        "outputId": "46622ece-5b0c-487c-e936-44d9b99c0766",
        "colab": {
          "base_uri": "https://localhost:8080/",
          "height": 34
        }
      },
      "source": [
        "features = list(diabetes.columns.values)\n",
        "features.remove('Outcome')\n",
        "print(features)\n",
        "x_diabetes = diabetes[features]\n",
        "y_diabetes = diabetes['Outcome']"
      ],
      "execution_count": 40,
      "outputs": [
        {
          "output_type": "stream",
          "text": [
            "['Pregnancies', 'Glucose', 'BloodPressure', 'SkinThickness', 'Insulin', 'BMI', 'DiabetesPedigreeFunction', 'Age']\n"
          ],
          "name": "stdout"
        }
      ]
    },
    {
      "cell_type": "code",
      "metadata": {
        "id": "Z_k2BpmFBvYk",
        "colab_type": "code",
        "colab": {}
      },
      "source": [
        "from sklearn.model_selection import train_test_split\n",
        "X_train, X_test, y_train, y_test = train_test_split(x_diabetes,y_diabetes, test_size = 0.2, random_state = 2)"
      ],
      "execution_count": 0,
      "outputs": []
    },
    {
      "cell_type": "code",
      "metadata": {
        "id": "CG69Q1GmqOY-",
        "colab_type": "code",
        "colab": {}
      },
      "source": [
        ""
      ],
      "execution_count": 0,
      "outputs": []
    },
    {
      "cell_type": "code",
      "metadata": {
        "id": "oSOUJ3dYnkZX",
        "colab_type": "code",
        "outputId": "8e260943-f6f7-4165-cd5a-9f941400c1fc",
        "colab": {
          "base_uri": "https://localhost:8080/",
          "height": 50
        }
      },
      "source": [
        "print(X_train.shape)\n",
        "print(X_test.shape)"
      ],
      "execution_count": 42,
      "outputs": [
        {
          "output_type": "stream",
          "text": [
            "(614, 8)\n",
            "(154, 8)\n"
          ],
          "name": "stdout"
        }
      ]
    },
    {
      "cell_type": "code",
      "metadata": {
        "id": "vfSShFpZnniR",
        "colab_type": "code",
        "outputId": "2f83406e-895e-4290-abe4-617ccedfdb3f",
        "colab": {
          "base_uri": "https://localhost:8080/",
          "height": 84
        }
      },
      "source": [
        "print(\"X_train shape:\", X_train.shape)\n",
        "print(\"X_test shape:\", X_test.shape)\n",
        "print(\"Y_train shape:\", y_train.shape)\n",
        "print(\"Y_test shape:\", y_test.shape)"
      ],
      "execution_count": 43,
      "outputs": [
        {
          "output_type": "stream",
          "text": [
            "X_train shape: (614, 8)\n",
            "X_test shape: (154, 8)\n",
            "Y_train shape: (614,)\n",
            "Y_test shape: (154,)\n"
          ],
          "name": "stdout"
        }
      ]
    },
    {
      "cell_type": "code",
      "metadata": {
        "id": "qeHkfPSmBva6",
        "colab_type": "code",
        "colab": {}
      },
      "source": [
        "model= Sequential()"
      ],
      "execution_count": 0,
      "outputs": []
    },
    {
      "cell_type": "code",
      "metadata": {
        "id": "xHl0UMcXBvc8",
        "colab_type": "code",
        "colab": {}
      },
      "source": [
        "from keras.layers import Embedding"
      ],
      "execution_count": 0,
      "outputs": []
    },
    {
      "cell_type": "code",
      "metadata": {
        "id": "U9nHz8TYBvfa",
        "colab_type": "code",
        "colab": {}
      },
      "source": [
        "#model.add(Embedding(input_dim=))"
      ],
      "execution_count": 0,
      "outputs": []
    },
    {
      "cell_type": "code",
      "metadata": {
        "id": "wrN60mEMEN_r",
        "colab_type": "code",
        "colab": {}
      },
      "source": [
        "model.add(Dense(32, input_dim=8, kernel_initializer='random_uniform', activation='relu'))\n",
        "model.add(Dense(16, input_dim=8, kernel_initializer='random_uniform', activation='relu'))\n",
        "model.add(Dense(1, input_dim=8, kernel_initializer='random_uniform', activation='sigmoid'))"
      ],
      "execution_count": 0,
      "outputs": []
    },
    {
      "cell_type": "code",
      "metadata": {
        "id": "7PSkA6WEBvhu",
        "colab_type": "code",
        "colab": {}
      },
      "source": [
        ""
      ],
      "execution_count": 0,
      "outputs": []
    },
    {
      "cell_type": "markdown",
      "metadata": {
        "id": "HELMDGI2YFB_",
        "colab_type": "text"
      },
      "source": [
        "###What does cross-entropy mean and refer to?\n",
        "\n",
        "Cross-entropy is commonly used in machine learning as a loss function.\n",
        "\n",
        "Cross-entropy is a measure from the field of information theory, building upon entropy and generally calculating the difference between two probability distributions. It is closely related to but is different from KL divergence that calculates the relative entropy between two probability distributions, whereas cross-entropy can be thought to calculate the total entropy between the distributions.\n",
        "\n",
        "Cross-entropy is also related to and often confused with logistic loss, called log loss. Although the two measures are derived from a different source, when used as loss functions for classification models, both measures calculate the same quantity and can be used interchangeably."
      ]
    },
    {
      "cell_type": "code",
      "metadata": {
        "id": "Y31emULwBvj2",
        "colab_type": "code",
        "outputId": "5fe0e5e3-57fe-4373-9945-d707e08ca033",
        "colab": {
          "base_uri": "https://localhost:8080/",
          "height": 3394
        }
      },
      "source": [
        "model.compile(loss='binary_crossentropy', optimizer='adam', metrics=['accuracy'])\n",
        "model.fit(X_train,y_train,epochs=100,batch_size=10)"
      ],
      "execution_count": 48,
      "outputs": [
        {
          "output_type": "stream",
          "text": [
            "Epoch 1/100\n",
            "614/614 [==============================] - 0s 317us/step - loss: 0.6769 - accuracy: 0.6368\n",
            "Epoch 2/100\n",
            "614/614 [==============================] - 0s 118us/step - loss: 0.6634 - accuracy: 0.6368\n",
            "Epoch 3/100\n",
            "614/614 [==============================] - 0s 114us/step - loss: 0.6440 - accuracy: 0.6515\n",
            "Epoch 4/100\n",
            "614/614 [==============================] - 0s 114us/step - loss: 0.6244 - accuracy: 0.6629\n",
            "Epoch 5/100\n",
            "614/614 [==============================] - 0s 120us/step - loss: 0.6079 - accuracy: 0.7052\n",
            "Epoch 6/100\n",
            "614/614 [==============================] - 0s 117us/step - loss: 0.6131 - accuracy: 0.6808\n",
            "Epoch 7/100\n",
            "614/614 [==============================] - 0s 122us/step - loss: 0.5892 - accuracy: 0.6954\n",
            "Epoch 8/100\n",
            "614/614 [==============================] - 0s 121us/step - loss: 0.5909 - accuracy: 0.6922\n",
            "Epoch 9/100\n",
            "614/614 [==============================] - 0s 122us/step - loss: 0.5802 - accuracy: 0.6954\n",
            "Epoch 10/100\n",
            "614/614 [==============================] - 0s 116us/step - loss: 0.5729 - accuracy: 0.7134\n",
            "Epoch 11/100\n",
            "614/614 [==============================] - 0s 118us/step - loss: 0.5729 - accuracy: 0.7329\n",
            "Epoch 12/100\n",
            "614/614 [==============================] - 0s 120us/step - loss: 0.5721 - accuracy: 0.7248\n",
            "Epoch 13/100\n",
            "614/614 [==============================] - 0s 165us/step - loss: 0.5763 - accuracy: 0.7280\n",
            "Epoch 14/100\n",
            "614/614 [==============================] - 0s 117us/step - loss: 0.5695 - accuracy: 0.7313\n",
            "Epoch 15/100\n",
            "614/614 [==============================] - 0s 125us/step - loss: 0.5630 - accuracy: 0.7182\n",
            "Epoch 16/100\n",
            "614/614 [==============================] - 0s 127us/step - loss: 0.5636 - accuracy: 0.7020\n",
            "Epoch 17/100\n",
            "614/614 [==============================] - 0s 119us/step - loss: 0.5643 - accuracy: 0.7150\n",
            "Epoch 18/100\n",
            "614/614 [==============================] - 0s 118us/step - loss: 0.5821 - accuracy: 0.7068\n",
            "Epoch 19/100\n",
            "614/614 [==============================] - 0s 115us/step - loss: 0.5687 - accuracy: 0.7231\n",
            "Epoch 20/100\n",
            "614/614 [==============================] - 0s 121us/step - loss: 0.5558 - accuracy: 0.7345\n",
            "Epoch 21/100\n",
            "614/614 [==============================] - 0s 118us/step - loss: 0.5558 - accuracy: 0.7280\n",
            "Epoch 22/100\n",
            "614/614 [==============================] - 0s 122us/step - loss: 0.5633 - accuracy: 0.7166\n",
            "Epoch 23/100\n",
            "614/614 [==============================] - 0s 116us/step - loss: 0.5650 - accuracy: 0.7199\n",
            "Epoch 24/100\n",
            "614/614 [==============================] - 0s 117us/step - loss: 0.5522 - accuracy: 0.7264\n",
            "Epoch 25/100\n",
            "614/614 [==============================] - 0s 120us/step - loss: 0.5631 - accuracy: 0.6906\n",
            "Epoch 26/100\n",
            "614/614 [==============================] - 0s 133us/step - loss: 0.5535 - accuracy: 0.7231\n",
            "Epoch 27/100\n",
            "614/614 [==============================] - 0s 115us/step - loss: 0.5437 - accuracy: 0.7296\n",
            "Epoch 28/100\n",
            "614/614 [==============================] - 0s 118us/step - loss: 0.5520 - accuracy: 0.7248\n",
            "Epoch 29/100\n",
            "614/614 [==============================] - 0s 117us/step - loss: 0.5490 - accuracy: 0.7362\n",
            "Epoch 30/100\n",
            "614/614 [==============================] - 0s 115us/step - loss: 0.5492 - accuracy: 0.7296\n",
            "Epoch 31/100\n",
            "614/614 [==============================] - 0s 115us/step - loss: 0.5545 - accuracy: 0.7248\n",
            "Epoch 32/100\n",
            "614/614 [==============================] - 0s 115us/step - loss: 0.5405 - accuracy: 0.7459\n",
            "Epoch 33/100\n",
            "614/614 [==============================] - 0s 124us/step - loss: 0.5489 - accuracy: 0.7231\n",
            "Epoch 34/100\n",
            "614/614 [==============================] - 0s 115us/step - loss: 0.5421 - accuracy: 0.7313\n",
            "Epoch 35/100\n",
            "614/614 [==============================] - 0s 115us/step - loss: 0.5432 - accuracy: 0.7313\n",
            "Epoch 36/100\n",
            "614/614 [==============================] - 0s 115us/step - loss: 0.5443 - accuracy: 0.7264\n",
            "Epoch 37/100\n",
            "614/614 [==============================] - 0s 116us/step - loss: 0.5368 - accuracy: 0.7215\n",
            "Epoch 38/100\n",
            "614/614 [==============================] - 0s 131us/step - loss: 0.5433 - accuracy: 0.7329\n",
            "Epoch 39/100\n",
            "614/614 [==============================] - 0s 118us/step - loss: 0.5390 - accuracy: 0.7296\n",
            "Epoch 40/100\n",
            "614/614 [==============================] - 0s 138us/step - loss: 0.5450 - accuracy: 0.7378\n",
            "Epoch 41/100\n",
            "614/614 [==============================] - 0s 120us/step - loss: 0.5410 - accuracy: 0.7313\n",
            "Epoch 42/100\n",
            "614/614 [==============================] - 0s 113us/step - loss: 0.5319 - accuracy: 0.7248\n",
            "Epoch 43/100\n",
            "614/614 [==============================] - 0s 116us/step - loss: 0.5494 - accuracy: 0.7313\n",
            "Epoch 44/100\n",
            "614/614 [==============================] - 0s 116us/step - loss: 0.5508 - accuracy: 0.7117\n",
            "Epoch 45/100\n",
            "614/614 [==============================] - 0s 117us/step - loss: 0.5752 - accuracy: 0.7101\n",
            "Epoch 46/100\n",
            "614/614 [==============================] - 0s 119us/step - loss: 0.5368 - accuracy: 0.7427\n",
            "Epoch 47/100\n",
            "614/614 [==============================] - 0s 120us/step - loss: 0.5380 - accuracy: 0.7248\n",
            "Epoch 48/100\n",
            "614/614 [==============================] - 0s 122us/step - loss: 0.5388 - accuracy: 0.7410\n",
            "Epoch 49/100\n",
            "614/614 [==============================] - 0s 116us/step - loss: 0.5372 - accuracy: 0.7248\n",
            "Epoch 50/100\n",
            "614/614 [==============================] - 0s 117us/step - loss: 0.5228 - accuracy: 0.7557\n",
            "Epoch 51/100\n",
            "614/614 [==============================] - 0s 116us/step - loss: 0.5237 - accuracy: 0.7508\n",
            "Epoch 52/100\n",
            "614/614 [==============================] - 0s 121us/step - loss: 0.5333 - accuracy: 0.7394\n",
            "Epoch 53/100\n",
            "614/614 [==============================] - 0s 130us/step - loss: 0.5235 - accuracy: 0.7459\n",
            "Epoch 54/100\n",
            "614/614 [==============================] - 0s 113us/step - loss: 0.5205 - accuracy: 0.7508\n",
            "Epoch 55/100\n",
            "614/614 [==============================] - 0s 121us/step - loss: 0.5313 - accuracy: 0.7362\n",
            "Epoch 56/100\n",
            "614/614 [==============================] - 0s 122us/step - loss: 0.5245 - accuracy: 0.7410\n",
            "Epoch 57/100\n",
            "614/614 [==============================] - 0s 116us/step - loss: 0.5230 - accuracy: 0.7378\n",
            "Epoch 58/100\n",
            "614/614 [==============================] - 0s 125us/step - loss: 0.5227 - accuracy: 0.7410\n",
            "Epoch 59/100\n",
            "614/614 [==============================] - 0s 114us/step - loss: 0.5235 - accuracy: 0.7427\n",
            "Epoch 60/100\n",
            "614/614 [==============================] - 0s 118us/step - loss: 0.5328 - accuracy: 0.7378\n",
            "Epoch 61/100\n",
            "614/614 [==============================] - 0s 114us/step - loss: 0.5164 - accuracy: 0.7606\n",
            "Epoch 62/100\n",
            "614/614 [==============================] - 0s 123us/step - loss: 0.5231 - accuracy: 0.7329\n",
            "Epoch 63/100\n",
            "614/614 [==============================] - 0s 120us/step - loss: 0.5134 - accuracy: 0.7362\n",
            "Epoch 64/100\n",
            "614/614 [==============================] - 0s 120us/step - loss: 0.5197 - accuracy: 0.7378\n",
            "Epoch 65/100\n",
            "614/614 [==============================] - 0s 126us/step - loss: 0.5245 - accuracy: 0.7394\n",
            "Epoch 66/100\n",
            "614/614 [==============================] - 0s 126us/step - loss: 0.5068 - accuracy: 0.7590\n",
            "Epoch 67/100\n",
            "614/614 [==============================] - 0s 124us/step - loss: 0.5136 - accuracy: 0.7476\n",
            "Epoch 68/100\n",
            "614/614 [==============================] - 0s 120us/step - loss: 0.5106 - accuracy: 0.7378\n",
            "Epoch 69/100\n",
            "614/614 [==============================] - 0s 127us/step - loss: 0.5157 - accuracy: 0.7606\n",
            "Epoch 70/100\n",
            "614/614 [==============================] - 0s 116us/step - loss: 0.5279 - accuracy: 0.7410\n",
            "Epoch 71/100\n",
            "614/614 [==============================] - 0s 117us/step - loss: 0.5131 - accuracy: 0.7573\n",
            "Epoch 72/100\n",
            "614/614 [==============================] - 0s 120us/step - loss: 0.5111 - accuracy: 0.7476\n",
            "Epoch 73/100\n",
            "614/614 [==============================] - 0s 121us/step - loss: 0.5069 - accuracy: 0.7427\n",
            "Epoch 74/100\n",
            "614/614 [==============================] - 0s 113us/step - loss: 0.5223 - accuracy: 0.7410\n",
            "Epoch 75/100\n",
            "614/614 [==============================] - 0s 114us/step - loss: 0.5107 - accuracy: 0.7524\n",
            "Epoch 76/100\n",
            "614/614 [==============================] - 0s 119us/step - loss: 0.5003 - accuracy: 0.7638\n",
            "Epoch 77/100\n",
            "614/614 [==============================] - 0s 116us/step - loss: 0.5046 - accuracy: 0.7492\n",
            "Epoch 78/100\n",
            "614/614 [==============================] - 0s 123us/step - loss: 0.5102 - accuracy: 0.7492\n",
            "Epoch 79/100\n",
            "614/614 [==============================] - 0s 113us/step - loss: 0.5072 - accuracy: 0.7492\n",
            "Epoch 80/100\n",
            "614/614 [==============================] - 0s 122us/step - loss: 0.5009 - accuracy: 0.7492\n",
            "Epoch 81/100\n",
            "614/614 [==============================] - 0s 119us/step - loss: 0.5022 - accuracy: 0.7573\n",
            "Epoch 82/100\n",
            "614/614 [==============================] - 0s 117us/step - loss: 0.5069 - accuracy: 0.7622\n",
            "Epoch 83/100\n",
            "614/614 [==============================] - 0s 138us/step - loss: 0.4937 - accuracy: 0.7590\n",
            "Epoch 84/100\n",
            "614/614 [==============================] - 0s 114us/step - loss: 0.5077 - accuracy: 0.7590\n",
            "Epoch 85/100\n",
            "614/614 [==============================] - 0s 115us/step - loss: 0.4952 - accuracy: 0.7557\n",
            "Epoch 86/100\n",
            "614/614 [==============================] - 0s 118us/step - loss: 0.5000 - accuracy: 0.7410\n",
            "Epoch 87/100\n",
            "614/614 [==============================] - 0s 115us/step - loss: 0.4971 - accuracy: 0.7622\n",
            "Epoch 88/100\n",
            "614/614 [==============================] - 0s 116us/step - loss: 0.4951 - accuracy: 0.7524\n",
            "Epoch 89/100\n",
            "614/614 [==============================] - 0s 118us/step - loss: 0.4954 - accuracy: 0.7524\n",
            "Epoch 90/100\n",
            "614/614 [==============================] - 0s 118us/step - loss: 0.5045 - accuracy: 0.7671\n",
            "Epoch 91/100\n",
            "614/614 [==============================] - 0s 120us/step - loss: 0.5152 - accuracy: 0.7459\n",
            "Epoch 92/100\n",
            "614/614 [==============================] - 0s 116us/step - loss: 0.5028 - accuracy: 0.7704\n",
            "Epoch 93/100\n",
            "614/614 [==============================] - 0s 117us/step - loss: 0.4879 - accuracy: 0.7752\n",
            "Epoch 94/100\n",
            "614/614 [==============================] - 0s 126us/step - loss: 0.4947 - accuracy: 0.7443\n",
            "Epoch 95/100\n",
            "614/614 [==============================] - 0s 117us/step - loss: 0.4857 - accuracy: 0.7752\n",
            "Epoch 96/100\n",
            "614/614 [==============================] - 0s 118us/step - loss: 0.4963 - accuracy: 0.7508\n",
            "Epoch 97/100\n",
            "614/614 [==============================] - 0s 114us/step - loss: 0.5011 - accuracy: 0.7508\n",
            "Epoch 98/100\n",
            "614/614 [==============================] - 0s 114us/step - loss: 0.4966 - accuracy: 0.7524\n",
            "Epoch 99/100\n",
            "614/614 [==============================] - 0s 114us/step - loss: 0.4922 - accuracy: 0.7557\n",
            "Epoch 100/100\n",
            "614/614 [==============================] - 0s 116us/step - loss: 0.4849 - accuracy: 0.7541\n"
          ],
          "name": "stdout"
        },
        {
          "output_type": "execute_result",
          "data": {
            "text/plain": [
              "<keras.callbacks.callbacks.History at 0x7ff3714511d0>"
            ]
          },
          "metadata": {
            "tags": []
          },
          "execution_count": 48
        }
      ]
    },
    {
      "cell_type": "code",
      "metadata": {
        "id": "dYTZTnNlBvl9",
        "colab_type": "code",
        "outputId": "bd7e4b73-3ba0-4c6c-c578-fd3948537a14",
        "colab": {
          "base_uri": "https://localhost:8080/",
          "height": 118
        }
      },
      "source": [
        "scores = model.evaluate(X_test,y_test)\n",
        "print(\"Testing\"\"\\n%s: %.2f%%\" % (model.metrics_names[1], scores[1]*100))\n",
        "scores = model.evaluate(X_train,y_train)\n",
        "print(\"Training:\"\"\\n%s: %.2f%%\" % (model.metrics_names[1], scores[1]*100))"
      ],
      "execution_count": 49,
      "outputs": [
        {
          "output_type": "stream",
          "text": [
            "154/154 [==============================] - 0s 127us/step\n",
            "Testing\n",
            "accuracy: 74.68%\n",
            "614/614 [==============================] - 0s 21us/step\n",
            "Training:\n",
            "accuracy: 76.38%\n"
          ],
          "name": "stdout"
        }
      ]
    },
    {
      "cell_type": "code",
      "metadata": {
        "id": "qFoi9MXEBvqn",
        "colab_type": "code",
        "outputId": "5b7a84ab-18e4-4072-c6a1-42abf78c52b9",
        "colab": {
          "base_uri": "https://localhost:8080/",
          "height": 34
        }
      },
      "source": [
        "model.fit(X_train, y_train, epochs=200, batch_size=32, verbose=0)"
      ],
      "execution_count": 50,
      "outputs": [
        {
          "output_type": "execute_result",
          "data": {
            "text/plain": [
              "<keras.callbacks.callbacks.History at 0x7ff37141b048>"
            ]
          },
          "metadata": {
            "tags": []
          },
          "execution_count": 50
        }
      ]
    },
    {
      "cell_type": "code",
      "metadata": {
        "id": "s5yZCAJLBvtl",
        "colab_type": "code",
        "colab": {}
      },
      "source": [
        ""
      ],
      "execution_count": 0,
      "outputs": []
    },
    {
      "cell_type": "code",
      "metadata": {
        "id": "jArmlTI_FRFE",
        "colab_type": "code",
        "outputId": "bb087f95-4bbd-458c-a5e1-dd997eebfe79",
        "colab": {
          "base_uri": "https://localhost:8080/",
          "height": 50
        }
      },
      "source": [
        "model.fit(X_train, y_train)\n",
        "y_pred = model.predict(X_test)"
      ],
      "execution_count": 51,
      "outputs": [
        {
          "output_type": "stream",
          "text": [
            "Epoch 1/1\n",
            "614/614 [==============================] - 0s 43us/step - loss: 0.4071 - accuracy: 0.7997\n"
          ],
          "name": "stdout"
        }
      ]
    },
    {
      "cell_type": "code",
      "metadata": {
        "id": "yE_-8KTrLeiy",
        "colab_type": "code",
        "colab": {}
      },
      "source": [
        ""
      ],
      "execution_count": 0,
      "outputs": []
    },
    {
      "cell_type": "code",
      "metadata": {
        "id": "q0aXqaQHL89t",
        "colab_type": "code",
        "outputId": "bfa7a6be-3d86-429b-e4a5-2106d79b21e2",
        "colab": {
          "base_uri": "https://localhost:8080/",
          "height": 3410
        }
      },
      "source": [
        "model.compile(loss='binary_crossentropy', optimizer='adam', metrics=['accuracy'])\n",
        "# Fit the model\n",
        "model.fit(x_diabetes, y_diabetes, validation_split=0.33, epochs=100, batch_size=10)"
      ],
      "execution_count": 52,
      "outputs": [
        {
          "output_type": "stream",
          "text": [
            "Train on 514 samples, validate on 254 samples\n",
            "Epoch 1/100\n",
            "514/514 [==============================] - 0s 378us/step - loss: 0.4616 - accuracy: 0.7724 - val_loss: 0.5667 - val_accuracy: 0.7402\n",
            "Epoch 2/100\n",
            "514/514 [==============================] - 0s 160us/step - loss: 0.4534 - accuracy: 0.7802 - val_loss: 0.4850 - val_accuracy: 0.7677\n",
            "Epoch 3/100\n",
            "514/514 [==============================] - 0s 158us/step - loss: 0.4731 - accuracy: 0.7568 - val_loss: 0.4678 - val_accuracy: 0.7717\n",
            "Epoch 4/100\n",
            "514/514 [==============================] - 0s 157us/step - loss: 0.4655 - accuracy: 0.7607 - val_loss: 0.4031 - val_accuracy: 0.8110\n",
            "Epoch 5/100\n",
            "514/514 [==============================] - 0s 153us/step - loss: 0.4556 - accuracy: 0.7763 - val_loss: 0.4390 - val_accuracy: 0.7913\n",
            "Epoch 6/100\n",
            "514/514 [==============================] - 0s 166us/step - loss: 0.4592 - accuracy: 0.7646 - val_loss: 0.4246 - val_accuracy: 0.8150\n",
            "Epoch 7/100\n",
            "514/514 [==============================] - 0s 160us/step - loss: 0.4400 - accuracy: 0.7840 - val_loss: 0.4365 - val_accuracy: 0.7992\n",
            "Epoch 8/100\n",
            "514/514 [==============================] - 0s 156us/step - loss: 0.4482 - accuracy: 0.7685 - val_loss: 0.4334 - val_accuracy: 0.8189\n",
            "Epoch 9/100\n",
            "514/514 [==============================] - 0s 179us/step - loss: 0.4576 - accuracy: 0.7685 - val_loss: 0.4396 - val_accuracy: 0.8031\n",
            "Epoch 10/100\n",
            "514/514 [==============================] - 0s 163us/step - loss: 0.4434 - accuracy: 0.7840 - val_loss: 0.4234 - val_accuracy: 0.8110\n",
            "Epoch 11/100\n",
            "514/514 [==============================] - 0s 160us/step - loss: 0.4573 - accuracy: 0.7938 - val_loss: 0.4285 - val_accuracy: 0.8031\n",
            "Epoch 12/100\n",
            "514/514 [==============================] - 0s 163us/step - loss: 0.4379 - accuracy: 0.7743 - val_loss: 0.4396 - val_accuracy: 0.7874\n",
            "Epoch 13/100\n",
            "514/514 [==============================] - 0s 169us/step - loss: 0.4583 - accuracy: 0.7704 - val_loss: 0.4276 - val_accuracy: 0.8150\n",
            "Epoch 14/100\n",
            "514/514 [==============================] - 0s 158us/step - loss: 0.4351 - accuracy: 0.7879 - val_loss: 0.4257 - val_accuracy: 0.8110\n",
            "Epoch 15/100\n",
            "514/514 [==============================] - 0s 157us/step - loss: 0.4368 - accuracy: 0.7879 - val_loss: 0.5608 - val_accuracy: 0.7480\n",
            "Epoch 16/100\n",
            "514/514 [==============================] - 0s 160us/step - loss: 0.4552 - accuracy: 0.7743 - val_loss: 0.4285 - val_accuracy: 0.8110\n",
            "Epoch 17/100\n",
            "514/514 [==============================] - 0s 164us/step - loss: 0.4591 - accuracy: 0.7724 - val_loss: 0.4229 - val_accuracy: 0.8150\n",
            "Epoch 18/100\n",
            "514/514 [==============================] - 0s 157us/step - loss: 0.4673 - accuracy: 0.7704 - val_loss: 0.4264 - val_accuracy: 0.8346\n",
            "Epoch 19/100\n",
            "514/514 [==============================] - 0s 160us/step - loss: 0.4441 - accuracy: 0.7763 - val_loss: 0.4573 - val_accuracy: 0.7717\n",
            "Epoch 20/100\n",
            "514/514 [==============================] - 0s 159us/step - loss: 0.4316 - accuracy: 0.8016 - val_loss: 0.4282 - val_accuracy: 0.8031\n",
            "Epoch 21/100\n",
            "514/514 [==============================] - 0s 180us/step - loss: 0.4384 - accuracy: 0.7821 - val_loss: 0.4215 - val_accuracy: 0.8228\n",
            "Epoch 22/100\n",
            "514/514 [==============================] - 0s 160us/step - loss: 0.4429 - accuracy: 0.7763 - val_loss: 0.4178 - val_accuracy: 0.8110\n",
            "Epoch 23/100\n",
            "514/514 [==============================] - 0s 163us/step - loss: 0.4383 - accuracy: 0.7899 - val_loss: 0.4144 - val_accuracy: 0.8189\n",
            "Epoch 24/100\n",
            "514/514 [==============================] - 0s 159us/step - loss: 0.4465 - accuracy: 0.7724 - val_loss: 0.4340 - val_accuracy: 0.7874\n",
            "Epoch 25/100\n",
            "514/514 [==============================] - 0s 166us/step - loss: 0.4443 - accuracy: 0.7879 - val_loss: 0.4083 - val_accuracy: 0.8071\n",
            "Epoch 26/100\n",
            "514/514 [==============================] - 0s 158us/step - loss: 0.4673 - accuracy: 0.7724 - val_loss: 0.4353 - val_accuracy: 0.8031\n",
            "Epoch 27/100\n",
            "514/514 [==============================] - 0s 182us/step - loss: 0.4575 - accuracy: 0.7743 - val_loss: 0.4350 - val_accuracy: 0.7913\n",
            "Epoch 28/100\n",
            "514/514 [==============================] - 0s 157us/step - loss: 0.4473 - accuracy: 0.7626 - val_loss: 0.4155 - val_accuracy: 0.8071\n",
            "Epoch 29/100\n",
            "514/514 [==============================] - 0s 165us/step - loss: 0.4577 - accuracy: 0.7626 - val_loss: 0.4429 - val_accuracy: 0.8031\n",
            "Epoch 30/100\n",
            "514/514 [==============================] - 0s 155us/step - loss: 0.4454 - accuracy: 0.7821 - val_loss: 0.4587 - val_accuracy: 0.7874\n",
            "Epoch 31/100\n",
            "514/514 [==============================] - 0s 163us/step - loss: 0.4350 - accuracy: 0.7802 - val_loss: 0.4426 - val_accuracy: 0.8031\n",
            "Epoch 32/100\n",
            "514/514 [==============================] - 0s 182us/step - loss: 0.4379 - accuracy: 0.7743 - val_loss: 0.4389 - val_accuracy: 0.7835\n",
            "Epoch 33/100\n",
            "514/514 [==============================] - 0s 156us/step - loss: 0.4380 - accuracy: 0.7802 - val_loss: 0.4358 - val_accuracy: 0.7953\n",
            "Epoch 34/100\n",
            "514/514 [==============================] - 0s 158us/step - loss: 0.4246 - accuracy: 0.7899 - val_loss: 0.4413 - val_accuracy: 0.7953\n",
            "Epoch 35/100\n",
            "514/514 [==============================] - 0s 163us/step - loss: 0.4387 - accuracy: 0.7840 - val_loss: 0.4339 - val_accuracy: 0.7835\n",
            "Epoch 36/100\n",
            "514/514 [==============================] - 0s 154us/step - loss: 0.4399 - accuracy: 0.7802 - val_loss: 0.4195 - val_accuracy: 0.8110\n",
            "Epoch 37/100\n",
            "514/514 [==============================] - 0s 167us/step - loss: 0.4322 - accuracy: 0.7879 - val_loss: 0.4300 - val_accuracy: 0.7874\n",
            "Epoch 38/100\n",
            "514/514 [==============================] - 0s 159us/step - loss: 0.4310 - accuracy: 0.7646 - val_loss: 0.4215 - val_accuracy: 0.7953\n",
            "Epoch 39/100\n",
            "514/514 [==============================] - 0s 160us/step - loss: 0.4361 - accuracy: 0.7977 - val_loss: 0.4285 - val_accuracy: 0.8346\n",
            "Epoch 40/100\n",
            "514/514 [==============================] - 0s 159us/step - loss: 0.4338 - accuracy: 0.7840 - val_loss: 0.4225 - val_accuracy: 0.8071\n",
            "Epoch 41/100\n",
            "514/514 [==============================] - 0s 163us/step - loss: 0.4414 - accuracy: 0.7918 - val_loss: 0.4324 - val_accuracy: 0.8189\n",
            "Epoch 42/100\n",
            "514/514 [==============================] - 0s 153us/step - loss: 0.4338 - accuracy: 0.7782 - val_loss: 0.4234 - val_accuracy: 0.8189\n",
            "Epoch 43/100\n",
            "514/514 [==============================] - 0s 163us/step - loss: 0.4418 - accuracy: 0.7704 - val_loss: 0.5055 - val_accuracy: 0.7638\n",
            "Epoch 44/100\n",
            "514/514 [==============================] - 0s 171us/step - loss: 0.4502 - accuracy: 0.7821 - val_loss: 0.4312 - val_accuracy: 0.7953\n",
            "Epoch 45/100\n",
            "514/514 [==============================] - 0s 159us/step - loss: 0.4339 - accuracy: 0.7879 - val_loss: 0.4517 - val_accuracy: 0.8071\n",
            "Epoch 46/100\n",
            "514/514 [==============================] - 0s 176us/step - loss: 0.4483 - accuracy: 0.7704 - val_loss: 0.4857 - val_accuracy: 0.7717\n",
            "Epoch 47/100\n",
            "514/514 [==============================] - 0s 163us/step - loss: 0.4357 - accuracy: 0.7918 - val_loss: 0.4371 - val_accuracy: 0.8071\n",
            "Epoch 48/100\n",
            "514/514 [==============================] - 0s 160us/step - loss: 0.4380 - accuracy: 0.7899 - val_loss: 0.4217 - val_accuracy: 0.8150\n",
            "Epoch 49/100\n",
            "514/514 [==============================] - 0s 166us/step - loss: 0.4306 - accuracy: 0.7782 - val_loss: 0.4366 - val_accuracy: 0.8150\n",
            "Epoch 50/100\n",
            "514/514 [==============================] - 0s 157us/step - loss: 0.4398 - accuracy: 0.7763 - val_loss: 0.4708 - val_accuracy: 0.7835\n",
            "Epoch 51/100\n",
            "514/514 [==============================] - 0s 166us/step - loss: 0.4311 - accuracy: 0.7840 - val_loss: 0.4328 - val_accuracy: 0.8071\n",
            "Epoch 52/100\n",
            "514/514 [==============================] - 0s 167us/step - loss: 0.4285 - accuracy: 0.7899 - val_loss: 0.4210 - val_accuracy: 0.8031\n",
            "Epoch 53/100\n",
            "514/514 [==============================] - 0s 161us/step - loss: 0.4474 - accuracy: 0.7782 - val_loss: 0.4504 - val_accuracy: 0.8228\n",
            "Epoch 54/100\n",
            "514/514 [==============================] - 0s 156us/step - loss: 0.4612 - accuracy: 0.7743 - val_loss: 0.4460 - val_accuracy: 0.7992\n",
            "Epoch 55/100\n",
            "514/514 [==============================] - 0s 165us/step - loss: 0.4139 - accuracy: 0.8074 - val_loss: 0.4635 - val_accuracy: 0.7874\n",
            "Epoch 56/100\n",
            "514/514 [==============================] - 0s 163us/step - loss: 0.4327 - accuracy: 0.7957 - val_loss: 0.4396 - val_accuracy: 0.8031\n",
            "Epoch 57/100\n",
            "514/514 [==============================] - 0s 171us/step - loss: 0.4230 - accuracy: 0.7899 - val_loss: 0.4724 - val_accuracy: 0.7835\n",
            "Epoch 58/100\n",
            "514/514 [==============================] - 0s 159us/step - loss: 0.4320 - accuracy: 0.7821 - val_loss: 0.4404 - val_accuracy: 0.7913\n",
            "Epoch 59/100\n",
            "514/514 [==============================] - 0s 163us/step - loss: 0.4358 - accuracy: 0.7743 - val_loss: 0.4401 - val_accuracy: 0.7874\n",
            "Epoch 60/100\n",
            "514/514 [==============================] - 0s 161us/step - loss: 0.4282 - accuracy: 0.7938 - val_loss: 0.4324 - val_accuracy: 0.7913\n",
            "Epoch 61/100\n",
            "514/514 [==============================] - 0s 168us/step - loss: 0.4250 - accuracy: 0.7918 - val_loss: 0.4466 - val_accuracy: 0.7795\n",
            "Epoch 62/100\n",
            "514/514 [==============================] - 0s 153us/step - loss: 0.4279 - accuracy: 0.7860 - val_loss: 0.4417 - val_accuracy: 0.7953\n",
            "Epoch 63/100\n",
            "514/514 [==============================] - 0s 160us/step - loss: 0.4218 - accuracy: 0.7879 - val_loss: 0.4271 - val_accuracy: 0.8150\n",
            "Epoch 64/100\n",
            "514/514 [==============================] - 0s 160us/step - loss: 0.4318 - accuracy: 0.7840 - val_loss: 0.4450 - val_accuracy: 0.7835\n",
            "Epoch 65/100\n",
            "514/514 [==============================] - 0s 173us/step - loss: 0.4374 - accuracy: 0.7957 - val_loss: 0.4256 - val_accuracy: 0.8071\n",
            "Epoch 66/100\n",
            "514/514 [==============================] - 0s 168us/step - loss: 0.4443 - accuracy: 0.7899 - val_loss: 0.4226 - val_accuracy: 0.8150\n",
            "Epoch 67/100\n",
            "514/514 [==============================] - 0s 159us/step - loss: 0.4363 - accuracy: 0.7938 - val_loss: 0.4395 - val_accuracy: 0.8189\n",
            "Epoch 68/100\n",
            "514/514 [==============================] - 0s 168us/step - loss: 0.4453 - accuracy: 0.7938 - val_loss: 0.4196 - val_accuracy: 0.8110\n",
            "Epoch 69/100\n",
            "514/514 [==============================] - 0s 158us/step - loss: 0.4339 - accuracy: 0.7860 - val_loss: 0.4267 - val_accuracy: 0.7913\n",
            "Epoch 70/100\n",
            "514/514 [==============================] - 0s 155us/step - loss: 0.4153 - accuracy: 0.8074 - val_loss: 0.5000 - val_accuracy: 0.7598\n",
            "Epoch 71/100\n",
            "514/514 [==============================] - 0s 165us/step - loss: 0.4284 - accuracy: 0.7879 - val_loss: 0.4312 - val_accuracy: 0.8110\n",
            "Epoch 72/100\n",
            "514/514 [==============================] - 0s 164us/step - loss: 0.4560 - accuracy: 0.7490 - val_loss: 0.4286 - val_accuracy: 0.7913\n",
            "Epoch 73/100\n",
            "514/514 [==============================] - 0s 165us/step - loss: 0.4469 - accuracy: 0.7802 - val_loss: 0.4252 - val_accuracy: 0.8189\n",
            "Epoch 74/100\n",
            "514/514 [==============================] - 0s 162us/step - loss: 0.4135 - accuracy: 0.8132 - val_loss: 0.4288 - val_accuracy: 0.8110\n",
            "Epoch 75/100\n",
            "514/514 [==============================] - 0s 165us/step - loss: 0.4281 - accuracy: 0.7763 - val_loss: 0.4726 - val_accuracy: 0.7835\n",
            "Epoch 76/100\n",
            "514/514 [==============================] - 0s 174us/step - loss: 0.4393 - accuracy: 0.7802 - val_loss: 0.4348 - val_accuracy: 0.8031\n",
            "Epoch 77/100\n",
            "514/514 [==============================] - 0s 162us/step - loss: 0.4230 - accuracy: 0.7918 - val_loss: 0.4387 - val_accuracy: 0.7913\n",
            "Epoch 78/100\n",
            "514/514 [==============================] - 0s 161us/step - loss: 0.4528 - accuracy: 0.7665 - val_loss: 0.4200 - val_accuracy: 0.8071\n",
            "Epoch 79/100\n",
            "514/514 [==============================] - 0s 156us/step - loss: 0.4181 - accuracy: 0.7957 - val_loss: 0.4339 - val_accuracy: 0.8071\n",
            "Epoch 80/100\n",
            "514/514 [==============================] - 0s 162us/step - loss: 0.4333 - accuracy: 0.7763 - val_loss: 0.4163 - val_accuracy: 0.8150\n",
            "Epoch 81/100\n",
            "514/514 [==============================] - 0s 166us/step - loss: 0.4332 - accuracy: 0.7763 - val_loss: 0.4153 - val_accuracy: 0.8189\n",
            "Epoch 82/100\n",
            "514/514 [==============================] - 0s 166us/step - loss: 0.4483 - accuracy: 0.7607 - val_loss: 0.4477 - val_accuracy: 0.7835\n",
            "Epoch 83/100\n",
            "514/514 [==============================] - 0s 157us/step - loss: 0.4411 - accuracy: 0.7724 - val_loss: 0.4125 - val_accuracy: 0.8228\n",
            "Epoch 84/100\n",
            "514/514 [==============================] - 0s 164us/step - loss: 0.4429 - accuracy: 0.7685 - val_loss: 0.4424 - val_accuracy: 0.7953\n",
            "Epoch 85/100\n",
            "514/514 [==============================] - 0s 161us/step - loss: 0.4252 - accuracy: 0.7802 - val_loss: 0.4157 - val_accuracy: 0.8031\n",
            "Epoch 86/100\n",
            "514/514 [==============================] - 0s 156us/step - loss: 0.4352 - accuracy: 0.7879 - val_loss: 0.4287 - val_accuracy: 0.8031\n",
            "Epoch 87/100\n",
            "514/514 [==============================] - 0s 154us/step - loss: 0.4288 - accuracy: 0.7821 - val_loss: 0.4342 - val_accuracy: 0.8268\n",
            "Epoch 88/100\n",
            "514/514 [==============================] - 0s 165us/step - loss: 0.4370 - accuracy: 0.7840 - val_loss: 0.4285 - val_accuracy: 0.8110\n",
            "Epoch 89/100\n",
            "514/514 [==============================] - 0s 170us/step - loss: 0.4253 - accuracy: 0.7802 - val_loss: 0.4308 - val_accuracy: 0.7874\n",
            "Epoch 90/100\n",
            "514/514 [==============================] - 0s 167us/step - loss: 0.4400 - accuracy: 0.7802 - val_loss: 0.4264 - val_accuracy: 0.8189\n",
            "Epoch 91/100\n",
            "514/514 [==============================] - 0s 161us/step - loss: 0.4324 - accuracy: 0.7840 - val_loss: 0.4364 - val_accuracy: 0.8150\n",
            "Epoch 92/100\n",
            "514/514 [==============================] - 0s 171us/step - loss: 0.4522 - accuracy: 0.7763 - val_loss: 0.4177 - val_accuracy: 0.8150\n",
            "Epoch 93/100\n",
            "514/514 [==============================] - 0s 162us/step - loss: 0.4272 - accuracy: 0.7879 - val_loss: 0.4289 - val_accuracy: 0.8110\n",
            "Epoch 94/100\n",
            "514/514 [==============================] - 0s 157us/step - loss: 0.4369 - accuracy: 0.7782 - val_loss: 0.4662 - val_accuracy: 0.7756\n",
            "Epoch 95/100\n",
            "514/514 [==============================] - 0s 159us/step - loss: 0.4315 - accuracy: 0.7840 - val_loss: 0.4314 - val_accuracy: 0.8071\n",
            "Epoch 96/100\n",
            "514/514 [==============================] - 0s 180us/step - loss: 0.4192 - accuracy: 0.7977 - val_loss: 0.4221 - val_accuracy: 0.8110\n",
            "Epoch 97/100\n",
            "514/514 [==============================] - 0s 155us/step - loss: 0.4275 - accuracy: 0.8054 - val_loss: 0.4398 - val_accuracy: 0.7913\n",
            "Epoch 98/100\n",
            "514/514 [==============================] - 0s 156us/step - loss: 0.4407 - accuracy: 0.7821 - val_loss: 0.4180 - val_accuracy: 0.8150\n",
            "Epoch 99/100\n",
            "514/514 [==============================] - 0s 161us/step - loss: 0.4481 - accuracy: 0.7432 - val_loss: 0.4354 - val_accuracy: 0.8071\n",
            "Epoch 100/100\n",
            "514/514 [==============================] - 0s 160us/step - loss: 0.4298 - accuracy: 0.7899 - val_loss: 0.4301 - val_accuracy: 0.7835\n"
          ],
          "name": "stdout"
        },
        {
          "output_type": "execute_result",
          "data": {
            "text/plain": [
              "<keras.callbacks.callbacks.History at 0x7ff37147a0f0>"
            ]
          },
          "metadata": {
            "tags": []
          },
          "execution_count": 52
        }
      ]
    },
    {
      "cell_type": "code",
      "metadata": {
        "id": "q8GZiHrrY5TK",
        "colab_type": "code",
        "colab": {
          "base_uri": "https://localhost:8080/",
          "height": 34
        },
        "outputId": "7fbfb2c6-469e-4670-c8a2-7db3b0b2f05b"
      },
      "source": [
        "loss, acc = model.evaluate(X_test, y_test, verbose=0)\n",
        "print('Test Accuracy: %.3f' % acc)"
      ],
      "execution_count": 53,
      "outputs": [
        {
          "output_type": "stream",
          "text": [
            "Test Accuracy: 0.786\n"
          ],
          "name": "stdout"
        }
      ]
    },
    {
      "cell_type": "code",
      "metadata": {
        "id": "taBPm8B3L9AU",
        "colab_type": "code",
        "outputId": "e8de365a-7121-41f7-fbd3-044cfb789f8b",
        "colab": {
          "base_uri": "https://localhost:8080/",
          "height": 6770
        }
      },
      "source": [
        "model.compile(loss='binary_crossentropy', optimizer='adam', metrics=['accuracy'])\n",
        "# Fit the model\n",
        "model.fit(x_diabetes, y_diabetes, validation_split=0.33, epochs=200, batch_size=10)"
      ],
      "execution_count": 54,
      "outputs": [
        {
          "output_type": "stream",
          "text": [
            "Train on 514 samples, validate on 254 samples\n",
            "Epoch 1/200\n",
            "514/514 [==============================] - 0s 377us/step - loss: 0.4458 - accuracy: 0.7802 - val_loss: 0.4281 - val_accuracy: 0.8110\n",
            "Epoch 2/200\n",
            "514/514 [==============================] - 0s 155us/step - loss: 0.4271 - accuracy: 0.7802 - val_loss: 0.4425 - val_accuracy: 0.7520\n",
            "Epoch 3/200\n",
            "514/514 [==============================] - 0s 154us/step - loss: 0.4297 - accuracy: 0.7879 - val_loss: 0.4199 - val_accuracy: 0.8110\n",
            "Epoch 4/200\n",
            "514/514 [==============================] - 0s 155us/step - loss: 0.4288 - accuracy: 0.7918 - val_loss: 0.4440 - val_accuracy: 0.7717\n",
            "Epoch 5/200\n",
            "514/514 [==============================] - 0s 155us/step - loss: 0.4215 - accuracy: 0.7918 - val_loss: 0.4240 - val_accuracy: 0.8071\n",
            "Epoch 6/200\n",
            "514/514 [==============================] - 0s 161us/step - loss: 0.4194 - accuracy: 0.7899 - val_loss: 0.4629 - val_accuracy: 0.7953\n",
            "Epoch 7/200\n",
            "514/514 [==============================] - 0s 173us/step - loss: 0.4239 - accuracy: 0.7802 - val_loss: 0.4426 - val_accuracy: 0.7913\n",
            "Epoch 8/200\n",
            "514/514 [==============================] - 0s 176us/step - loss: 0.4409 - accuracy: 0.8016 - val_loss: 0.4719 - val_accuracy: 0.7402\n",
            "Epoch 9/200\n",
            "514/514 [==============================] - 0s 160us/step - loss: 0.4324 - accuracy: 0.7879 - val_loss: 0.4232 - val_accuracy: 0.7874\n",
            "Epoch 10/200\n",
            "514/514 [==============================] - 0s 153us/step - loss: 0.4399 - accuracy: 0.7665 - val_loss: 0.4287 - val_accuracy: 0.8110\n",
            "Epoch 11/200\n",
            "514/514 [==============================] - 0s 162us/step - loss: 0.4251 - accuracy: 0.7957 - val_loss: 0.4457 - val_accuracy: 0.7717\n",
            "Epoch 12/200\n",
            "514/514 [==============================] - 0s 157us/step - loss: 0.4375 - accuracy: 0.7860 - val_loss: 0.4240 - val_accuracy: 0.7992\n",
            "Epoch 13/200\n",
            "514/514 [==============================] - 0s 164us/step - loss: 0.4316 - accuracy: 0.7802 - val_loss: 0.4214 - val_accuracy: 0.7835\n",
            "Epoch 14/200\n",
            "514/514 [==============================] - 0s 158us/step - loss: 0.4403 - accuracy: 0.7763 - val_loss: 0.4667 - val_accuracy: 0.7795\n",
            "Epoch 15/200\n",
            "514/514 [==============================] - 0s 158us/step - loss: 0.4268 - accuracy: 0.7938 - val_loss: 0.4289 - val_accuracy: 0.7953\n",
            "Epoch 16/200\n",
            "514/514 [==============================] - 0s 154us/step - loss: 0.4263 - accuracy: 0.7957 - val_loss: 0.4377 - val_accuracy: 0.8189\n",
            "Epoch 17/200\n",
            "514/514 [==============================] - 0s 174us/step - loss: 0.4313 - accuracy: 0.7879 - val_loss: 0.4225 - val_accuracy: 0.7913\n",
            "Epoch 18/200\n",
            "514/514 [==============================] - 0s 162us/step - loss: 0.4148 - accuracy: 0.7938 - val_loss: 0.4619 - val_accuracy: 0.7913\n",
            "Epoch 19/200\n",
            "514/514 [==============================] - 0s 157us/step - loss: 0.4364 - accuracy: 0.7860 - val_loss: 0.4130 - val_accuracy: 0.8268\n",
            "Epoch 20/200\n",
            "514/514 [==============================] - 0s 171us/step - loss: 0.4251 - accuracy: 0.7899 - val_loss: 0.4093 - val_accuracy: 0.8071\n",
            "Epoch 21/200\n",
            "514/514 [==============================] - 0s 164us/step - loss: 0.4306 - accuracy: 0.7977 - val_loss: 0.4508 - val_accuracy: 0.7795\n",
            "Epoch 22/200\n",
            "514/514 [==============================] - 0s 157us/step - loss: 0.4257 - accuracy: 0.7899 - val_loss: 0.4270 - val_accuracy: 0.8031\n",
            "Epoch 23/200\n",
            "514/514 [==============================] - 0s 158us/step - loss: 0.4284 - accuracy: 0.7938 - val_loss: 0.4470 - val_accuracy: 0.7953\n",
            "Epoch 24/200\n",
            "514/514 [==============================] - 0s 158us/step - loss: 0.4290 - accuracy: 0.7879 - val_loss: 0.4258 - val_accuracy: 0.8150\n",
            "Epoch 25/200\n",
            "514/514 [==============================] - 0s 173us/step - loss: 0.4331 - accuracy: 0.7938 - val_loss: 0.4375 - val_accuracy: 0.7756\n",
            "Epoch 26/200\n",
            "514/514 [==============================] - 0s 160us/step - loss: 0.4239 - accuracy: 0.8035 - val_loss: 0.4361 - val_accuracy: 0.8071\n",
            "Epoch 27/200\n",
            "514/514 [==============================] - 0s 157us/step - loss: 0.4285 - accuracy: 0.7821 - val_loss: 0.4612 - val_accuracy: 0.7638\n",
            "Epoch 28/200\n",
            "514/514 [==============================] - 0s 162us/step - loss: 0.4279 - accuracy: 0.7763 - val_loss: 0.4274 - val_accuracy: 0.8110\n",
            "Epoch 29/200\n",
            "514/514 [==============================] - 0s 154us/step - loss: 0.4511 - accuracy: 0.7840 - val_loss: 0.4376 - val_accuracy: 0.7953\n",
            "Epoch 30/200\n",
            "514/514 [==============================] - 0s 162us/step - loss: 0.4483 - accuracy: 0.7802 - val_loss: 0.4168 - val_accuracy: 0.8110\n",
            "Epoch 31/200\n",
            "514/514 [==============================] - 0s 162us/step - loss: 0.4213 - accuracy: 0.7840 - val_loss: 0.4211 - val_accuracy: 0.7992\n",
            "Epoch 32/200\n",
            "514/514 [==============================] - 0s 163us/step - loss: 0.4091 - accuracy: 0.8054 - val_loss: 0.4394 - val_accuracy: 0.8110\n",
            "Epoch 33/200\n",
            "514/514 [==============================] - 0s 156us/step - loss: 0.4324 - accuracy: 0.7879 - val_loss: 0.4207 - val_accuracy: 0.7953\n",
            "Epoch 34/200\n",
            "514/514 [==============================] - 0s 160us/step - loss: 0.4360 - accuracy: 0.7802 - val_loss: 0.4409 - val_accuracy: 0.8150\n",
            "Epoch 35/200\n",
            "514/514 [==============================] - 0s 160us/step - loss: 0.4438 - accuracy: 0.7763 - val_loss: 0.4223 - val_accuracy: 0.8031\n",
            "Epoch 36/200\n",
            "514/514 [==============================] - 0s 168us/step - loss: 0.4222 - accuracy: 0.7938 - val_loss: 0.4361 - val_accuracy: 0.8110\n",
            "Epoch 37/200\n",
            "514/514 [==============================] - 0s 162us/step - loss: 0.4244 - accuracy: 0.7977 - val_loss: 0.4077 - val_accuracy: 0.8071\n",
            "Epoch 38/200\n",
            "514/514 [==============================] - 0s 158us/step - loss: 0.4227 - accuracy: 0.7899 - val_loss: 0.4579 - val_accuracy: 0.7795\n",
            "Epoch 39/200\n",
            "514/514 [==============================] - 0s 160us/step - loss: 0.4392 - accuracy: 0.7782 - val_loss: 0.4511 - val_accuracy: 0.7992\n",
            "Epoch 40/200\n",
            "514/514 [==============================] - 0s 157us/step - loss: 0.4242 - accuracy: 0.8016 - val_loss: 0.4343 - val_accuracy: 0.7874\n",
            "Epoch 41/200\n",
            "514/514 [==============================] - 0s 159us/step - loss: 0.4331 - accuracy: 0.7977 - val_loss: 0.4092 - val_accuracy: 0.8150\n",
            "Epoch 42/200\n",
            "514/514 [==============================] - 0s 161us/step - loss: 0.4106 - accuracy: 0.8054 - val_loss: 0.4207 - val_accuracy: 0.7913\n",
            "Epoch 43/200\n",
            "514/514 [==============================] - 0s 171us/step - loss: 0.4230 - accuracy: 0.7957 - val_loss: 0.4323 - val_accuracy: 0.7795\n",
            "Epoch 44/200\n",
            "514/514 [==============================] - 0s 179us/step - loss: 0.4205 - accuracy: 0.7763 - val_loss: 0.4161 - val_accuracy: 0.8071\n",
            "Epoch 45/200\n",
            "514/514 [==============================] - 0s 162us/step - loss: 0.4109 - accuracy: 0.7977 - val_loss: 0.4265 - val_accuracy: 0.7795\n",
            "Epoch 46/200\n",
            "514/514 [==============================] - 0s 169us/step - loss: 0.4166 - accuracy: 0.7938 - val_loss: 0.4213 - val_accuracy: 0.8150\n",
            "Epoch 47/200\n",
            "514/514 [==============================] - 0s 159us/step - loss: 0.4329 - accuracy: 0.7802 - val_loss: 0.4282 - val_accuracy: 0.8228\n",
            "Epoch 48/200\n",
            "514/514 [==============================] - 0s 162us/step - loss: 0.4321 - accuracy: 0.7938 - val_loss: 0.4325 - val_accuracy: 0.7992\n",
            "Epoch 49/200\n",
            "514/514 [==============================] - 0s 176us/step - loss: 0.4246 - accuracy: 0.7977 - val_loss: 0.4381 - val_accuracy: 0.7874\n",
            "Epoch 50/200\n",
            "514/514 [==============================] - 0s 164us/step - loss: 0.4236 - accuracy: 0.7918 - val_loss: 0.4438 - val_accuracy: 0.7756\n",
            "Epoch 51/200\n",
            "514/514 [==============================] - 0s 160us/step - loss: 0.4389 - accuracy: 0.7860 - val_loss: 0.4278 - val_accuracy: 0.8110\n",
            "Epoch 52/200\n",
            "514/514 [==============================] - 0s 166us/step - loss: 0.4212 - accuracy: 0.7918 - val_loss: 0.4390 - val_accuracy: 0.7953\n",
            "Epoch 53/200\n",
            "514/514 [==============================] - 0s 161us/step - loss: 0.4112 - accuracy: 0.7918 - val_loss: 0.4206 - val_accuracy: 0.8228\n",
            "Epoch 54/200\n",
            "514/514 [==============================] - 0s 160us/step - loss: 0.4315 - accuracy: 0.7860 - val_loss: 0.4223 - val_accuracy: 0.8110\n",
            "Epoch 55/200\n",
            "514/514 [==============================] - 0s 172us/step - loss: 0.4198 - accuracy: 0.7879 - val_loss: 0.4294 - val_accuracy: 0.7795\n",
            "Epoch 56/200\n",
            "514/514 [==============================] - 0s 171us/step - loss: 0.4217 - accuracy: 0.7957 - val_loss: 0.4294 - val_accuracy: 0.8031\n",
            "Epoch 57/200\n",
            "514/514 [==============================] - 0s 162us/step - loss: 0.4102 - accuracy: 0.7938 - val_loss: 0.4341 - val_accuracy: 0.8031\n",
            "Epoch 58/200\n",
            "514/514 [==============================] - 0s 163us/step - loss: 0.4238 - accuracy: 0.7977 - val_loss: 0.4253 - val_accuracy: 0.7835\n",
            "Epoch 59/200\n",
            "514/514 [==============================] - 0s 163us/step - loss: 0.4168 - accuracy: 0.7879 - val_loss: 0.4649 - val_accuracy: 0.7835\n",
            "Epoch 60/200\n",
            "514/514 [==============================] - 0s 167us/step - loss: 0.4238 - accuracy: 0.8016 - val_loss: 0.4735 - val_accuracy: 0.7717\n",
            "Epoch 61/200\n",
            "514/514 [==============================] - 0s 171us/step - loss: 0.4199 - accuracy: 0.8113 - val_loss: 0.4278 - val_accuracy: 0.8110\n",
            "Epoch 62/200\n",
            "514/514 [==============================] - 0s 160us/step - loss: 0.4068 - accuracy: 0.8113 - val_loss: 0.4394 - val_accuracy: 0.8031\n",
            "Epoch 63/200\n",
            "514/514 [==============================] - 0s 171us/step - loss: 0.4243 - accuracy: 0.7938 - val_loss: 0.4321 - val_accuracy: 0.7835\n",
            "Epoch 64/200\n",
            "514/514 [==============================] - 0s 158us/step - loss: 0.4070 - accuracy: 0.8132 - val_loss: 0.4475 - val_accuracy: 0.7717\n",
            "Epoch 65/200\n",
            "514/514 [==============================] - 0s 159us/step - loss: 0.4106 - accuracy: 0.7957 - val_loss: 0.4367 - val_accuracy: 0.8071\n",
            "Epoch 66/200\n",
            "514/514 [==============================] - 0s 164us/step - loss: 0.4100 - accuracy: 0.8035 - val_loss: 0.4188 - val_accuracy: 0.8189\n",
            "Epoch 67/200\n",
            "514/514 [==============================] - 0s 174us/step - loss: 0.4242 - accuracy: 0.7918 - val_loss: 0.4327 - val_accuracy: 0.7992\n",
            "Epoch 68/200\n",
            "514/514 [==============================] - 0s 186us/step - loss: 0.4191 - accuracy: 0.7821 - val_loss: 0.4349 - val_accuracy: 0.7874\n",
            "Epoch 69/200\n",
            "514/514 [==============================] - 0s 168us/step - loss: 0.4326 - accuracy: 0.8035 - val_loss: 0.4186 - val_accuracy: 0.8189\n",
            "Epoch 70/200\n",
            "514/514 [==============================] - 0s 158us/step - loss: 0.4142 - accuracy: 0.7938 - val_loss: 0.4539 - val_accuracy: 0.7638\n",
            "Epoch 71/200\n",
            "514/514 [==============================] - 0s 164us/step - loss: 0.4141 - accuracy: 0.8113 - val_loss: 0.4358 - val_accuracy: 0.7992\n",
            "Epoch 72/200\n",
            "514/514 [==============================] - 0s 157us/step - loss: 0.4147 - accuracy: 0.7996 - val_loss: 0.4239 - val_accuracy: 0.8031\n",
            "Epoch 73/200\n",
            "514/514 [==============================] - 0s 164us/step - loss: 0.4167 - accuracy: 0.7996 - val_loss: 0.4373 - val_accuracy: 0.8031\n",
            "Epoch 74/200\n",
            "514/514 [==============================] - 0s 169us/step - loss: 0.4116 - accuracy: 0.8035 - val_loss: 0.4222 - val_accuracy: 0.8071\n",
            "Epoch 75/200\n",
            "514/514 [==============================] - 0s 166us/step - loss: 0.4170 - accuracy: 0.8054 - val_loss: 0.4422 - val_accuracy: 0.7795\n",
            "Epoch 76/200\n",
            "514/514 [==============================] - 0s 160us/step - loss: 0.4068 - accuracy: 0.8093 - val_loss: 0.4303 - val_accuracy: 0.7913\n",
            "Epoch 77/200\n",
            "514/514 [==============================] - 0s 158us/step - loss: 0.4025 - accuracy: 0.8132 - val_loss: 0.4244 - val_accuracy: 0.8071\n",
            "Epoch 78/200\n",
            "514/514 [==============================] - 0s 172us/step - loss: 0.4049 - accuracy: 0.7957 - val_loss: 0.4297 - val_accuracy: 0.7795\n",
            "Epoch 79/200\n",
            "514/514 [==============================] - 0s 165us/step - loss: 0.3988 - accuracy: 0.7996 - val_loss: 0.4647 - val_accuracy: 0.7795\n",
            "Epoch 80/200\n",
            "514/514 [==============================] - 0s 158us/step - loss: 0.4106 - accuracy: 0.7957 - val_loss: 0.4374 - val_accuracy: 0.8031\n",
            "Epoch 81/200\n",
            "514/514 [==============================] - 0s 156us/step - loss: 0.4278 - accuracy: 0.7918 - val_loss: 0.4251 - val_accuracy: 0.7835\n",
            "Epoch 82/200\n",
            "514/514 [==============================] - 0s 169us/step - loss: 0.4093 - accuracy: 0.7957 - val_loss: 0.4369 - val_accuracy: 0.8031\n",
            "Epoch 83/200\n",
            "514/514 [==============================] - 0s 162us/step - loss: 0.4134 - accuracy: 0.8035 - val_loss: 0.4170 - val_accuracy: 0.8071\n",
            "Epoch 84/200\n",
            "514/514 [==============================] - 0s 166us/step - loss: 0.4004 - accuracy: 0.8152 - val_loss: 0.4635 - val_accuracy: 0.7795\n",
            "Epoch 85/200\n",
            "514/514 [==============================] - 0s 159us/step - loss: 0.4134 - accuracy: 0.7918 - val_loss: 0.4234 - val_accuracy: 0.7992\n",
            "Epoch 86/200\n",
            "514/514 [==============================] - 0s 153us/step - loss: 0.4126 - accuracy: 0.8016 - val_loss: 0.4445 - val_accuracy: 0.7874\n",
            "Epoch 87/200\n",
            "514/514 [==============================] - 0s 160us/step - loss: 0.3994 - accuracy: 0.8152 - val_loss: 0.4219 - val_accuracy: 0.8110\n",
            "Epoch 88/200\n",
            "514/514 [==============================] - 0s 173us/step - loss: 0.4021 - accuracy: 0.8268 - val_loss: 0.4383 - val_accuracy: 0.8031\n",
            "Epoch 89/200\n",
            "514/514 [==============================] - 0s 171us/step - loss: 0.4127 - accuracy: 0.7782 - val_loss: 0.4490 - val_accuracy: 0.7638\n",
            "Epoch 90/200\n",
            "514/514 [==============================] - 0s 158us/step - loss: 0.3927 - accuracy: 0.8054 - val_loss: 0.4786 - val_accuracy: 0.7913\n",
            "Epoch 91/200\n",
            "514/514 [==============================] - 0s 173us/step - loss: 0.4385 - accuracy: 0.7840 - val_loss: 0.4246 - val_accuracy: 0.8228\n",
            "Epoch 92/200\n",
            "514/514 [==============================] - 0s 157us/step - loss: 0.4252 - accuracy: 0.7802 - val_loss: 0.4388 - val_accuracy: 0.7717\n",
            "Epoch 93/200\n",
            "514/514 [==============================] - 0s 155us/step - loss: 0.4082 - accuracy: 0.8093 - val_loss: 0.4195 - val_accuracy: 0.8189\n",
            "Epoch 94/200\n",
            "514/514 [==============================] - 0s 158us/step - loss: 0.4118 - accuracy: 0.8035 - val_loss: 0.4249 - val_accuracy: 0.7953\n",
            "Epoch 95/200\n",
            "514/514 [==============================] - 0s 162us/step - loss: 0.3935 - accuracy: 0.8054 - val_loss: 0.4418 - val_accuracy: 0.7874\n",
            "Epoch 96/200\n",
            "514/514 [==============================] - 0s 166us/step - loss: 0.3902 - accuracy: 0.8093 - val_loss: 0.4204 - val_accuracy: 0.8228\n",
            "Epoch 97/200\n",
            "514/514 [==============================] - 0s 160us/step - loss: 0.4100 - accuracy: 0.8035 - val_loss: 0.4215 - val_accuracy: 0.7874\n",
            "Epoch 98/200\n",
            "514/514 [==============================] - 0s 164us/step - loss: 0.4062 - accuracy: 0.8054 - val_loss: 0.4340 - val_accuracy: 0.8110\n",
            "Epoch 99/200\n",
            "514/514 [==============================] - 0s 162us/step - loss: 0.4234 - accuracy: 0.7918 - val_loss: 0.4484 - val_accuracy: 0.7953\n",
            "Epoch 100/200\n",
            "514/514 [==============================] - 0s 173us/step - loss: 0.4117 - accuracy: 0.8054 - val_loss: 0.4709 - val_accuracy: 0.7913\n",
            "Epoch 101/200\n",
            "514/514 [==============================] - 0s 159us/step - loss: 0.3938 - accuracy: 0.8113 - val_loss: 0.4480 - val_accuracy: 0.7717\n",
            "Epoch 102/200\n",
            "514/514 [==============================] - 0s 167us/step - loss: 0.4024 - accuracy: 0.7977 - val_loss: 0.4186 - val_accuracy: 0.8189\n",
            "Epoch 103/200\n",
            "514/514 [==============================] - 0s 172us/step - loss: 0.3926 - accuracy: 0.8171 - val_loss: 0.4598 - val_accuracy: 0.7756\n",
            "Epoch 104/200\n",
            "514/514 [==============================] - 0s 159us/step - loss: 0.4083 - accuracy: 0.8016 - val_loss: 0.4404 - val_accuracy: 0.8071\n",
            "Epoch 105/200\n",
            "514/514 [==============================] - 0s 171us/step - loss: 0.4084 - accuracy: 0.8152 - val_loss: 0.4600 - val_accuracy: 0.7756\n",
            "Epoch 106/200\n",
            "514/514 [==============================] - 0s 155us/step - loss: 0.3937 - accuracy: 0.8074 - val_loss: 0.4549 - val_accuracy: 0.8071\n",
            "Epoch 107/200\n",
            "514/514 [==============================] - 0s 162us/step - loss: 0.4122 - accuracy: 0.7996 - val_loss: 0.4261 - val_accuracy: 0.8031\n",
            "Epoch 108/200\n",
            "514/514 [==============================] - 0s 168us/step - loss: 0.4068 - accuracy: 0.7821 - val_loss: 0.4357 - val_accuracy: 0.7835\n",
            "Epoch 109/200\n",
            "514/514 [==============================] - 0s 157us/step - loss: 0.3944 - accuracy: 0.8113 - val_loss: 0.4631 - val_accuracy: 0.8307\n",
            "Epoch 110/200\n",
            "514/514 [==============================] - 0s 175us/step - loss: 0.4171 - accuracy: 0.8016 - val_loss: 0.4276 - val_accuracy: 0.8110\n",
            "Epoch 111/200\n",
            "514/514 [==============================] - 0s 167us/step - loss: 0.3968 - accuracy: 0.8132 - val_loss: 0.4449 - val_accuracy: 0.7795\n",
            "Epoch 112/200\n",
            "514/514 [==============================] - 0s 156us/step - loss: 0.4011 - accuracy: 0.8171 - val_loss: 0.4280 - val_accuracy: 0.8189\n",
            "Epoch 113/200\n",
            "514/514 [==============================] - 0s 169us/step - loss: 0.3965 - accuracy: 0.8132 - val_loss: 0.4285 - val_accuracy: 0.8031\n",
            "Epoch 114/200\n",
            "514/514 [==============================] - 0s 161us/step - loss: 0.3907 - accuracy: 0.7957 - val_loss: 0.4797 - val_accuracy: 0.7835\n",
            "Epoch 115/200\n",
            "514/514 [==============================] - 0s 173us/step - loss: 0.3942 - accuracy: 0.8132 - val_loss: 0.4468 - val_accuracy: 0.7756\n",
            "Epoch 116/200\n",
            "514/514 [==============================] - 0s 162us/step - loss: 0.3966 - accuracy: 0.8093 - val_loss: 0.4326 - val_accuracy: 0.7795\n",
            "Epoch 117/200\n",
            "514/514 [==============================] - 0s 163us/step - loss: 0.4002 - accuracy: 0.8152 - val_loss: 0.4214 - val_accuracy: 0.8110\n",
            "Epoch 118/200\n",
            "514/514 [==============================] - 0s 159us/step - loss: 0.3989 - accuracy: 0.8035 - val_loss: 0.4274 - val_accuracy: 0.7874\n",
            "Epoch 119/200\n",
            "514/514 [==============================] - 0s 165us/step - loss: 0.3869 - accuracy: 0.8191 - val_loss: 0.4334 - val_accuracy: 0.7795\n",
            "Epoch 120/200\n",
            "514/514 [==============================] - 0s 158us/step - loss: 0.3951 - accuracy: 0.8035 - val_loss: 0.4522 - val_accuracy: 0.7795\n",
            "Epoch 121/200\n",
            "514/514 [==============================] - 0s 162us/step - loss: 0.4039 - accuracy: 0.8074 - val_loss: 0.4688 - val_accuracy: 0.7756\n",
            "Epoch 122/200\n",
            "514/514 [==============================] - 0s 161us/step - loss: 0.4081 - accuracy: 0.8016 - val_loss: 0.4219 - val_accuracy: 0.8071\n",
            "Epoch 123/200\n",
            "514/514 [==============================] - 0s 167us/step - loss: 0.4062 - accuracy: 0.7918 - val_loss: 0.4497 - val_accuracy: 0.7835\n",
            "Epoch 124/200\n",
            "514/514 [==============================] - 0s 163us/step - loss: 0.4015 - accuracy: 0.8152 - val_loss: 0.4512 - val_accuracy: 0.7913\n",
            "Epoch 125/200\n",
            "514/514 [==============================] - 0s 159us/step - loss: 0.3970 - accuracy: 0.8113 - val_loss: 0.4765 - val_accuracy: 0.7835\n",
            "Epoch 126/200\n",
            "514/514 [==============================] - 0s 163us/step - loss: 0.3796 - accuracy: 0.8132 - val_loss: 0.4450 - val_accuracy: 0.7717\n",
            "Epoch 127/200\n",
            "514/514 [==============================] - 0s 192us/step - loss: 0.3972 - accuracy: 0.8016 - val_loss: 0.4731 - val_accuracy: 0.7756\n",
            "Epoch 128/200\n",
            "514/514 [==============================] - 0s 165us/step - loss: 0.3930 - accuracy: 0.8074 - val_loss: 0.4227 - val_accuracy: 0.8031\n",
            "Epoch 129/200\n",
            "514/514 [==============================] - 0s 163us/step - loss: 0.4123 - accuracy: 0.8054 - val_loss: 0.4793 - val_accuracy: 0.7638\n",
            "Epoch 130/200\n",
            "514/514 [==============================] - 0s 165us/step - loss: 0.3807 - accuracy: 0.8152 - val_loss: 0.4332 - val_accuracy: 0.8071\n",
            "Epoch 131/200\n",
            "514/514 [==============================] - 0s 155us/step - loss: 0.4089 - accuracy: 0.8035 - val_loss: 0.4407 - val_accuracy: 0.8031\n",
            "Epoch 132/200\n",
            "514/514 [==============================] - 0s 164us/step - loss: 0.3885 - accuracy: 0.8230 - val_loss: 0.4569 - val_accuracy: 0.8071\n",
            "Epoch 133/200\n",
            "514/514 [==============================] - 0s 158us/step - loss: 0.4200 - accuracy: 0.7938 - val_loss: 0.4428 - val_accuracy: 0.7795\n",
            "Epoch 134/200\n",
            "514/514 [==============================] - 0s 162us/step - loss: 0.3854 - accuracy: 0.8210 - val_loss: 0.4469 - val_accuracy: 0.8110\n",
            "Epoch 135/200\n",
            "514/514 [==============================] - 0s 165us/step - loss: 0.4130 - accuracy: 0.8054 - val_loss: 0.4137 - val_accuracy: 0.8228\n",
            "Epoch 136/200\n",
            "514/514 [==============================] - 0s 160us/step - loss: 0.4411 - accuracy: 0.7996 - val_loss: 0.4780 - val_accuracy: 0.7638\n",
            "Epoch 137/200\n",
            "514/514 [==============================] - 0s 159us/step - loss: 0.4111 - accuracy: 0.7996 - val_loss: 0.4259 - val_accuracy: 0.7874\n",
            "Epoch 138/200\n",
            "514/514 [==============================] - 0s 166us/step - loss: 0.4115 - accuracy: 0.8035 - val_loss: 0.5358 - val_accuracy: 0.8150\n",
            "Epoch 139/200\n",
            "514/514 [==============================] - 0s 179us/step - loss: 0.4063 - accuracy: 0.7996 - val_loss: 0.4234 - val_accuracy: 0.8110\n",
            "Epoch 140/200\n",
            "514/514 [==============================] - 0s 163us/step - loss: 0.3827 - accuracy: 0.8093 - val_loss: 0.4476 - val_accuracy: 0.7835\n",
            "Epoch 141/200\n",
            "514/514 [==============================] - 0s 161us/step - loss: 0.3883 - accuracy: 0.8113 - val_loss: 0.4634 - val_accuracy: 0.7559\n",
            "Epoch 142/200\n",
            "514/514 [==============================] - 0s 163us/step - loss: 0.3981 - accuracy: 0.8230 - val_loss: 0.4767 - val_accuracy: 0.7441\n",
            "Epoch 143/200\n",
            "514/514 [==============================] - 0s 161us/step - loss: 0.4045 - accuracy: 0.7977 - val_loss: 0.4276 - val_accuracy: 0.8150\n",
            "Epoch 144/200\n",
            "514/514 [==============================] - 0s 164us/step - loss: 0.3952 - accuracy: 0.8132 - val_loss: 0.4508 - val_accuracy: 0.7992\n",
            "Epoch 145/200\n",
            "514/514 [==============================] - 0s 171us/step - loss: 0.3967 - accuracy: 0.8016 - val_loss: 0.4323 - val_accuracy: 0.8150\n",
            "Epoch 146/200\n",
            "514/514 [==============================] - 0s 166us/step - loss: 0.4122 - accuracy: 0.8132 - val_loss: 0.4590 - val_accuracy: 0.7559\n",
            "Epoch 147/200\n",
            "514/514 [==============================] - 0s 160us/step - loss: 0.3906 - accuracy: 0.8093 - val_loss: 0.4282 - val_accuracy: 0.8307\n",
            "Epoch 148/200\n",
            "514/514 [==============================] - 0s 162us/step - loss: 0.3932 - accuracy: 0.7977 - val_loss: 0.4359 - val_accuracy: 0.7835\n",
            "Epoch 149/200\n",
            "514/514 [==============================] - 0s 158us/step - loss: 0.3977 - accuracy: 0.8093 - val_loss: 0.4503 - val_accuracy: 0.7638\n",
            "Epoch 150/200\n",
            "514/514 [==============================] - 0s 175us/step - loss: 0.3927 - accuracy: 0.8191 - val_loss: 0.4413 - val_accuracy: 0.7835\n",
            "Epoch 151/200\n",
            "514/514 [==============================] - 0s 161us/step - loss: 0.3894 - accuracy: 0.8171 - val_loss: 0.4267 - val_accuracy: 0.8228\n",
            "Epoch 152/200\n",
            "514/514 [==============================] - 0s 161us/step - loss: 0.3952 - accuracy: 0.8074 - val_loss: 0.4426 - val_accuracy: 0.7913\n",
            "Epoch 153/200\n",
            "514/514 [==============================] - 0s 182us/step - loss: 0.3871 - accuracy: 0.8152 - val_loss: 0.4362 - val_accuracy: 0.8110\n",
            "Epoch 154/200\n",
            "514/514 [==============================] - 0s 160us/step - loss: 0.3870 - accuracy: 0.7996 - val_loss: 0.4914 - val_accuracy: 0.7756\n",
            "Epoch 155/200\n",
            "514/514 [==============================] - 0s 160us/step - loss: 0.4032 - accuracy: 0.7918 - val_loss: 0.4222 - val_accuracy: 0.8268\n",
            "Epoch 156/200\n",
            "514/514 [==============================] - 0s 162us/step - loss: 0.3825 - accuracy: 0.8346 - val_loss: 0.4466 - val_accuracy: 0.7874\n",
            "Epoch 157/200\n",
            "514/514 [==============================] - 0s 163us/step - loss: 0.3861 - accuracy: 0.8132 - val_loss: 0.4602 - val_accuracy: 0.7756\n",
            "Epoch 158/200\n",
            "514/514 [==============================] - 0s 160us/step - loss: 0.3956 - accuracy: 0.8191 - val_loss: 0.4313 - val_accuracy: 0.8150\n",
            "Epoch 159/200\n",
            "514/514 [==============================] - 0s 167us/step - loss: 0.4025 - accuracy: 0.8035 - val_loss: 0.4195 - val_accuracy: 0.8268\n",
            "Epoch 160/200\n",
            "514/514 [==============================] - 0s 167us/step - loss: 0.3999 - accuracy: 0.8074 - val_loss: 0.4283 - val_accuracy: 0.8110\n",
            "Epoch 161/200\n",
            "514/514 [==============================] - 0s 163us/step - loss: 0.3946 - accuracy: 0.8093 - val_loss: 0.4242 - val_accuracy: 0.7953\n",
            "Epoch 162/200\n",
            "514/514 [==============================] - 0s 178us/step - loss: 0.3897 - accuracy: 0.8132 - val_loss: 0.4272 - val_accuracy: 0.8071\n",
            "Epoch 163/200\n",
            "514/514 [==============================] - 0s 160us/step - loss: 0.4069 - accuracy: 0.8093 - val_loss: 0.4377 - val_accuracy: 0.7992\n",
            "Epoch 164/200\n",
            "514/514 [==============================] - 0s 159us/step - loss: 0.3872 - accuracy: 0.8113 - val_loss: 0.4376 - val_accuracy: 0.8031\n",
            "Epoch 165/200\n",
            "514/514 [==============================] - 0s 160us/step - loss: 0.3854 - accuracy: 0.8113 - val_loss: 0.5189 - val_accuracy: 0.7756\n",
            "Epoch 166/200\n",
            "514/514 [==============================] - 0s 161us/step - loss: 0.3825 - accuracy: 0.8132 - val_loss: 0.4314 - val_accuracy: 0.8110\n",
            "Epoch 167/200\n",
            "514/514 [==============================] - 0s 166us/step - loss: 0.3902 - accuracy: 0.8191 - val_loss: 0.4363 - val_accuracy: 0.8071\n",
            "Epoch 168/200\n",
            "514/514 [==============================] - 0s 170us/step - loss: 0.3893 - accuracy: 0.8074 - val_loss: 0.4301 - val_accuracy: 0.7874\n",
            "Epoch 169/200\n",
            "514/514 [==============================] - 0s 159us/step - loss: 0.3996 - accuracy: 0.8093 - val_loss: 0.4215 - val_accuracy: 0.7953\n",
            "Epoch 170/200\n",
            "514/514 [==============================] - 0s 173us/step - loss: 0.3750 - accuracy: 0.8249 - val_loss: 0.4503 - val_accuracy: 0.8150\n",
            "Epoch 171/200\n",
            "514/514 [==============================] - 0s 165us/step - loss: 0.3768 - accuracy: 0.8288 - val_loss: 0.4299 - val_accuracy: 0.8150\n",
            "Epoch 172/200\n",
            "514/514 [==============================] - 0s 157us/step - loss: 0.3993 - accuracy: 0.7899 - val_loss: 0.4360 - val_accuracy: 0.7795\n",
            "Epoch 173/200\n",
            "514/514 [==============================] - 0s 162us/step - loss: 0.3838 - accuracy: 0.8249 - val_loss: 0.4391 - val_accuracy: 0.7953\n",
            "Epoch 174/200\n",
            "514/514 [==============================] - 0s 180us/step - loss: 0.3906 - accuracy: 0.8191 - val_loss: 0.4286 - val_accuracy: 0.8031\n",
            "Epoch 175/200\n",
            "514/514 [==============================] - 0s 159us/step - loss: 0.3961 - accuracy: 0.8230 - val_loss: 0.4512 - val_accuracy: 0.8031\n",
            "Epoch 176/200\n",
            "514/514 [==============================] - 0s 170us/step - loss: 0.3773 - accuracy: 0.8249 - val_loss: 0.4315 - val_accuracy: 0.8031\n",
            "Epoch 177/200\n",
            "514/514 [==============================] - 0s 161us/step - loss: 0.3769 - accuracy: 0.8210 - val_loss: 0.4691 - val_accuracy: 0.7835\n",
            "Epoch 178/200\n",
            "514/514 [==============================] - 0s 161us/step - loss: 0.3758 - accuracy: 0.8113 - val_loss: 0.4320 - val_accuracy: 0.8150\n",
            "Epoch 179/200\n",
            "514/514 [==============================] - 0s 166us/step - loss: 0.3781 - accuracy: 0.8191 - val_loss: 0.4578 - val_accuracy: 0.8031\n",
            "Epoch 180/200\n",
            "514/514 [==============================] - 0s 166us/step - loss: 0.3932 - accuracy: 0.8152 - val_loss: 0.4733 - val_accuracy: 0.7717\n",
            "Epoch 181/200\n",
            "514/514 [==============================] - 0s 163us/step - loss: 0.3920 - accuracy: 0.8093 - val_loss: 0.4598 - val_accuracy: 0.7835\n",
            "Epoch 182/200\n",
            "514/514 [==============================] - 0s 167us/step - loss: 0.3883 - accuracy: 0.8054 - val_loss: 0.4452 - val_accuracy: 0.7992\n",
            "Epoch 183/200\n",
            "514/514 [==============================] - 0s 154us/step - loss: 0.4113 - accuracy: 0.7977 - val_loss: 0.4461 - val_accuracy: 0.7874\n",
            "Epoch 184/200\n",
            "514/514 [==============================] - 0s 161us/step - loss: 0.3931 - accuracy: 0.8054 - val_loss: 0.4875 - val_accuracy: 0.7756\n",
            "Epoch 185/200\n",
            "514/514 [==============================] - 0s 164us/step - loss: 0.3870 - accuracy: 0.8191 - val_loss: 0.4438 - val_accuracy: 0.7717\n",
            "Epoch 186/200\n",
            "514/514 [==============================] - 0s 172us/step - loss: 0.3724 - accuracy: 0.8346 - val_loss: 0.4519 - val_accuracy: 0.8031\n",
            "Epoch 187/200\n",
            "514/514 [==============================] - 0s 166us/step - loss: 0.3707 - accuracy: 0.8152 - val_loss: 0.4443 - val_accuracy: 0.8031\n",
            "Epoch 188/200\n",
            "514/514 [==============================] - 0s 164us/step - loss: 0.3685 - accuracy: 0.8288 - val_loss: 0.4593 - val_accuracy: 0.7992\n",
            "Epoch 189/200\n",
            "514/514 [==============================] - 0s 161us/step - loss: 0.3836 - accuracy: 0.8210 - val_loss: 0.4423 - val_accuracy: 0.8268\n",
            "Epoch 190/200\n",
            "514/514 [==============================] - 0s 163us/step - loss: 0.3751 - accuracy: 0.8249 - val_loss: 0.4403 - val_accuracy: 0.8071\n",
            "Epoch 191/200\n",
            "514/514 [==============================] - 0s 175us/step - loss: 0.3794 - accuracy: 0.8288 - val_loss: 0.4638 - val_accuracy: 0.7874\n",
            "Epoch 192/200\n",
            "514/514 [==============================] - 0s 160us/step - loss: 0.3955 - accuracy: 0.8191 - val_loss: 0.4755 - val_accuracy: 0.7756\n",
            "Epoch 193/200\n",
            "514/514 [==============================] - 0s 168us/step - loss: 0.3888 - accuracy: 0.8016 - val_loss: 0.4341 - val_accuracy: 0.8071\n",
            "Epoch 194/200\n",
            "514/514 [==============================] - 0s 170us/step - loss: 0.3960 - accuracy: 0.8054 - val_loss: 0.4452 - val_accuracy: 0.7874\n",
            "Epoch 195/200\n",
            "514/514 [==============================] - 0s 161us/step - loss: 0.3782 - accuracy: 0.8327 - val_loss: 0.4834 - val_accuracy: 0.7992\n",
            "Epoch 196/200\n",
            "514/514 [==============================] - 0s 159us/step - loss: 0.3802 - accuracy: 0.8074 - val_loss: 0.5187 - val_accuracy: 0.7520\n",
            "Epoch 197/200\n",
            "514/514 [==============================] - 0s 174us/step - loss: 0.3871 - accuracy: 0.8191 - val_loss: 0.4739 - val_accuracy: 0.8071\n",
            "Epoch 198/200\n",
            "514/514 [==============================] - 0s 157us/step - loss: 0.3758 - accuracy: 0.8268 - val_loss: 0.4532 - val_accuracy: 0.7992\n",
            "Epoch 199/200\n",
            "514/514 [==============================] - 0s 166us/step - loss: 0.3725 - accuracy: 0.8210 - val_loss: 0.4547 - val_accuracy: 0.7874\n",
            "Epoch 200/200\n",
            "514/514 [==============================] - 0s 157us/step - loss: 0.3881 - accuracy: 0.8093 - val_loss: 0.4306 - val_accuracy: 0.7992\n"
          ],
          "name": "stdout"
        },
        {
          "output_type": "execute_result",
          "data": {
            "text/plain": [
              "<keras.callbacks.callbacks.History at 0x7ff3715276d8>"
            ]
          },
          "metadata": {
            "tags": []
          },
          "execution_count": 54
        }
      ]
    },
    {
      "cell_type": "markdown",
      "metadata": {
        "id": "39SSMmWcZyhe",
        "colab_type": "text"
      },
      "source": [
        "\n",
        "The loss decreases and the accuracy increases over each epoch, as the learning algorithm continuously updates the weights and biases in the MLP according to the training data."
      ]
    },
    {
      "cell_type": "code",
      "metadata": {
        "id": "xM_5t_F0Bvod",
        "colab_type": "code",
        "outputId": "38cf91ff-1857-4916-dcea-5ceb60a2e960",
        "colab": {
          "base_uri": "https://localhost:8080/",
          "height": 50
        }
      },
      "source": [
        "loss, acc = model.evaluate(X_test, y_test, verbose=0)\n",
        "print('Test Accuracy: %.3f' % acc)\n",
        "loss, acc = model.evaluate(X_train,y_train, verbose=0)\n",
        "print('Train Accuracy: %.3f' % acc)"
      ],
      "execution_count": 55,
      "outputs": [
        {
          "output_type": "stream",
          "text": [
            "Test Accuracy: 0.792\n",
            "Train Accuracy: 0.819\n"
          ],
          "name": "stdout"
        }
      ]
    },
    {
      "cell_type": "markdown",
      "metadata": {
        "id": "IVH4ZDaCaZk1",
        "colab_type": "text"
      },
      "source": [
        "The models which are trained more, have more training accuracy and testing accuracy. For the model which is trained with 100 epochs, it has a training accuracy of almost 81.9 percent and testing accuracy of 79.2 percent.\n",
        "Where as, for the model which is trained with 200 epochs, it has a training accuracy of almsot 81.9 percent and testing accuracy of 79.2 percent. If we see the testing accuracies of both models, the number of epochs doesn't seem to be matter as they are almost same.\n",
        "It also shows that the model is overfitting."
      ]
    },
    {
      "cell_type": "code",
      "metadata": {
        "id": "PNzwO_oZL9HA",
        "colab_type": "code",
        "outputId": "a1b79faa-5878-4a4f-9f3a-148a2bb3c770",
        "colab": {
          "base_uri": "https://localhost:8080/",
          "height": 50
        }
      },
      "source": [
        "print('Training accuracy : {}'.format(model.evaluate(X_train,y_train)[1]))"
      ],
      "execution_count": 56,
      "outputs": [
        {
          "output_type": "stream",
          "text": [
            "614/614 [==============================] - 0s 35us/step\n",
            "Training accuracy : 0.8192182183265686\n"
          ],
          "name": "stdout"
        }
      ]
    },
    {
      "cell_type": "code",
      "metadata": {
        "id": "w_MsqLi0PZWv",
        "colab_type": "code",
        "outputId": "4131f81d-310d-40a4-af75-1f44bc71d387",
        "colab": {
          "base_uri": "https://localhost:8080/",
          "height": 50
        }
      },
      "source": [
        "print('Test set accuracy : {}',format(model.evaluate(X_test,y_test)[1]))\n"
      ],
      "execution_count": 57,
      "outputs": [
        {
          "output_type": "stream",
          "text": [
            "154/154 [==============================] - 0s 40us/step\n",
            "Test set accuracy : {} 0.7922077775001526\n"
          ],
          "name": "stdout"
        }
      ]
    },
    {
      "cell_type": "code",
      "metadata": {
        "id": "78QZNuAHPZZd",
        "colab_type": "code",
        "outputId": "85645580-18e4-47ef-8d23-04ba0e393907",
        "colab": {
          "base_uri": "https://localhost:8080/",
          "height": 34
        }
      },
      "source": [
        "pred = [round(i[0]) for i in model.predict(X_test)]\n",
        "X_test.shape"
      ],
      "execution_count": 58,
      "outputs": [
        {
          "output_type": "execute_result",
          "data": {
            "text/plain": [
              "(154, 8)"
            ]
          },
          "metadata": {
            "tags": []
          },
          "execution_count": 58
        }
      ]
    },
    {
      "cell_type": "code",
      "metadata": {
        "id": "Zq0mP2gwPZfB",
        "colab_type": "code",
        "outputId": "4c7048dd-6ef9-4097-c33e-a9235e835df4",
        "colab": {
          "base_uri": "https://localhost:8080/",
          "height": 252
        }
      },
      "source": [
        "model.summary()"
      ],
      "execution_count": 59,
      "outputs": [
        {
          "output_type": "stream",
          "text": [
            "Model: \"sequential_1\"\n",
            "_________________________________________________________________\n",
            "Layer (type)                 Output Shape              Param #   \n",
            "=================================================================\n",
            "dense_1 (Dense)              (None, 32)                288       \n",
            "_________________________________________________________________\n",
            "dense_2 (Dense)              (None, 16)                528       \n",
            "_________________________________________________________________\n",
            "dense_3 (Dense)              (None, 1)                 17        \n",
            "=================================================================\n",
            "Total params: 833\n",
            "Trainable params: 833\n",
            "Non-trainable params: 0\n",
            "_________________________________________________________________\n"
          ],
          "name": "stdout"
        }
      ]
    },
    {
      "cell_type": "code",
      "metadata": {
        "id": "FnT7O-uSPZcO",
        "colab_type": "code",
        "outputId": "66229ecd-d449-44ab-91c6-127983f122e5",
        "colab": {
          "base_uri": "https://localhost:8080/",
          "height": 118
        }
      },
      "source": [
        "from sklearn.metrics import confusion_matrix\n",
        "\n",
        "cm =confusion_matrix(y_test,pred,labels=[1,0])\n",
        "\n",
        "print (cm)\n",
        "\n",
        "print('TP - True Negative {}'.format(cm[0,0]))\n",
        "print('FP - False Positive {}'.format(cm[0,1]))\n",
        "print('FN - False Negative {}'.format(cm[1,0]))\n",
        "print('TP - True Positive {}'.format(cm[1,1]))"
      ],
      "execution_count": 60,
      "outputs": [
        {
          "output_type": "stream",
          "text": [
            "[[31 14]\n",
            " [18 91]]\n",
            "TP - True Negative 31\n",
            "FP - False Positive 14\n",
            "FN - False Negative 18\n",
            "TP - True Positive 91\n"
          ],
          "name": "stdout"
        }
      ]
    },
    {
      "cell_type": "code",
      "metadata": {
        "id": "eJtTK8RQWVsX",
        "colab_type": "code",
        "outputId": "39075388-0885-4a28-8dc3-1aa17954343a",
        "colab": {
          "base_uri": "https://localhost:8080/",
          "height": 284
        }
      },
      "source": [
        "sns.heatmap(pd.DataFrame(cm), annot=True)\n"
      ],
      "execution_count": 61,
      "outputs": [
        {
          "output_type": "execute_result",
          "data": {
            "text/plain": [
              "<matplotlib.axes._subplots.AxesSubplot at 0x7ff371e5df60>"
            ]
          },
          "metadata": {
            "tags": []
          },
          "execution_count": 61
        },
        {
          "output_type": "display_data",
          "data": {
            "image/png": "[encoded data removed]",
            "text/plain": [
              "<Figure size 432x288 with 2 Axes>"
            ]
          },
          "metadata": {
            "tags": [],
            "needs_background": "light"
          }
        }
      ]
    },
    {
      "cell_type": "markdown",
      "metadata": {
        "id": "QOavxWQRcZI8",
        "colab_type": "text"
      },
      "source": [
        "From  the above confusion matrix, 31+91=122 predictions by model are true. "
      ]
    },
    {
      "cell_type": "code",
      "metadata": {
        "id": "eNqF7SvXHlMz",
        "colab_type": "code",
        "colab": {}
      },
      "source": [
        "import numpy as np\n",
        "import matplotlib.pyplot as plt\n",
        "import seaborn as sns\n",
        "import pandas as pd\n",
        "import itertools\n",
        "# for plotting the ROC Curve\n",
        "from sklearn.metrics import roc_curve, auc"
      ],
      "execution_count": 0,
      "outputs": []
    },
    {
      "cell_type": "code",
      "metadata": {
        "id": "vV4RU9h8HlQS",
        "colab_type": "code",
        "colab": {}
      },
      "source": [
        "from sklearn.tree import DecisionTreeClassifier\n",
        "from sklearn import metrics\n",
        "from sklearn.metrics import f1_score\n",
        "from sklearn.metrics import confusion_matrix\n",
        "from sklearn.metrics import log_loss"
      ],
      "execution_count": 0,
      "outputs": []
    },
    {
      "cell_type": "code",
      "metadata": {
        "id": "qUIg8O8oFRLn",
        "colab_type": "code",
        "outputId": "0c42cdd0-b055-4273-e732-8d4ba7761d59",
        "colab": {
          "base_uri": "https://localhost:8080/",
          "height": 84
        }
      },
      "source": [
        "print('X_train shape is',X_train.shape)\n",
        "print('X_test shape is',X_test.shape)\n",
        "print('y_train shape is',y_train.shape)\n",
        "print('y_test shape is',y_test.shape)"
      ],
      "execution_count": 64,
      "outputs": [
        {
          "output_type": "stream",
          "text": [
            "X_train shape is (614, 8)\n",
            "X_test shape is (154, 8)\n",
            "y_train shape is (614,)\n",
            "y_test shape is (154,)\n"
          ],
          "name": "stdout"
        }
      ]
    },
    {
      "cell_type": "code",
      "metadata": {
        "id": "eowi4uvHFROF",
        "colab_type": "code",
        "outputId": "7a27bee7-b12f-4851-cffb-9ab00fb39bb5",
        "colab": {
          "base_uri": "https://localhost:8080/",
          "height": 67
        }
      },
      "source": [
        "score, acc = model.evaluate(X_test, y_test)\n",
        "print('Test score:', score)\n",
        "print('Test accuracy:', acc)"
      ],
      "execution_count": 65,
      "outputs": [
        {
          "output_type": "stream",
          "text": [
            "154/154 [==============================] - 0s 52us/step\n",
            "Test score: 0.3953455102134061\n",
            "Test accuracy: 0.7922077775001526\n"
          ],
          "name": "stdout"
        }
      ]
    },
    {
      "cell_type": "code",
      "metadata": {
        "id": "vcC92OtOI_TU",
        "colab_type": "code",
        "colab": {}
      },
      "source": [
        "from sklearn.metrics import plot_roc_curve"
      ],
      "execution_count": 0,
      "outputs": []
    },
    {
      "cell_type": "code",
      "metadata": {
        "id": "VYdBNaS8FRQ-",
        "colab_type": "code",
        "outputId": "a5e87cdf-070c-474a-ef0b-b321ab35aca1",
        "colab": {
          "base_uri": "https://localhost:8080/",
          "height": 218
        }
      },
      "source": [
        "from sklearn.metrics import classification_report\n",
        "from sklearn.metrics import recall_score, precision_score,f1_score\n",
        "print(classification_report(y_test,pred))\n",
        "print('Recall : ',recall_score(y_test,pred,labels=[1,0]))\n",
        "print('Precision : ',precision_score(y_test,pred,labels=[1,0]))\n",
        "print('F1 Score : ',f1_score(y_test,pred,labels=[1,0]))"
      ],
      "execution_count": 67,
      "outputs": [
        {
          "output_type": "stream",
          "text": [
            "              precision    recall  f1-score   support\n",
            "\n",
            "           0       0.87      0.83      0.85       109\n",
            "           1       0.63      0.69      0.66        45\n",
            "\n",
            "    accuracy                           0.79       154\n",
            "   macro avg       0.75      0.76      0.76       154\n",
            "weighted avg       0.80      0.79      0.79       154\n",
            "\n",
            "Recall :  0.6888888888888889\n",
            "Precision :  0.6326530612244898\n",
            "F1 Score :  0.6595744680851063\n"
          ],
          "name": "stdout"
        }
      ]
    },
    {
      "cell_type": "code",
      "metadata": {
        "id": "IL6WoipjFRJn",
        "colab_type": "code",
        "outputId": "580d0e1f-c3e3-46d1-c969-12bd32be1c80",
        "colab": {
          "base_uri": "https://localhost:8080/",
          "height": 34
        }
      },
      "source": [
        "#calculating the false positive rate, true positive rate and thresholds\n",
        "fpr, tpr, thresholds = roc_curve(y_test, pred)\n",
        "fpr\n",
        "tpr\n",
        "thresholds\n",
        "print(tpr,fpr,thresholds)"
      ],
      "execution_count": 68,
      "outputs": [
        {
          "output_type": "stream",
          "text": [
            "[0.         0.68888889 1.        ] [0.         0.16513761 1.        ] [2. 1. 0.]\n"
          ],
          "name": "stdout"
        }
      ]
    },
    {
      "cell_type": "code",
      "metadata": {
        "id": "ideC4XmmFRHU",
        "colab_type": "code",
        "outputId": "f02cbc57-9762-4c4b-c2ef-7a7b33f04f3b",
        "colab": {
          "base_uri": "https://localhost:8080/",
          "height": 50
        }
      },
      "source": [
        "from sklearn import metrics\n",
        "from sklearn.metrics import accuracy_score, roc_auc_score, roc_curve, auc\n",
        "area_curve=auc(fpr,tpr)\n",
        "area_curve\n",
        "print(area_curve)\n",
        "round(roc_auc_score(y_test,pred),3)"
      ],
      "execution_count": 69,
      "outputs": [
        {
          "output_type": "stream",
          "text": [
            "0.7618756371049948\n"
          ],
          "name": "stdout"
        },
        {
          "output_type": "execute_result",
          "data": {
            "text/plain": [
              "0.762"
            ]
          },
          "metadata": {
            "tags": []
          },
          "execution_count": 69
        }
      ]
    },
    {
      "cell_type": "code",
      "metadata": {
        "id": "8xPJLIfGYDPH",
        "colab_type": "code",
        "outputId": "70c9e979-e1e2-4275-d342-f3d97e01b651",
        "colab": {
          "base_uri": "https://localhost:8080/",
          "height": 310
        }
      },
      "source": [
        "plt.plot(fpr, tpr)\n",
        "plt.xlim([0.0, 1.0])\n",
        "plt.ylim([0.0, 1.0])\n",
        "plt.title('ROC curve for diabetes classifier\\n AUC={auc}'.format(auc=metrics.roc_auc_score(y_test.round(), pred)))\n",
        "plt.xlabel('False Positive Rate')\n",
        "plt.ylabel('True Positive Rate')\n",
        "plt.grid(True)"
      ],
      "execution_count": 70,
      "outputs": [
        {
          "output_type": "display_data",
          "data": {
            "image/png": "[encoded data removed]",
            "text/plain": [
              "<Figure size 432x288 with 1 Axes>"
            ]
          },
          "metadata": {
            "tags": [],
            "needs_background": "light"
          }
        }
      ]
    },
    {
      "cell_type": "code",
      "metadata": {
        "id": "uScLX1AadjcO",
        "colab_type": "code",
        "colab": {
          "base_uri": "https://localhost:8080/",
          "height": 312
        },
        "outputId": "7aec4b7a-5abf-49ec-b6da-5a50bcc42879"
      },
      "source": [
        "y_test_pred_probs = model.predict(X_test)\n",
        "FPR, TPR, _ = roc_curve(y_test, y_test_pred_probs)\n",
        "plt.plot(FPR, TPR)\n",
        "plt.plot([0,1],[0,1],'-', color='red')\n",
        "plt.title('ROC Curve')\n",
        "plt.xlabel('False Positive Rate')\n",
        "plt.ylabel('True Positive Rate')"
      ],
      "execution_count": 71,
      "outputs": [
        {
          "output_type": "execute_result",
          "data": {
            "text/plain": [
              "Text(0, 0.5, 'True Positive Rate')"
            ]
          },
          "metadata": {
            "tags": []
          },
          "execution_count": 71
        },
        {
          "output_type": "display_data",
          "data": {
            "image/png": "[encoded data removed]",
            "text/plain": [
              "<Figure size 432x288 with 1 Axes>"
            ]
          },
          "metadata": {
            "tags": [],
            "needs_background": "light"
          }
        }
      ]
    },
    {
      "cell_type": "markdown",
      "metadata": {
        "id": "nD2PhzLPfHfF",
        "colab_type": "text"
      },
      "source": [
        "The area under the curve (AUC) to evaluate the performance of the model that produced the curve, the model is more differentative able to differentiate the classes with high accuracy.A large AUC indicates that the model is able to differentiate the respective classes with high accuracy, while a low AUC indicates that the model makes poor, often wrong predictions. A ROC curve that lies on the diagonal indicates that the model does no better than random.\n",
        "We can say that the model is good."
      ]
    },
    {
      "cell_type": "code",
      "metadata": {
        "id": "sp176F79YM0-",
        "colab_type": "code",
        "colab": {}
      },
      "source": [
        "#model.save('Diabetes_model')"
      ],
      "execution_count": 0,
      "outputs": []
    },
    {
      "cell_type": "code",
      "metadata": {
        "id": "HtOwtwyke3xg",
        "colab_type": "code",
        "colab": {
          "base_uri": "https://localhost:8080/",
          "height": 252
        },
        "outputId": "9f19f306-dde4-408b-9e00-d2a307711ea0"
      },
      "source": [
        "model.summary()"
      ],
      "execution_count": 73,
      "outputs": [
        {
          "output_type": "stream",
          "text": [
            "Model: \"sequential_1\"\n",
            "_________________________________________________________________\n",
            "Layer (type)                 Output Shape              Param #   \n",
            "=================================================================\n",
            "dense_1 (Dense)              (None, 32)                288       \n",
            "_________________________________________________________________\n",
            "dense_2 (Dense)              (None, 16)                528       \n",
            "_________________________________________________________________\n",
            "dense_3 (Dense)              (None, 1)                 17        \n",
            "=================================================================\n",
            "Total params: 833\n",
            "Trainable params: 833\n",
            "Non-trainable params: 0\n",
            "_________________________________________________________________\n"
          ],
          "name": "stdout"
        }
      ]
    },
    {
      "cell_type": "markdown",
      "metadata": {
        "id": "B6PGDf8UfeqA",
        "colab_type": "text"
      },
      "source": [
        "####Question 10. What is the purpose of the activation function? Provide an example.\n",
        "The purpose of an activation function is to add some kind of non-linear property to the function. Example: Linear Activation Function. It takes the inputs, multiplied by the weights for each neuron, and creates an output signal proportional to the input.\n",
        "  \n",
        "####Question 11. What is binary cross-entropy and when is it used?\n",
        "You use binary crossentropy on multi-label problems.\n",
        "\n",
        "Example: You want to determine the mood of a piece of music. Every piece can have more than one mood, for instance, it can be both \"Happy\" and \"Energetic\" at the same time. To solve this problem you use binary crossentropy.  "
      ]
    },
    {
      "cell_type": "markdown",
      "metadata": {
        "id": "muleqraU69kC",
        "colab_type": "text"
      },
      "source": [
        "#Exercise 3. Natural Language Processing Applications (40 points)"
      ]
    },
    {
      "cell_type": "markdown",
      "metadata": {
        "id": "kikMlnq56oya",
        "colab_type": "text"
      },
      "source": [
        "\n",
        "Use the ‘train_comment_small_100.csv’ in Data Files folder.\n",
        "Question 1. Open a new Jupyter notebook or Google Colab. Import numpy, pandas and\n",
        "matplotlib.pyplot. Load the dataset into a data frame.\n",
        "\n",
        "Question 2. Next step is to clean and prepare the data. Import re and nltk. From\n",
        "nltk.corpus import stopwords. From nltk.stem.porter, import PorterStemmer. Create\n",
        "an array for your cleaned text to be stored in.\n",
        "\n",
        "Question 3. Using a for loop, iterate through every instance (every review). Replace all\n",
        "non-alphabets with a ' ' (whitespace). Convert all alphabets into lowercase. Split each\n",
        "review into individual words. Initiate the PorterStemmer. If the word is not a stopword,\n",
        "perform stemming on the word. Join all the individual words back together to form a\n",
        "cleaned review. Append this cleaned review to the array you created.\n",
        "\n",
        "Question 4. Import CountVectorizer. Convert the reviews into word count vectors using\n",
        "CountVectorizer.\n",
        "\n",
        "Question 5. Create an array to store each unique word as its own column, hence\n",
        "making them independent variables.\n",
        "\n",
        "Question 6. Import LabelEncoder from sklearn.preprocessing. Use the LabelEncoder\n",
        "on the target output (y).\n",
        "\n",
        "Question 7. Import train_test_split. Divide the dataset into a training set and a\n",
        "validation set (80/20).\n",
        "\n",
        "Question 8. Import StandardScaler from sklearn.preprocessing. Use the\n",
        "StandardScaler on the features of both the training set and the validation set (X).\n",
        "\n",
        "Question 9. Now the next task is to create the neural network. Import keras. Import\n",
        "Sequential from keras.models and Dense from Keras layers.\n",
        "\n",
        "Question 10. Initialize the neural network. Add the first hidden layer with 'relu' as the\n",
        "activation function. Repeat step for the second hidden layer. Add the output layer with\n",
        "'softmax' as the activation function. Compile the neural network, using 'adam' as the\n",
        "optimizer, 'binary_crossentropy' as the loss function and 'accuracy' as the performance\n",
        "metric.\n",
        "\n",
        "Question 11. Train the model. Fit the neural network on the training dataset with a\n",
        "batch_size of 3 and a nb_epoch of 200. What is the outcome?\n",
        "\n",
        "Question 12. Validate the model. Evaluate the neural network and print the accuracy\n",
        "scores to see how it performed. What is your conclusion?\n",
        "\n",
        "Question 13. Print the confusion matrix by importing confusion_matrix from\n",
        "sklearn.metrics. What does the confusion matrix tell you?"
      ]
    },
    {
      "cell_type": "code",
      "metadata": {
        "id": "dtRChioFnglF",
        "colab_type": "code",
        "colab": {}
      },
      "source": [
        "import numpy as np\n",
        "import matplotlib.pyplot as plt\n",
        "import pandas as pd\n",
        "df1 = pd.read_csv('train_comment_small_100.csv', sep=',')"
      ],
      "execution_count": 0,
      "outputs": []
    },
    {
      "cell_type": "code",
      "metadata": {
        "id": "SMPPb8zHnuV-",
        "colab_type": "code",
        "outputId": "820a983a-7b11-49fb-8046-d72b06665e81",
        "colab": {
          "base_uri": "https://localhost:8080/",
          "height": 402
        }
      },
      "source": [
        "df1"
      ],
      "execution_count": 75,
      "outputs": [
        {
          "output_type": "execute_result",
          "data": {
            "text/html": [
              "<div>\n",
              "<style scoped>\n",
              "    .dataframe tbody tr th:only-of-type {\n",
              "        vertical-align: middle;\n",
              "    }\n",
              "\n",
              "    .dataframe tbody tr th {\n",
              "        vertical-align: top;\n",
              "    }\n",
              "\n",
              "    .dataframe thead th {\n",
              "        text-align: right;\n",
              "    }\n",
              "</style>\n",
              "<table border=\"1\" class=\"dataframe\">\n",
              "  <thead>\n",
              "    <tr style=\"text-align: right;\">\n",
              "      <th></th>\n",
              "      <th>comment_text</th>\n",
              "      <th>toxic</th>\n",
              "    </tr>\n",
              "  </thead>\n",
              "  <tbody>\n",
              "    <tr>\n",
              "      <th>0</th>\n",
              "      <td>\"\\n \\n I'm sure if you worked on articles othe...</td>\n",
              "      <td>0</td>\n",
              "    </tr>\n",
              "    <tr>\n",
              "      <th>1</th>\n",
              "      <td>D'aww! He matches this background colour I'm s...</td>\n",
              "      <td>0</td>\n",
              "    </tr>\n",
              "    <tr>\n",
              "      <th>2</th>\n",
              "      <td>Hey man, I'm really not trying to edit war. It...</td>\n",
              "      <td>0</td>\n",
              "    </tr>\n",
              "    <tr>\n",
              "      <th>3</th>\n",
              "      <td>\"\\n More\\n I can't make any real suggestions o...</td>\n",
              "      <td>0</td>\n",
              "    </tr>\n",
              "    <tr>\n",
              "      <th>4</th>\n",
              "      <td>REDIRECT Talk:Voydan Pop Georgiev- Chernodrinski</td>\n",
              "      <td>0</td>\n",
              "    </tr>\n",
              "    <tr>\n",
              "      <th>...</th>\n",
              "      <td>...</td>\n",
              "      <td>...</td>\n",
              "    </tr>\n",
              "    <tr>\n",
              "      <th>94</th>\n",
              "      <td>\"\\n \\n I love you\\n  \\n \\n Jeeny has smiled at...</td>\n",
              "      <td>0</td>\n",
              "    </tr>\n",
              "    <tr>\n",
              "      <th>95</th>\n",
              "      <td>Because I find it funny - I was blocked five m...</td>\n",
              "      <td>0</td>\n",
              "    </tr>\n",
              "    <tr>\n",
              "      <th>96</th>\n",
              "      <td>\"\\n \\n  Hi \\n \\n He has made veiled threats ag...</td>\n",
              "      <td>0</td>\n",
              "    </tr>\n",
              "    <tr>\n",
              "      <th>97</th>\n",
              "      <td>(To ), Actually, they did noy mess anything up...</td>\n",
              "      <td>0</td>\n",
              "    </tr>\n",
              "    <tr>\n",
              "      <th>98</th>\n",
              "      <td>\"Citation 2 has reported false information on ...</td>\n",
              "      <td>0</td>\n",
              "    </tr>\n",
              "  </tbody>\n",
              "</table>\n",
              "<p>99 rows × 2 columns</p>\n",
              "</div>"
            ],
            "text/plain": [
              "                                         comment_text  toxic\n",
              "0   \"\\n \\n I'm sure if you worked on articles othe...      0\n",
              "1   D'aww! He matches this background colour I'm s...      0\n",
              "2   Hey man, I'm really not trying to edit war. It...      0\n",
              "3   \"\\n More\\n I can't make any real suggestions o...      0\n",
              "4    REDIRECT Talk:Voydan Pop Georgiev- Chernodrinski      0\n",
              "..                                                ...    ...\n",
              "94  \"\\n \\n I love you\\n  \\n \\n Jeeny has smiled at...      0\n",
              "95  Because I find it funny - I was blocked five m...      0\n",
              "96  \"\\n \\n  Hi \\n \\n He has made veiled threats ag...      0\n",
              "97  (To ), Actually, they did noy mess anything up...      0\n",
              "98  \"Citation 2 has reported false information on ...      0\n",
              "\n",
              "[99 rows x 2 columns]"
            ]
          },
          "metadata": {
            "tags": []
          },
          "execution_count": 75
        }
      ]
    },
    {
      "cell_type": "code",
      "metadata": {
        "id": "PvaqRAoaoE_L",
        "colab_type": "code",
        "outputId": "8227eb90-6a3f-405a-ef98-f806ac27a5c0",
        "colab": {
          "base_uri": "https://localhost:8080/",
          "height": 50
        }
      },
      "source": [
        "import re\n",
        "import nltk\n",
        "nltk.download('stopwords')\n",
        "from nltk.corpus import stopwords\n",
        "from nltk.stem.porter import PorterStemmer\n",
        "corpus = []"
      ],
      "execution_count": 76,
      "outputs": [
        {
          "output_type": "stream",
          "text": [
            "[nltk_data] Downloading package stopwords to /root/nltk_data...\n",
            "[nltk_data]   Package stopwords is already up-to-date!\n"
          ],
          "name": "stdout"
        }
      ]
    },
    {
      "cell_type": "code",
      "metadata": {
        "id": "WKUjJE5poI9d",
        "colab_type": "code",
        "colab": {}
      },
      "source": [
        "for i in range(0, df1.shape[0]):\n",
        "    review = re.sub('[^a-zA-Z]', ' ', df1['comment_text'][i])\n",
        "    review = review.lower()\n",
        "    review = review.split()\n",
        "    ps = PorterStemmer()\n",
        "    review = [ps.stem(word) for word in review if not word in set(stopwords.words('english'))]\n",
        "    review = ' '.join(review)\n",
        "    corpus.append(review)"
      ],
      "execution_count": 0,
      "outputs": []
    },
    {
      "cell_type": "code",
      "metadata": {
        "id": "WG6EVssngarY",
        "colab_type": "code",
        "colab": {
          "base_uri": "https://localhost:8080/",
          "height": 205
        },
        "outputId": "04385a4e-5728-4476-a5e3-abf1573fefa5"
      },
      "source": [
        "corpus[:10]"
      ],
      "execution_count": 78,
      "outputs": [
        {
          "output_type": "execute_result",
          "data": {
            "text/plain": [
              "['sure work articl arcayn fine two seem problem seek edit xenotalk',\n",
              " 'aww match background colour seemingli stuck thank talk januari utc',\n",
              " 'hey man realli tri edit war guy constantli remov relev inform talk edit instead talk page seem care format actual info',\n",
              " 'make real suggest improv wonder section statist later subsect type accid think refer may need tidi exact format ie date format etc later one els first prefer format style refer want pleas let know appear backlog articl review guess may delay review turn list relev form eg wikipedia good articl nomin transport',\n",
              " 'redirect talk voydan pop georgiev chernodrinski',\n",
              " 'mitsurugi point made sens argu includ hindi ryo sakazaki page includ inform',\n",
              " 'mean bother see write someth regard remov anyth post oh well acctual discuss even better like ask take closer look prematur wrestl death catagori men list sure men belong togeth catagori anyth think catagori besid delt',\n",
              " 'regard recent edit pleas read wp filmplot edit film articl edit simpli good entir mani unnecessari detail bad write pleas stop damag',\n",
              " 'good know yeah studi deepu',\n",
              " 'snowflak alway symmetr geometri state snowflak alway six symmetr arm assert simpli true accord kenneth libbrecht rather unattract irregular crystal far common varieti http www caltech edu atom snowcryst myth myth htm perfect someon realli need take look site get fact still see decent number falsiti page forgiv im new dont want edit anyth']"
            ]
          },
          "metadata": {
            "tags": []
          },
          "execution_count": 78
        }
      ]
    },
    {
      "cell_type": "code",
      "metadata": {
        "id": "qABkX6W0pBBO",
        "colab_type": "code",
        "colab": {}
      },
      "source": [
        "from sklearn.feature_extraction.text import CountVectorizer\n",
        "cv = CountVectorizer(max_features = 20)"
      ],
      "execution_count": 0,
      "outputs": []
    },
    {
      "cell_type": "code",
      "metadata": {
        "id": "gFQeOhVrpCrv",
        "colab_type": "code",
        "outputId": "83186e3e-9ecc-4b1b-c3f8-72c6e06712dc",
        "colab": {
          "base_uri": "https://localhost:8080/",
          "height": 218
        }
      },
      "source": [
        "\n",
        "X = cv.fit_transform(corpus).toarray()\n",
        "y = df1.iloc[:,0]\n",
        "y1 = y[:99]\n",
        "y1"
      ],
      "execution_count": 80,
      "outputs": [
        {
          "output_type": "execute_result",
          "data": {
            "text/plain": [
              "0     \"\\n \\n I'm sure if you worked on articles othe...\n",
              "1     D'aww! He matches this background colour I'm s...\n",
              "2     Hey man, I'm really not trying to edit war. It...\n",
              "3     \"\\n More\\n I can't make any real suggestions o...\n",
              "4      REDIRECT Talk:Voydan Pop Georgiev- Chernodrinski\n",
              "                            ...                        \n",
              "94    \"\\n \\n I love you\\n  \\n \\n Jeeny has smiled at...\n",
              "95    Because I find it funny - I was blocked five m...\n",
              "96    \"\\n \\n  Hi \\n \\n He has made veiled threats ag...\n",
              "97    (To ), Actually, they did noy mess anything up...\n",
              "98    \"Citation 2 has reported false information on ...\n",
              "Name: comment_text, Length: 99, dtype: object"
            ]
          },
          "metadata": {
            "tags": []
          },
          "execution_count": 80
        }
      ]
    },
    {
      "cell_type": "code",
      "metadata": {
        "id": "5mJRHfjzpFla",
        "colab_type": "code",
        "colab": {}
      },
      "source": [
        "from sklearn import preprocessing\n",
        "labelencoder_y = preprocessing.LabelEncoder()\n",
        "y = labelencoder_y.fit_transform(y1)"
      ],
      "execution_count": 0,
      "outputs": []
    },
    {
      "cell_type": "code",
      "metadata": {
        "id": "IX0jkvYApHYG",
        "colab_type": "code",
        "colab": {}
      },
      "source": [
        "from sklearn.model_selection import train_test_split\n",
        "X_train, X_test, y_train, y_test = train_test_split(X, y, test_size = 0.2, random_state = 2)"
      ],
      "execution_count": 0,
      "outputs": []
    },
    {
      "cell_type": "code",
      "metadata": {
        "id": "lsv-rGd5pIxE",
        "colab_type": "code",
        "colab": {}
      },
      "source": [
        "from sklearn.preprocessing import StandardScaler\n",
        "sc = StandardScaler()\n",
        "X_train = sc.fit_transform(X_train)\n",
        "X_test = sc.transform(X_test)"
      ],
      "execution_count": 0,
      "outputs": []
    },
    {
      "cell_type": "code",
      "metadata": {
        "id": "mgglbSTkpKDm",
        "colab_type": "code",
        "colab": {}
      },
      "source": [
        "import tensorflow\n",
        "import keras\n",
        "from keras.models import Sequential\n",
        "from keras.layers import Dense"
      ],
      "execution_count": 0,
      "outputs": []
    },
    {
      "cell_type": "code",
      "metadata": {
        "id": "7twNKNCQpNXu",
        "colab_type": "code",
        "colab": {}
      },
      "source": [
        "classifier = Sequential()\n",
        "classifier.add(Dense(output_dim = 20, init = 'uniform', activation = 'relu', input_dim = 20))\n",
        "classifier.add(Dense(output_dim =20, init = 'uniform', activation = 'relu'))\n",
        "classifier.add(Dense(output_dim = 1, init = 'uniform', activation = 'softmax'))\n",
        "classifier.compile(optimizer = 'adam', loss = 'binary_crossentropy', metrics = ['accuracy'])"
      ],
      "execution_count": 0,
      "outputs": []
    },
    {
      "cell_type": "code",
      "metadata": {
        "id": "eLhkeEXagua-",
        "colab_type": "code",
        "colab": {
          "base_uri": "https://localhost:8080/",
          "height": 252
        },
        "outputId": "6df04bbe-5e66-4372-f8f1-2de2d4f69327"
      },
      "source": [
        "classifier.summary()"
      ],
      "execution_count": 86,
      "outputs": [
        {
          "output_type": "stream",
          "text": [
            "Model: \"sequential_2\"\n",
            "_________________________________________________________________\n",
            "Layer (type)                 Output Shape              Param #   \n",
            "=================================================================\n",
            "dense_4 (Dense)              (None, 20)                420       \n",
            "_________________________________________________________________\n",
            "dense_5 (Dense)              (None, 20)                420       \n",
            "_________________________________________________________________\n",
            "dense_6 (Dense)              (None, 1)                 21        \n",
            "=================================================================\n",
            "Total params: 861\n",
            "Trainable params: 861\n",
            "Non-trainable params: 0\n",
            "_________________________________________________________________\n"
          ],
          "name": "stdout"
        }
      ]
    },
    {
      "cell_type": "code",
      "metadata": {
        "id": "vASmzlXkpSvi",
        "colab_type": "code",
        "outputId": "d8af3cd5-3673-4048-9f0c-07af22da70bf",
        "colab": {
          "base_uri": "https://localhost:8080/",
          "height": 8081
        }
      },
      "source": [
        "classifier.fit(X_train, y_train, batch_size = 3, nb_epoch = 200)\n",
        "\n",
        "X_test"
      ],
      "execution_count": 87,
      "outputs": [
        {
          "output_type": "stream",
          "text": [
            "Epoch 1/200\n",
            "79/79 [==============================] - 0s 2ms/step - loss: -718.9154 - accuracy: 0.0127 \n",
            "Epoch 2/200\n",
            "79/79 [==============================] - 0s 543us/step - loss: -718.9154 - accuracy: 0.0127\n",
            "Epoch 3/200\n",
            "79/79 [==============================] - 0s 410us/step - loss: -718.9154 - accuracy: 0.0127\n",
            "Epoch 4/200\n",
            "79/79 [==============================] - 0s 453us/step - loss: -718.9154 - accuracy: 0.0127\n",
            "Epoch 5/200\n",
            "79/79 [==============================] - 0s 425us/step - loss: -718.9154 - accuracy: 0.0127\n",
            "Epoch 6/200\n",
            "79/79 [==============================] - 0s 421us/step - loss: -718.9154 - accuracy: 0.0127\n",
            "Epoch 7/200\n",
            "79/79 [==============================] - 0s 476us/step - loss: -718.9154 - accuracy: 0.0127\n",
            "Epoch 8/200\n",
            "79/79 [==============================] - 0s 436us/step - loss: -718.9154 - accuracy: 0.0127\n",
            "Epoch 9/200\n",
            "79/79 [==============================] - 0s 457us/step - loss: -718.9154 - accuracy: 0.0127\n",
            "Epoch 10/200\n",
            "79/79 [==============================] - 0s 434us/step - loss: -718.9154 - accuracy: 0.0127\n",
            "Epoch 11/200\n",
            "79/79 [==============================] - 0s 441us/step - loss: -718.9154 - accuracy: 0.0127\n",
            "Epoch 12/200\n",
            "79/79 [==============================] - 0s 427us/step - loss: -718.9154 - accuracy: 0.0127\n",
            "Epoch 13/200\n",
            "79/79 [==============================] - 0s 436us/step - loss: -718.9154 - accuracy: 0.0127\n",
            "Epoch 14/200\n",
            "79/79 [==============================] - 0s 449us/step - loss: -718.9154 - accuracy: 0.0127\n",
            "Epoch 15/200\n",
            "79/79 [==============================] - 0s 446us/step - loss: -718.9154 - accuracy: 0.0127\n",
            "Epoch 16/200\n",
            "79/79 [==============================] - 0s 454us/step - loss: -718.9154 - accuracy: 0.0127\n",
            "Epoch 17/200\n",
            "79/79 [==============================] - 0s 454us/step - loss: -718.9154 - accuracy: 0.0127\n",
            "Epoch 18/200\n",
            "79/79 [==============================] - 0s 483us/step - loss: -718.9154 - accuracy: 0.0127\n",
            "Epoch 19/200\n",
            "79/79 [==============================] - 0s 433us/step - loss: -718.9154 - accuracy: 0.0127\n",
            "Epoch 20/200\n",
            "79/79 [==============================] - 0s 450us/step - loss: -718.9154 - accuracy: 0.0127\n",
            "Epoch 21/200\n",
            "79/79 [==============================] - 0s 433us/step - loss: -718.9154 - accuracy: 0.0127\n",
            "Epoch 22/200\n",
            "79/79 [==============================] - 0s 441us/step - loss: -718.9154 - accuracy: 0.0127\n",
            "Epoch 23/200\n",
            "79/79 [==============================] - 0s 446us/step - loss: -718.9154 - accuracy: 0.0127\n",
            "Epoch 24/200\n",
            "79/79 [==============================] - 0s 443us/step - loss: -718.9154 - accuracy: 0.0127\n",
            "Epoch 25/200\n",
            "79/79 [==============================] - 0s 433us/step - loss: -718.9154 - accuracy: 0.0127\n",
            "Epoch 26/200\n",
            "79/79 [==============================] - 0s 470us/step - loss: -718.9154 - accuracy: 0.0127\n",
            "Epoch 27/200\n",
            "79/79 [==============================] - 0s 441us/step - loss: -718.9154 - accuracy: 0.0127\n",
            "Epoch 28/200\n",
            "79/79 [==============================] - 0s 446us/step - loss: -718.9154 - accuracy: 0.0127\n",
            "Epoch 29/200\n",
            "79/79 [==============================] - 0s 506us/step - loss: -718.9154 - accuracy: 0.0127\n",
            "Epoch 30/200\n",
            "79/79 [==============================] - 0s 457us/step - loss: -718.9154 - accuracy: 0.0127\n",
            "Epoch 31/200\n",
            "79/79 [==============================] - 0s 485us/step - loss: -718.9154 - accuracy: 0.0127\n",
            "Epoch 32/200\n",
            "79/79 [==============================] - 0s 427us/step - loss: -718.9154 - accuracy: 0.0127\n",
            "Epoch 33/200\n",
            "79/79 [==============================] - 0s 433us/step - loss: -718.9154 - accuracy: 0.0127\n",
            "Epoch 34/200\n",
            "79/79 [==============================] - 0s 428us/step - loss: -718.9154 - accuracy: 0.0127\n",
            "Epoch 35/200\n",
            "79/79 [==============================] - 0s 452us/step - loss: -718.9154 - accuracy: 0.0127\n",
            "Epoch 36/200\n",
            "79/79 [==============================] - 0s 437us/step - loss: -718.9154 - accuracy: 0.0127\n",
            "Epoch 37/200\n",
            "79/79 [==============================] - 0s 451us/step - loss: -718.9154 - accuracy: 0.0127\n",
            "Epoch 38/200\n",
            "79/79 [==============================] - 0s 425us/step - loss: -718.9154 - accuracy: 0.0127\n",
            "Epoch 39/200\n",
            "79/79 [==============================] - 0s 446us/step - loss: -718.9154 - accuracy: 0.0127\n",
            "Epoch 40/200\n",
            "79/79 [==============================] - 0s 471us/step - loss: -718.9154 - accuracy: 0.0127\n",
            "Epoch 41/200\n",
            "79/79 [==============================] - 0s 494us/step - loss: -718.9154 - accuracy: 0.0127\n",
            "Epoch 42/200\n",
            "79/79 [==============================] - 0s 473us/step - loss: -718.9154 - accuracy: 0.0127\n",
            "Epoch 43/200\n",
            "79/79 [==============================] - 0s 409us/step - loss: -718.9154 - accuracy: 0.0127\n",
            "Epoch 44/200\n",
            "79/79 [==============================] - 0s 447us/step - loss: -718.9154 - accuracy: 0.0127\n",
            "Epoch 45/200\n",
            "79/79 [==============================] - 0s 443us/step - loss: -718.9154 - accuracy: 0.0127\n",
            "Epoch 46/200\n",
            "79/79 [==============================] - 0s 466us/step - loss: -718.9154 - accuracy: 0.0127\n",
            "Epoch 47/200\n",
            "79/79 [==============================] - 0s 429us/step - loss: -718.9154 - accuracy: 0.0127\n",
            "Epoch 48/200\n",
            "79/79 [==============================] - 0s 511us/step - loss: -718.9154 - accuracy: 0.0127\n",
            "Epoch 49/200\n",
            "79/79 [==============================] - 0s 466us/step - loss: -718.9154 - accuracy: 0.0127\n",
            "Epoch 50/200\n",
            "79/79 [==============================] - 0s 468us/step - loss: -718.9154 - accuracy: 0.0127\n",
            "Epoch 51/200\n",
            "79/79 [==============================] - 0s 426us/step - loss: -718.9154 - accuracy: 0.0127\n",
            "Epoch 52/200\n",
            "79/79 [==============================] - 0s 430us/step - loss: -718.9154 - accuracy: 0.0127\n",
            "Epoch 53/200\n",
            "79/79 [==============================] - 0s 418us/step - loss: -718.9154 - accuracy: 0.0127\n",
            "Epoch 54/200\n",
            "79/79 [==============================] - 0s 415us/step - loss: -718.9154 - accuracy: 0.0127\n",
            "Epoch 55/200\n",
            "79/79 [==============================] - 0s 433us/step - loss: -718.9154 - accuracy: 0.0127\n",
            "Epoch 56/200\n",
            "79/79 [==============================] - 0s 516us/step - loss: -718.9154 - accuracy: 0.0127\n",
            "Epoch 57/200\n",
            "79/79 [==============================] - 0s 436us/step - loss: -718.9154 - accuracy: 0.0127\n",
            "Epoch 58/200\n",
            "79/79 [==============================] - 0s 440us/step - loss: -718.9154 - accuracy: 0.0127\n",
            "Epoch 59/200\n",
            "79/79 [==============================] - 0s 428us/step - loss: -718.9154 - accuracy: 0.0127\n",
            "Epoch 60/200\n",
            "79/79 [==============================] - 0s 449us/step - loss: -718.9154 - accuracy: 0.0127\n",
            "Epoch 61/200\n",
            "79/79 [==============================] - 0s 448us/step - loss: -718.9154 - accuracy: 0.0127\n",
            "Epoch 62/200\n",
            "79/79 [==============================] - 0s 436us/step - loss: -718.9154 - accuracy: 0.0127\n",
            "Epoch 63/200\n",
            "79/79 [==============================] - 0s 452us/step - loss: -718.9154 - accuracy: 0.0127\n",
            "Epoch 64/200\n",
            "79/79 [==============================] - 0s 412us/step - loss: -718.9154 - accuracy: 0.0127\n",
            "Epoch 65/200\n",
            "79/79 [==============================] - 0s 441us/step - loss: -718.9154 - accuracy: 0.0127\n",
            "Epoch 66/200\n",
            "79/79 [==============================] - 0s 501us/step - loss: -718.9154 - accuracy: 0.0127\n",
            "Epoch 67/200\n",
            "79/79 [==============================] - 0s 445us/step - loss: -718.9154 - accuracy: 0.0127\n",
            "Epoch 68/200\n",
            "79/79 [==============================] - 0s 441us/step - loss: -718.9154 - accuracy: 0.0127\n",
            "Epoch 69/200\n",
            "79/79 [==============================] - 0s 453us/step - loss: -718.9154 - accuracy: 0.0127\n",
            "Epoch 70/200\n",
            "79/79 [==============================] - 0s 452us/step - loss: -718.9154 - accuracy: 0.0127\n",
            "Epoch 71/200\n",
            "79/79 [==============================] - 0s 413us/step - loss: -718.9154 - accuracy: 0.0127\n",
            "Epoch 72/200\n",
            "79/79 [==============================] - 0s 477us/step - loss: -718.9154 - accuracy: 0.0127\n",
            "Epoch 73/200\n",
            "79/79 [==============================] - 0s 447us/step - loss: -718.9154 - accuracy: 0.0127\n",
            "Epoch 74/200\n",
            "79/79 [==============================] - 0s 423us/step - loss: -718.9154 - accuracy: 0.0127\n",
            "Epoch 75/200\n",
            "79/79 [==============================] - 0s 444us/step - loss: -718.9154 - accuracy: 0.0127\n",
            "Epoch 76/200\n",
            "79/79 [==============================] - 0s 431us/step - loss: -718.9154 - accuracy: 0.0127\n",
            "Epoch 77/200\n",
            "79/79 [==============================] - 0s 430us/step - loss: -718.9154 - accuracy: 0.0127\n",
            "Epoch 78/200\n",
            "79/79 [==============================] - 0s 466us/step - loss: -718.9154 - accuracy: 0.0127\n",
            "Epoch 79/200\n",
            "79/79 [==============================] - 0s 430us/step - loss: -718.9154 - accuracy: 0.0127\n",
            "Epoch 80/200\n",
            "79/79 [==============================] - 0s 455us/step - loss: -718.9154 - accuracy: 0.0127\n",
            "Epoch 81/200\n",
            "79/79 [==============================] - 0s 425us/step - loss: -718.9154 - accuracy: 0.0127\n",
            "Epoch 82/200\n",
            "79/79 [==============================] - 0s 435us/step - loss: -718.9154 - accuracy: 0.0127\n",
            "Epoch 83/200\n",
            "79/79 [==============================] - 0s 439us/step - loss: -718.9154 - accuracy: 0.0127\n",
            "Epoch 84/200\n",
            "79/79 [==============================] - 0s 463us/step - loss: -718.9154 - accuracy: 0.0127\n",
            "Epoch 85/200\n",
            "79/79 [==============================] - 0s 460us/step - loss: -718.9154 - accuracy: 0.0127\n",
            "Epoch 86/200\n",
            "79/79 [==============================] - 0s 447us/step - loss: -718.9154 - accuracy: 0.0127\n",
            "Epoch 87/200\n",
            "79/79 [==============================] - 0s 427us/step - loss: -718.9154 - accuracy: 0.0127\n",
            "Epoch 88/200\n",
            "79/79 [==============================] - 0s 425us/step - loss: -718.9154 - accuracy: 0.0127\n",
            "Epoch 89/200\n",
            "79/79 [==============================] - 0s 424us/step - loss: -718.9154 - accuracy: 0.0127\n",
            "Epoch 90/200\n",
            "79/79 [==============================] - 0s 417us/step - loss: -718.9154 - accuracy: 0.0127\n",
            "Epoch 91/200\n",
            "79/79 [==============================] - 0s 494us/step - loss: -718.9154 - accuracy: 0.0127\n",
            "Epoch 92/200\n",
            "79/79 [==============================] - 0s 472us/step - loss: -718.9154 - accuracy: 0.0127\n",
            "Epoch 93/200\n",
            "79/79 [==============================] - 0s 452us/step - loss: -718.9154 - accuracy: 0.0127\n",
            "Epoch 94/200\n",
            "79/79 [==============================] - 0s 415us/step - loss: -718.9154 - accuracy: 0.0127\n",
            "Epoch 95/200\n",
            "79/79 [==============================] - 0s 440us/step - loss: -718.9154 - accuracy: 0.0127\n",
            "Epoch 96/200\n",
            "79/79 [==============================] - 0s 461us/step - loss: -718.9154 - accuracy: 0.0127\n",
            "Epoch 97/200\n",
            "79/79 [==============================] - 0s 440us/step - loss: -718.9154 - accuracy: 0.0127\n",
            "Epoch 98/200\n",
            "79/79 [==============================] - 0s 446us/step - loss: -718.9154 - accuracy: 0.0127\n",
            "Epoch 99/200\n",
            "79/79 [==============================] - 0s 471us/step - loss: -718.9154 - accuracy: 0.0127\n",
            "Epoch 100/200\n",
            "79/79 [==============================] - 0s 443us/step - loss: -718.9154 - accuracy: 0.0127\n",
            "Epoch 101/200\n",
            "79/79 [==============================] - 0s 442us/step - loss: -718.9154 - accuracy: 0.0127\n",
            "Epoch 102/200\n",
            "79/79 [==============================] - 0s 483us/step - loss: -718.9154 - accuracy: 0.0127\n",
            "Epoch 103/200\n",
            "79/79 [==============================] - 0s 464us/step - loss: -718.9154 - accuracy: 0.0127\n",
            "Epoch 104/200\n",
            "79/79 [==============================] - 0s 437us/step - loss: -718.9154 - accuracy: 0.0127\n",
            "Epoch 105/200\n",
            "79/79 [==============================] - 0s 436us/step - loss: -718.9154 - accuracy: 0.0127\n",
            "Epoch 106/200\n",
            "79/79 [==============================] - 0s 442us/step - loss: -718.9154 - accuracy: 0.0127\n",
            "Epoch 107/200\n",
            "79/79 [==============================] - 0s 429us/step - loss: -718.9154 - accuracy: 0.0127\n",
            "Epoch 108/200\n",
            "79/79 [==============================] - 0s 441us/step - loss: -718.9154 - accuracy: 0.0127\n",
            "Epoch 109/200\n",
            "79/79 [==============================] - 0s 437us/step - loss: -718.9154 - accuracy: 0.0127\n",
            "Epoch 110/200\n",
            "79/79 [==============================] - 0s 433us/step - loss: -718.9154 - accuracy: 0.0127\n",
            "Epoch 111/200\n",
            "79/79 [==============================] - 0s 505us/step - loss: -718.9154 - accuracy: 0.0127\n",
            "Epoch 112/200\n",
            "79/79 [==============================] - 0s 500us/step - loss: -718.9154 - accuracy: 0.0127\n",
            "Epoch 113/200\n",
            "79/79 [==============================] - 0s 452us/step - loss: -718.9154 - accuracy: 0.0127\n",
            "Epoch 114/200\n",
            "79/79 [==============================] - 0s 437us/step - loss: -718.9154 - accuracy: 0.0127\n",
            "Epoch 115/200\n",
            "79/79 [==============================] - 0s 445us/step - loss: -718.9154 - accuracy: 0.0127\n",
            "Epoch 116/200\n",
            "79/79 [==============================] - 0s 450us/step - loss: -718.9154 - accuracy: 0.0127\n",
            "Epoch 117/200\n",
            "79/79 [==============================] - 0s 442us/step - loss: -718.9154 - accuracy: 0.0127\n",
            "Epoch 118/200\n",
            "79/79 [==============================] - 0s 458us/step - loss: -718.9154 - accuracy: 0.0127\n",
            "Epoch 119/200\n",
            "79/79 [==============================] - 0s 423us/step - loss: -718.9154 - accuracy: 0.0127\n",
            "Epoch 120/200\n",
            "79/79 [==============================] - 0s 474us/step - loss: -718.9154 - accuracy: 0.0127\n",
            "Epoch 121/200\n",
            "79/79 [==============================] - 0s 453us/step - loss: -718.9154 - accuracy: 0.0127\n",
            "Epoch 122/200\n",
            "79/79 [==============================] - 0s 447us/step - loss: -718.9154 - accuracy: 0.0127\n",
            "Epoch 123/200\n",
            "79/79 [==============================] - 0s 429us/step - loss: -718.9154 - accuracy: 0.0127\n",
            "Epoch 124/200\n",
            "79/79 [==============================] - 0s 424us/step - loss: -718.9154 - accuracy: 0.0127\n",
            "Epoch 125/200\n",
            "79/79 [==============================] - 0s 436us/step - loss: -718.9154 - accuracy: 0.0127\n",
            "Epoch 126/200\n",
            "79/79 [==============================] - 0s 446us/step - loss: -718.9154 - accuracy: 0.0127\n",
            "Epoch 127/200\n",
            "79/79 [==============================] - 0s 449us/step - loss: -718.9154 - accuracy: 0.0127\n",
            "Epoch 128/200\n",
            "79/79 [==============================] - 0s 440us/step - loss: -718.9154 - accuracy: 0.0127\n",
            "Epoch 129/200\n",
            "79/79 [==============================] - 0s 484us/step - loss: -718.9154 - accuracy: 0.0127\n",
            "Epoch 130/200\n",
            "79/79 [==============================] - 0s 427us/step - loss: -718.9154 - accuracy: 0.0127\n",
            "Epoch 131/200\n",
            "79/79 [==============================] - 0s 450us/step - loss: -718.9154 - accuracy: 0.0127\n",
            "Epoch 132/200\n",
            "79/79 [==============================] - 0s 448us/step - loss: -718.9154 - accuracy: 0.0127\n",
            "Epoch 133/200\n",
            "79/79 [==============================] - 0s 426us/step - loss: -718.9154 - accuracy: 0.0127\n",
            "Epoch 134/200\n",
            "79/79 [==============================] - 0s 456us/step - loss: -718.9154 - accuracy: 0.0127\n",
            "Epoch 135/200\n",
            "79/79 [==============================] - 0s 435us/step - loss: -718.9154 - accuracy: 0.0127\n",
            "Epoch 136/200\n",
            "79/79 [==============================] - 0s 449us/step - loss: -718.9154 - accuracy: 0.0127\n",
            "Epoch 137/200\n",
            "79/79 [==============================] - 0s 420us/step - loss: -718.9154 - accuracy: 0.0127\n",
            "Epoch 138/200\n",
            "79/79 [==============================] - 0s 461us/step - loss: -718.9154 - accuracy: 0.0127\n",
            "Epoch 139/200\n",
            "79/79 [==============================] - 0s 504us/step - loss: -718.9154 - accuracy: 0.0127\n",
            "Epoch 140/200\n",
            "79/79 [==============================] - 0s 445us/step - loss: -718.9154 - accuracy: 0.0127\n",
            "Epoch 141/200\n",
            "79/79 [==============================] - 0s 502us/step - loss: -718.9154 - accuracy: 0.0127\n",
            "Epoch 142/200\n",
            "79/79 [==============================] - 0s 424us/step - loss: -718.9154 - accuracy: 0.0127\n",
            "Epoch 143/200\n",
            "79/79 [==============================] - 0s 417us/step - loss: -718.9154 - accuracy: 0.0127\n",
            "Epoch 144/200\n",
            "79/79 [==============================] - 0s 452us/step - loss: -718.9154 - accuracy: 0.0127\n",
            "Epoch 145/200\n",
            "79/79 [==============================] - 0s 460us/step - loss: -718.9154 - accuracy: 0.0127\n",
            "Epoch 146/200\n",
            "79/79 [==============================] - 0s 421us/step - loss: -718.9154 - accuracy: 0.0127\n",
            "Epoch 147/200\n",
            "79/79 [==============================] - 0s 425us/step - loss: -718.9154 - accuracy: 0.0127\n",
            "Epoch 148/200\n",
            "79/79 [==============================] - 0s 421us/step - loss: -718.9154 - accuracy: 0.0127\n",
            "Epoch 149/200\n",
            "79/79 [==============================] - 0s 425us/step - loss: -718.9154 - accuracy: 0.0127\n",
            "Epoch 150/200\n",
            "79/79 [==============================] - 0s 439us/step - loss: -718.9154 - accuracy: 0.0127\n",
            "Epoch 151/200\n",
            "79/79 [==============================] - 0s 460us/step - loss: -718.9154 - accuracy: 0.0127\n",
            "Epoch 152/200\n",
            "79/79 [==============================] - 0s 458us/step - loss: -718.9154 - accuracy: 0.0127\n",
            "Epoch 153/200\n",
            "79/79 [==============================] - 0s 481us/step - loss: -718.9154 - accuracy: 0.0127\n",
            "Epoch 154/200\n",
            "79/79 [==============================] - 0s 447us/step - loss: -718.9154 - accuracy: 0.0127\n",
            "Epoch 155/200\n",
            "79/79 [==============================] - 0s 445us/step - loss: -718.9154 - accuracy: 0.0127\n",
            "Epoch 156/200\n",
            "79/79 [==============================] - 0s 424us/step - loss: -718.9154 - accuracy: 0.0127\n",
            "Epoch 157/200\n",
            "79/79 [==============================] - 0s 458us/step - loss: -718.9154 - accuracy: 0.0127\n",
            "Epoch 158/200\n",
            "79/79 [==============================] - 0s 480us/step - loss: -718.9154 - accuracy: 0.0127\n",
            "Epoch 159/200\n",
            "79/79 [==============================] - 0s 434us/step - loss: -718.9154 - accuracy: 0.0127\n",
            "Epoch 160/200\n",
            "79/79 [==============================] - 0s 445us/step - loss: -718.9154 - accuracy: 0.0127\n",
            "Epoch 161/200\n",
            "79/79 [==============================] - 0s 449us/step - loss: -718.9154 - accuracy: 0.0127\n",
            "Epoch 162/200\n",
            "79/79 [==============================] - 0s 421us/step - loss: -718.9154 - accuracy: 0.0127\n",
            "Epoch 163/200\n",
            "79/79 [==============================] - 0s 459us/step - loss: -718.9154 - accuracy: 0.0127\n",
            "Epoch 164/200\n",
            "79/79 [==============================] - 0s 455us/step - loss: -718.9154 - accuracy: 0.0127\n",
            "Epoch 165/200\n",
            "79/79 [==============================] - 0s 447us/step - loss: -718.9154 - accuracy: 0.0127\n",
            "Epoch 166/200\n",
            "79/79 [==============================] - 0s 528us/step - loss: -718.9154 - accuracy: 0.0127\n",
            "Epoch 167/200\n",
            "79/79 [==============================] - 0s 429us/step - loss: -718.9154 - accuracy: 0.0127\n",
            "Epoch 168/200\n",
            "79/79 [==============================] - 0s 436us/step - loss: -718.9154 - accuracy: 0.0127\n",
            "Epoch 169/200\n",
            "79/79 [==============================] - 0s 446us/step - loss: -718.9154 - accuracy: 0.0127\n",
            "Epoch 170/200\n",
            "79/79 [==============================] - 0s 414us/step - loss: -718.9154 - accuracy: 0.0127\n",
            "Epoch 171/200\n",
            "79/79 [==============================] - 0s 409us/step - loss: -718.9154 - accuracy: 0.0127\n",
            "Epoch 172/200\n",
            "79/79 [==============================] - 0s 486us/step - loss: -718.9154 - accuracy: 0.0127\n",
            "Epoch 173/200\n",
            "79/79 [==============================] - 0s 452us/step - loss: -718.9154 - accuracy: 0.0127\n",
            "Epoch 174/200\n",
            "79/79 [==============================] - 0s 418us/step - loss: -718.9154 - accuracy: 0.0127\n",
            "Epoch 175/200\n",
            "79/79 [==============================] - 0s 423us/step - loss: -718.9154 - accuracy: 0.0127\n",
            "Epoch 176/200\n",
            "79/79 [==============================] - 0s 427us/step - loss: -718.9154 - accuracy: 0.0127\n",
            "Epoch 177/200\n",
            "79/79 [==============================] - 0s 456us/step - loss: -718.9154 - accuracy: 0.0127\n",
            "Epoch 178/200\n",
            "79/79 [==============================] - 0s 493us/step - loss: -718.9154 - accuracy: 0.0127\n",
            "Epoch 179/200\n",
            "79/79 [==============================] - 0s 452us/step - loss: -718.9154 - accuracy: 0.0127\n",
            "Epoch 180/200\n",
            "79/79 [==============================] - 0s 474us/step - loss: -718.9154 - accuracy: 0.0127\n",
            "Epoch 181/200\n",
            "79/79 [==============================] - 0s 470us/step - loss: -718.9154 - accuracy: 0.0127\n",
            "Epoch 182/200\n",
            "79/79 [==============================] - 0s 502us/step - loss: -718.9154 - accuracy: 0.0127\n",
            "Epoch 183/200\n",
            "79/79 [==============================] - 0s 428us/step - loss: -718.9154 - accuracy: 0.0127\n",
            "Epoch 184/200\n",
            "79/79 [==============================] - 0s 435us/step - loss: -718.9154 - accuracy: 0.0127\n",
            "Epoch 185/200\n",
            "79/79 [==============================] - 0s 419us/step - loss: -718.9154 - accuracy: 0.0127\n",
            "Epoch 186/200\n",
            "79/79 [==============================] - 0s 433us/step - loss: -718.9154 - accuracy: 0.0127\n",
            "Epoch 187/200\n",
            "79/79 [==============================] - 0s 450us/step - loss: -718.9154 - accuracy: 0.0127\n",
            "Epoch 188/200\n",
            "79/79 [==============================] - 0s 456us/step - loss: -718.9154 - accuracy: 0.0127\n",
            "Epoch 189/200\n",
            "79/79 [==============================] - 0s 443us/step - loss: -718.9154 - accuracy: 0.0127\n",
            "Epoch 190/200\n",
            "79/79 [==============================] - 0s 442us/step - loss: -718.9154 - accuracy: 0.0127\n",
            "Epoch 191/200\n",
            "79/79 [==============================] - 0s 418us/step - loss: -718.9154 - accuracy: 0.0127\n",
            "Epoch 192/200\n",
            "79/79 [==============================] - 0s 450us/step - loss: -718.9154 - accuracy: 0.0127\n",
            "Epoch 193/200\n",
            "79/79 [==============================] - 0s 498us/step - loss: -718.9154 - accuracy: 0.0127\n",
            "Epoch 194/200\n",
            "79/79 [==============================] - 0s 442us/step - loss: -718.9154 - accuracy: 0.0127\n",
            "Epoch 195/200\n",
            "79/79 [==============================] - 0s 433us/step - loss: -718.9154 - accuracy: 0.0127\n",
            "Epoch 196/200\n",
            "79/79 [==============================] - 0s 475us/step - loss: -718.9154 - accuracy: 0.0127\n",
            "Epoch 197/200\n",
            "79/79 [==============================] - 0s 443us/step - loss: -718.9154 - accuracy: 0.0127\n",
            "Epoch 198/200\n",
            "79/79 [==============================] - 0s 440us/step - loss: -718.9154 - accuracy: 0.0127\n",
            "Epoch 199/200\n",
            "79/79 [==============================] - 0s 434us/step - loss: -718.9154 - accuracy: 0.0127\n",
            "Epoch 200/200\n",
            "79/79 [==============================] - 0s 447us/step - loss: -718.9154 - accuracy: 0.0127\n"
          ],
          "name": "stdout"
        },
        {
          "output_type": "execute_result",
          "data": {
            "text/plain": [
              "array([[-0.26710361,  0.92626773, -0.13237778, -0.21759707, -0.36712389,\n",
              "        -0.30590352, -0.3961108 , -0.35619781, -0.39983683, -0.35856858,\n",
              "        -0.20788768, -0.32023202, -0.28914613, -0.43489783, -0.29261524,\n",
              "        -0.41401887, -0.38689553, -0.35856858, -0.40091169, -0.38341289],\n",
              "       [-0.26710361, -0.45439549, -0.13237778, -0.21759707, -0.36712389,\n",
              "         1.55304866, -0.3961108 , -0.35619781, -0.39983683, -0.35856858,\n",
              "        -0.20788768, -0.32023202, -0.28914613,  1.58609798, -0.29261524,\n",
              "        -0.41401887, -0.38689553, -0.35856858, -0.40091169, -0.38341289],\n",
              "       [ 3.56947554,  7.8295838 , -0.13237778, 54.79094221,  2.39504633,\n",
              "        -0.30590352, -0.3961108 , -0.35619781, -0.39983683, -0.35856858,\n",
              "         5.26648786, -0.32023202, -0.28914613,  3.6070938 ,  7.41291941,\n",
              "         1.50995117, -0.38689553, -0.35856858,  4.59993418, -0.38341289],\n",
              "       [-0.26710361, -0.45439549, -0.13237778, -0.21759707, -0.36712389,\n",
              "        -0.30590352, -0.3961108 , -0.35619781, -0.39983683, -0.35856858,\n",
              "        -0.20788768, -0.32023202, -0.28914613, -0.43489783, -0.29261524,\n",
              "        -0.41401887,  2.1601667 , -0.35856858, -0.40091169, -0.38341289],\n",
              "       [-0.26710361, -0.45439549, -0.13237778, -0.21759707, -0.36712389,\n",
              "         1.55304866, -0.3961108 , -0.35619781, -0.39983683, -0.35856858,\n",
              "        -0.20788768, -0.32023202,  1.1385129 , -0.43489783, -0.29261524,\n",
              "         5.35789127, -0.38689553, -0.35856858,  4.59993418, -0.38341289],\n",
              "       [ 1.65118597, -0.45439549, -0.13237778, -0.21759707, -0.36712389,\n",
              "         1.55304866, -0.3961108 ,  1.80838886, -0.39983683, -0.35856858,\n",
              "        -0.20788768, -0.32023202, -0.28914613, -0.43489783, -0.29261524,\n",
              "         1.50995117,  2.1601667 ,  5.93630209, -0.40091169, -0.38341289],\n",
              "       [-0.26710361, -0.45439549, -0.13237778, -0.21759707,  2.39504633,\n",
              "        -0.30590352, -0.3961108 , -0.35619781, -0.39983683, -0.35856858,\n",
              "        -0.20788768, -0.32023202, -0.28914613,  1.58609798, -0.29261524,\n",
              "         3.43392122, -0.38689553, -0.35856858, -0.40091169, -0.38341289],\n",
              "       [-0.26710361, -0.45439549, -0.13237778, -0.21759707, -0.36712389,\n",
              "        -0.30590352, -0.3961108 , -0.35619781, -0.39983683, -0.35856858,\n",
              "        -0.20788768, -0.32023202, -0.28914613, -0.43489783, -0.29261524,\n",
              "        -0.41401887, -0.38689553, -0.35856858, -0.40091169, -0.38341289],\n",
              "       [-0.26710361, -0.45439549, -0.13237778, -0.21759707, -0.36712389,\n",
              "        -0.30590352, -0.3961108 , -0.35619781, -0.39983683, -0.35856858,\n",
              "        -0.20788768, -0.32023202,  1.1385129 , -0.43489783, -0.29261524,\n",
              "        -0.41401887, -0.38689553,  2.78886676, -0.40091169, -0.38341289],\n",
              "       [-0.26710361, -0.45439549, -0.13237778, -0.21759707, -0.36712389,\n",
              "        -0.30590352, -0.3961108 , -0.35619781, -0.39983683, -0.35856858,\n",
              "        -0.20788768, -0.32023202, -0.28914613, -0.43489783, -0.29261524,\n",
              "        -0.41401887, -0.38689553,  2.78886676, -0.40091169, -0.38341289],\n",
              "       [-0.26710361, -0.45439549, -0.13237778, -0.21759707, -0.36712389,\n",
              "        -0.30590352, -0.3961108 ,  1.80838886, -0.39983683, -0.35856858,\n",
              "         1.16070621, -0.32023202, -0.28914613, -0.43489783, -0.29261524,\n",
              "        -0.41401887, -0.38689553,  2.78886676, -0.40091169, -0.38341289],\n",
              "       [-0.26710361, -0.45439549, -0.13237778,  3.22043664, -0.36712389,\n",
              "         1.55304866, -0.3961108 , -0.35619781, -0.39983683, -0.35856858,\n",
              "        -0.20788768, -0.32023202, -0.28914613, -0.43489783,  2.27589631,\n",
              "        -0.41401887, -0.38689553, -0.35856858, -0.40091169, -0.38341289],\n",
              "       [ 1.65118597,  0.92626773, -0.13237778, -0.21759707, -0.36712389,\n",
              "        -0.30590352, -0.3961108 , -0.35619781, -0.39983683,  2.00200792,\n",
              "        -0.20788768, -0.32023202, -0.28914613, -0.43489783, -0.29261524,\n",
              "        -0.41401887, -0.38689553, -0.35856858, -0.40091169, -0.38341289],\n",
              "       [-0.26710361, -0.45439549, -0.13237778, -0.21759707, -0.36712389,\n",
              "        -0.30590352, -0.3961108 , -0.35619781, -0.39983683, -0.35856858,\n",
              "        -0.20788768, -0.32023202, -0.28914613, -0.43489783, -0.29261524,\n",
              "        -0.41401887, -0.38689553, -0.35856858, -0.40091169, -0.38341289],\n",
              "       [-0.26710361,  0.92626773, -0.13237778, -0.21759707,  1.01396122,\n",
              "        -0.30590352, -0.3961108 , -0.35619781, -0.39983683, -0.35856858,\n",
              "        -0.20788768, -0.32023202, -0.28914613, -0.43489783, -0.29261524,\n",
              "        -0.41401887, -0.38689553, -0.35856858, -0.40091169, -0.38341289],\n",
              "       [-0.26710361, -0.45439549, -0.13237778, -0.21759707, -0.36712389,\n",
              "        -0.30590352, -0.3961108 , -0.35619781, -0.39983683, -0.35856858,\n",
              "        -0.20788768, -0.32023202, -0.28914613, -0.43489783, -0.29261524,\n",
              "        -0.41401887, -0.38689553, -0.35856858,  1.26603693,  1.29934368],\n",
              "       [-0.26710361,  2.30693094, -0.13237778, -0.21759707, -0.36712389,\n",
              "        -0.30590352, -0.3961108 ,  1.80838886, -0.39983683, -0.35856858,\n",
              "         2.52930009, -0.32023202,  1.1385129 , -0.43489783,  2.27589631,\n",
              "        -0.41401887, -0.38689553,  2.78886676,  1.26603693, -0.38341289],\n",
              "       [-0.26710361,  2.30693094, -0.13237778, -0.21759707, -0.36712389,\n",
              "        -0.30590352, -0.3961108 , -0.35619781, -0.39983683, -0.35856858,\n",
              "        -0.20788768, -0.32023202, -0.28914613, -0.43489783, -0.29261524,\n",
              "        -0.41401887, -0.38689553, -0.35856858, -0.40091169,  1.29934368],\n",
              "       [-0.26710361, -0.45439549, -0.13237778, -0.21759707, -0.36712389,\n",
              "        -0.30590352, -0.3961108 , -0.35619781, -0.39983683,  2.00200792,\n",
              "        -0.20788768,  1.62579331,  1.1385129 , -0.43489783, -0.29261524,\n",
              "         1.50995117, -0.38689553, -0.35856858, -0.40091169, -0.38341289],\n",
              "       [-0.26710361, -0.45439549, -0.13237778, -0.21759707, -0.36712389,\n",
              "        -0.30590352, -0.3961108 , -0.35619781, -0.39983683, -0.35856858,\n",
              "        -0.20788768, -0.32023202, -0.28914613, -0.43489783, -0.29261524,\n",
              "        -0.41401887, -0.38689553, -0.35856858, -0.40091169, -0.38341289]])"
            ]
          },
          "metadata": {
            "tags": []
          },
          "execution_count": 87
        }
      ]
    },
    {
      "cell_type": "markdown",
      "metadata": {
        "id": "fTuVKsv2h9Gv",
        "colab_type": "text"
      },
      "source": [
        "####What is the outcome?\n",
        "The model got trained with a loss value of - 718.9154 accuracy as 0.0127. \n",
        "The lower the loss, the better a model. Loss is a summation of the errors made for each example in training sets. It is not percentage unlike accuracy "
      ]
    },
    {
      "cell_type": "code",
      "metadata": {
        "id": "UQLsQFoZiN2a",
        "colab_type": "code",
        "colab": {
          "base_uri": "https://localhost:8080/",
          "height": 50
        },
        "outputId": "f2b2ca8b-35df-4998-ad81-322e80d88eac"
      },
      "source": [
        "y_pred = classifier.predict(X_test)\n",
        "scores = classifier.evaluate(X_test, y_pred, verbose=1)\n",
        "print(\"Accuracy:\", scores[1])"
      ],
      "execution_count": 88,
      "outputs": [
        {
          "output_type": "stream",
          "text": [
            "\r20/20 [==============================] - 0s 837us/step\n",
            "Accuracy: 1.0\n"
          ],
          "name": "stdout"
        }
      ]
    },
    {
      "cell_type": "code",
      "metadata": {
        "id": "Uha2bbj3icBE",
        "colab_type": "code",
        "colab": {
          "base_uri": "https://localhost:8080/",
          "height": 118
        },
        "outputId": "18cffe99-4d58-4e45-a820-bda91d1a3586"
      },
      "source": [
        "y_pred = classifier.predict(X_test)\n",
        "\n",
        "scores = classifier.evaluate(X_train, y_train)\n",
        "print('Training Accuracy: %.2f%%\\n' % (scores[1]*100))\n",
        "\n",
        "scores = classifier.evaluate(X_test, y_test)\n",
        "print('Testing Accuracy: %.2f%%\\n' % (scores[1]*100))"
      ],
      "execution_count": 89,
      "outputs": [
        {
          "output_type": "stream",
          "text": [
            "79/79 [==============================] - 0s 41us/step\n",
            "Training Accuracy: 1.27%\n",
            "\n",
            "20/20 [==============================] - 0s 59us/step\n",
            "Testing Accuracy: 0.00%\n",
            "\n"
          ],
          "name": "stdout"
        }
      ]
    },
    {
      "cell_type": "markdown",
      "metadata": {
        "id": "LkVGVgPVjNrL",
        "colab_type": "text"
      },
      "source": [
        "####What is your conclusion?\n",
        "The model is not efficient because the accuracy is not very low. may be lack of good data for training the network."
      ]
    },
    {
      "cell_type": "code",
      "metadata": {
        "id": "mbj4HDZvihbv",
        "colab_type": "code",
        "colab": {
          "base_uri": "https://localhost:8080/",
          "height": 487
        },
        "outputId": "f3135533-cb55-4b0f-f164-1e220b12d951"
      },
      "source": [
        "from sklearn.metrics import classification_report\n",
        "\n",
        "print(classification_report(y_test, y_pred))"
      ],
      "execution_count": 90,
      "outputs": [
        {
          "output_type": "stream",
          "text": [
            "              precision    recall  f1-score   support\n",
            "\n",
            "         1.0       0.00      0.00      0.00       0.0\n",
            "        10.0       0.00      0.00      0.00       1.0\n",
            "        21.0       0.00      0.00      0.00       1.0\n",
            "        24.0       0.00      0.00      0.00       1.0\n",
            "        27.0       0.00      0.00      0.00       1.0\n",
            "        30.0       0.00      0.00      0.00       1.0\n",
            "        31.0       0.00      0.00      0.00       1.0\n",
            "        41.0       0.00      0.00      0.00       1.0\n",
            "        48.0       0.00      0.00      0.00       1.0\n",
            "        52.0       0.00      0.00      0.00       1.0\n",
            "        54.0       0.00      0.00      0.00       1.0\n",
            "        55.0       0.00      0.00      0.00       1.0\n",
            "        56.0       0.00      0.00      0.00       1.0\n",
            "        57.0       0.00      0.00      0.00       1.0\n",
            "        63.0       0.00      0.00      0.00       1.0\n",
            "        71.0       0.00      0.00      0.00       1.0\n",
            "        80.0       0.00      0.00      0.00       1.0\n",
            "        82.0       0.00      0.00      0.00       1.0\n",
            "        85.0       0.00      0.00      0.00       1.0\n",
            "        89.0       0.00      0.00      0.00       1.0\n",
            "        92.0       0.00      0.00      0.00       1.0\n",
            "\n",
            "    accuracy                           0.00      20.0\n",
            "   macro avg       0.00      0.00      0.00      20.0\n",
            "weighted avg       0.00      0.00      0.00      20.0\n",
            "\n"
          ],
          "name": "stdout"
        }
      ]
    },
    {
      "cell_type": "markdown",
      "metadata": {
        "id": "s5Ay158Hi-nQ",
        "colab_type": "text"
      },
      "source": [
        ""
      ]
    },
    {
      "cell_type": "code",
      "metadata": {
        "id": "Bwf9EclVlIOm",
        "colab_type": "code",
        "colab": {
          "base_uri": "https://localhost:8080/",
          "height": 370
        },
        "outputId": "97c3f7a6-0054-4406-f8dc-c5f3f1d04017"
      },
      "source": [
        "cm1"
      ],
      "execution_count": 92,
      "outputs": [
        {
          "output_type": "execute_result",
          "data": {
            "text/plain": [
              "array([[0, 0, 0, 0, 0, 0, 0, 0, 0, 0, 0, 0, 0, 0, 0, 0, 0, 0, 0, 0, 0],\n",
              "       [1, 0, 0, 0, 0, 0, 0, 0, 0, 0, 0, 0, 0, 0, 0, 0, 0, 0, 0, 0, 0],\n",
              "       [1, 0, 0, 0, 0, 0, 0, 0, 0, 0, 0, 0, 0, 0, 0, 0, 0, 0, 0, 0, 0],\n",
              "       [1, 0, 0, 0, 0, 0, 0, 0, 0, 0, 0, 0, 0, 0, 0, 0, 0, 0, 0, 0, 0],\n",
              "       [1, 0, 0, 0, 0, 0, 0, 0, 0, 0, 0, 0, 0, 0, 0, 0, 0, 0, 0, 0, 0],\n",
              "       [1, 0, 0, 0, 0, 0, 0, 0, 0, 0, 0, 0, 0, 0, 0, 0, 0, 0, 0, 0, 0],\n",
              "       [1, 0, 0, 0, 0, 0, 0, 0, 0, 0, 0, 0, 0, 0, 0, 0, 0, 0, 0, 0, 0],\n",
              "       [1, 0, 0, 0, 0, 0, 0, 0, 0, 0, 0, 0, 0, 0, 0, 0, 0, 0, 0, 0, 0],\n",
              "       [1, 0, 0, 0, 0, 0, 0, 0, 0, 0, 0, 0, 0, 0, 0, 0, 0, 0, 0, 0, 0],\n",
              "       [1, 0, 0, 0, 0, 0, 0, 0, 0, 0, 0, 0, 0, 0, 0, 0, 0, 0, 0, 0, 0],\n",
              "       [1, 0, 0, 0, 0, 0, 0, 0, 0, 0, 0, 0, 0, 0, 0, 0, 0, 0, 0, 0, 0],\n",
              "       [1, 0, 0, 0, 0, 0, 0, 0, 0, 0, 0, 0, 0, 0, 0, 0, 0, 0, 0, 0, 0],\n",
              "       [1, 0, 0, 0, 0, 0, 0, 0, 0, 0, 0, 0, 0, 0, 0, 0, 0, 0, 0, 0, 0],\n",
              "       [1, 0, 0, 0, 0, 0, 0, 0, 0, 0, 0, 0, 0, 0, 0, 0, 0, 0, 0, 0, 0],\n",
              "       [1, 0, 0, 0, 0, 0, 0, 0, 0, 0, 0, 0, 0, 0, 0, 0, 0, 0, 0, 0, 0],\n",
              "       [1, 0, 0, 0, 0, 0, 0, 0, 0, 0, 0, 0, 0, 0, 0, 0, 0, 0, 0, 0, 0],\n",
              "       [1, 0, 0, 0, 0, 0, 0, 0, 0, 0, 0, 0, 0, 0, 0, 0, 0, 0, 0, 0, 0],\n",
              "       [1, 0, 0, 0, 0, 0, 0, 0, 0, 0, 0, 0, 0, 0, 0, 0, 0, 0, 0, 0, 0],\n",
              "       [1, 0, 0, 0, 0, 0, 0, 0, 0, 0, 0, 0, 0, 0, 0, 0, 0, 0, 0, 0, 0],\n",
              "       [1, 0, 0, 0, 0, 0, 0, 0, 0, 0, 0, 0, 0, 0, 0, 0, 0, 0, 0, 0, 0],\n",
              "       [1, 0, 0, 0, 0, 0, 0, 0, 0, 0, 0, 0, 0, 0, 0, 0, 0, 0, 0, 0, 0]])"
            ]
          },
          "metadata": {
            "tags": []
          },
          "execution_count": 92
        }
      ]
    },
    {
      "cell_type": "code",
      "metadata": {
        "id": "chGkSfGypUuW",
        "colab_type": "code",
        "outputId": "a7d9e952-c90f-4c53-9b90-dd445cc65407",
        "colab": {
          "base_uri": "https://localhost:8080/",
          "height": 34
        }
      },
      "source": [
        "\n",
        "from sklearn.metrics import confusion_matrix\n",
        "cm1 = confusion_matrix(y_test, y_pred)\n",
        "scores"
      ],
      "execution_count": 91,
      "outputs": [
        {
          "output_type": "execute_result",
          "data": {
            "text/plain": [
              "[-799.06005859375, 0.0]"
            ]
          },
          "metadata": {
            "tags": []
          },
          "execution_count": 91
        }
      ]
    },
    {
      "cell_type": "markdown",
      "metadata": {
        "id": "-VGWWjffmEOn",
        "colab_type": "text"
      },
      "source": [
        "####What does the confusion matrix tell you?\n",
        "\n",
        "A confusion matrix is a summary of prediction results on a classification problem. The number of correct and incorrect predictions are summarized with count values and broken down by each class.The confusion matrix shows the ways in which our classification model is confused when it makes predictions.\n",
        "From the above confusion matrix we can see that our model's efficiency is very low. The False Negative rate is high which says, the model predicted the false values as true.\n",
        "There is a high rate of false rate in the confusion matrix."
      ]
    },
    {
      "cell_type": "code",
      "metadata": {
        "id": "jt_zVYJPpXLa",
        "colab_type": "code",
        "colab": {}
      },
      "source": [
        ""
      ],
      "execution_count": 0,
      "outputs": []
    },
    {
      "cell_type": "markdown",
      "metadata": {
        "id": "yR7R9G4B4jdM",
        "colab_type": "text"
      },
      "source": [
        "References : https://towardsdatascience.com/machine-learning-workflow-on-diabetes-data-part-01-573864fcc6b8\n",
        "\n",
        "http://scikit-learn.org/stable/auto_examples/datasets/plot_random_dataset.html\n",
        "\n",
        "https://machinelearningmastery.com/tensorflow-tutorial-deep-learning-with-tf-keras/\n",
        "\n",
        "https://medium.com/towards-artificial-intelligence/the-confusion-matrix-for-classification-eb3bcf3064c7\n",
        "\n",
        "https://medium.com/analytics-vidhya/building-a-diabetes-predictor-4702b99bc7e4\n",
        "\n",
        "https://machinelearningmastery.com/rescaling-data-for-machine-learning-in-python-with-scikit-learn/\n",
        "\n",
        "https://towardsdatascience.com/machine-learning-for-diabetes-562dd7df4d42\n",
        "\n",
        "https://www.analyticsvidhya.com/blog/2016/11/an-introduction-to-clustering-and-different-methods-of-clustering/\n",
        "\n",
        "https://towardsdatascience.com/machine-learning-algorithms-part-9-k-means-example-in-python-f2ad05ed5203\n",
        "\n",
        "https://keras.io/getting-started/sequential-model-guide/\n",
        "\n",
        "https://medium.com/datadriveninvestor/building-neural-network-using-keras-for-classification-3a3656c726c1\n",
        "\n",
        "TextBook: Neural Network Projects with Python\n",
        "\n",
        "https://machinelearningmastery.com/cross-entropy-for-machine-learning/\n",
        "\n",
        "https://peltarion.com/knowledge-center/documentation/modeling-view/build-an-ai-model/loss-functions/binary-crossentropy"
      ]
    },
    {
      "cell_type": "code",
      "metadata": {
        "id": "Xsicqzy74l2I",
        "colab_type": "code",
        "colab": {}
      },
      "source": [
        ""
      ],
      "execution_count": 0,
      "outputs": []
    }
  ]
}