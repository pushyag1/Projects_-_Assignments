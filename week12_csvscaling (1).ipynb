{
 "cells": [
  {
   "cell_type": "markdown",
   "metadata": {},
   "source": [
    "## Week 12 - Assignment"
   ]
  },
  {
   "cell_type": "markdown",
   "metadata": {},
   "source": [
    "Write Python code that can create a CSV containing 10 columns of text data​\n",
    "\n",
    "Each entry in each row should be between 3 and 25 characters​\n",
    "Adjacent rows in a CSV should not be the same​\n",
    "Generate files of size {0.1, 1, 5, 10, 100, 500} MB of data​\n",
    "Execution time for creating all of the data to be written to file should take less than 5 minutes. (Email me if you do not solve this in less than an hour.)​ ​\n",
    "\n",
    "The precision of the file sizes is +/- 20%.\n",
    "\n",
    "Measure how much time it takes to write each CSV file to disk. In your measurement do not include the time used in creating the CSV files. Perform this measurement three times per file size. Each measurement is of a different CSV. That's three different files per file size.​\n",
    "\n",
    "Measure how much time it takes for your computer to load the data from the CSV on disk into a Pandas dataframe. Perform this measurement three times per file size. Each measurement is of a different CSV.​"
   ]
  },
  {
   "cell_type": "markdown",
   "metadata": {},
   "source": [
    "> Import necessary libraries"
   ]
  },
  {
   "cell_type": "code",
   "execution_count": 1,
   "metadata": {},
   "outputs": [],
   "source": [
    "import pandas as pd\n",
    "import random\n",
    "import csv\n",
    "import time\n",
    "import os\n",
    "import sys\n",
    "import string\n",
    "from functools import reduce\n",
    "import matplotlib.pyplot as plt\n",
    "from pylab import scatter\n",
    "import pylab\n",
    "from matplotlib import pyplot\n",
    "from matplotlib.pyplot import figure\n"
   ]
  },
  {
   "cell_type": "markdown",
   "metadata": {},
   "source": [
    "> Function to fetch names randomly from a text file(names.txt)"
   ]
  },
  {
   "cell_type": "code",
   "execution_count": 2,
   "metadata": {},
   "outputs": [],
   "source": [
    "def get_names():\n",
    "    fid = open('names.txt', 'r').read().split('\\n')\n",
    "    final_names = random.choice(fid)\n",
    "    return final_names"
   ]
  },
  {
   "cell_type": "markdown",
   "metadata": {},
   "source": [
    "> Function to generate csv files with random data when number of rows is given as input"
   ]
  },
  {
   "cell_type": "code",
   "execution_count": 3,
   "metadata": {},
   "outputs": [],
   "source": [
    "def dframe_tocsv(number_needed):\n",
    "    global df  \n",
    "    df = [] \n",
    "    \n",
    "    for i in range(0, number_needed):\n",
    "        df.append({\n",
    "        'employee_id': random.randint(100000,999999),\n",
    "        'name': get_names(),\n",
    "        'dept_id': random.choice(['010','020', '030', '040', '050']),\n",
    "        'phone#': random.randrange(4000000000,4999999999),\n",
    "        'gender': random.choice(['male','female']),\n",
    "        'join_year':random.randint(1940,1990),\n",
    "        'zip_code': random.randint(10000,70000),\n",
    "        'born_year': random.randint(1940,1990),\n",
    "        'cat_val': random.choice(['rent','own']),    \n",
    "        'annual_income(USD)': random.randrange(10000,90000, 2)})\n",
    "    df = pd.DataFrame(df)\n",
    "    df = df[['employee_id','name','dept_id','phone#', 'gender', 'join_year','zip_code', 'born_year', 'cat_val', 'annual_income(USD)']]\n",
    "    return df"
   ]
  },
  {
   "cell_type": "markdown",
   "metadata": {},
   "source": [
    "> * To generate csv files of 0.1mb, 1mb, 5mb,10mb\n",
    "*   3 files for each file size is generated\n",
    "* Calculating the average time elapsed to write each file to disk and storing into a dictionary"
   ]
  },
  {
   "cell_type": "code",
   "execution_count": 4,
   "metadata": {},
   "outputs": [
    {
     "name": "stdout",
     "output_type": "stream",
     "text": [
      "elapsed time: 0.02 for 0.1 MB\n",
      "elapsed time: 0.13 for 1.01 MB\n",
      "elapsed time: 0.58 for 5.09 MB\n",
      "elapsed time: 1.06 for 9.49 MB\n"
     ]
    }
   ],
   "source": [
    "number_of_tests=3\n",
    "list_of_row_size=[1400, 14000, 70000, 130000]\n",
    "serial_results={}\n",
    "for row_count in list_of_row_size:\n",
    "    test_results=[]\n",
    "    for test_indx in range(number_of_tests):\n",
    "        dframe_tocsv(row_count)\n",
    "        start_time=time.time()\n",
    "        df.to_csv(\"testdata{0}_{1}.csv\".format(row_count,test_indx),sep=' ')\n",
    "        test_results.append(time.time() - start_time)\n",
    "        size = os.path.getsize(\"testdata{0}_{1}.csv\".format(row_count,test_indx))/(1024*1024)\n",
    "        size_round = round(size,2)\n",
    "    \n",
    "    serial_results[size_round]=round(sum(test_results)/number_of_tests,2)\n",
    "    \n",
    "    print('elapsed time:',round(sum(test_results)/number_of_tests,2),'for',size_round, 'MB')"
   ]
  },
  {
   "cell_type": "markdown",
   "metadata": {},
   "source": [
    "> * To generate csv file of size 100 mb\n",
    "*   3 files of 100mb are generated\n",
    "* Calculating the average time elapsed to write each file to disk and storing into a dictionary"
   ]
  },
  {
   "cell_type": "code",
   "execution_count": 5,
   "metadata": {},
   "outputs": [
    {
     "name": "stdout",
     "output_type": "stream",
     "text": [
      "elapsed time: 13.6 for 110.6 MB\n"
     ]
    }
   ],
   "source": [
    "number_of_tests=3\n",
    "test_results = []\n",
    "for test_indx in range(number_of_tests):\n",
    "    df_1 = pd.read_csv(\"testdata130000_{0}.csv\".format(test_indx),sep=' ')\n",
    "    dfs = [ df_1, df_1, df_1, df_1, df_1,df_1, df_1, df_1, df_1, df_1 ]\n",
    "    df_final = pd.concat(dfs, ignore_index=True)\n",
    "    start_time=time.time()\n",
    "    df_final.to_csv(\"testdata100_{0}.csv\".format(test_indx),sep=' ')\n",
    "    test_results.append(time.time() - start_time)\n",
    "    size = os.path.getsize(\"testdata100_{0}.csv\".format(test_indx))/(1024*1024)\n",
    "    size_round = round(size,2)\n",
    "    \n",
    "serial_results[size_round]=round(sum(test_results)/number_of_tests,2)\n",
    "    \n",
    "print('elapsed time:',round(sum(test_results)/number_of_tests,2),'for',size_round, 'MB')"
   ]
  },
  {
   "cell_type": "markdown",
   "metadata": {},
   "source": [
    "> * To generate csv file of size 500 mb\n",
    "*   3 files of 500mb each are generated\n",
    "* Calculating the average time elapsed to write each file to disk and storing into a dictionary"
   ]
  },
  {
   "cell_type": "code",
   "execution_count": 6,
   "metadata": {},
   "outputs": [
    {
     "name": "stdout",
     "output_type": "stream",
     "text": [
      "elapsed time: 75.6 for 605.34 MB\n"
     ]
    }
   ],
   "source": [
    "number_of_tests=3\n",
    "test_results = []\n",
    "for test_indx in range(number_of_tests):\n",
    "    df_1 = pd.read_csv(\"testdata100_{0}.csv\".format(test_indx),sep=' ')\n",
    "    dfs = [ df_1, df_1, df_1, df_1, df_1 ]\n",
    "    df_final = pd.concat(dfs, ignore_index=True)\n",
    "    start_time=time.time()\n",
    "    df_final.to_csv(\"testdata500_{0}.csv\".format(test_indx),sep=' ')\n",
    "    test_results.append(time.time() - start_time)\n",
    "    size = os.path.getsize(\"testdata500_{0}.csv\".format(test_indx))/(1024*1024)\n",
    "    size_round = round(size,2)\n",
    "    \n",
    "serial_results[size_round]=round(sum(test_results)/number_of_tests,2)\n",
    "    \n",
    "print('elapsed time:',round(sum(test_results)/number_of_tests,2),'for',size_round, 'MB')"
   ]
  },
  {
   "cell_type": "markdown",
   "metadata": {},
   "source": [
    "> Storing all the average times elapsed to write each file size to disk into a dictionary"
   ]
  },
  {
   "cell_type": "code",
   "execution_count": 7,
   "metadata": {},
   "outputs": [
    {
     "data": {
      "text/plain": [
       "{0.1: 0.02, 1.01: 0.13, 5.09: 0.58, 9.49: 1.06, 110.6: 13.6, 605.34: 75.6}"
      ]
     },
     "execution_count": 7,
     "metadata": {},
     "output_type": "execute_result"
    }
   ],
   "source": [
    "serial_results"
   ]
  },
  {
   "cell_type": "markdown",
   "metadata": {},
   "source": [
    "> Dataframe for write values is generated"
   ]
  },
  {
   "cell_type": "code",
   "execution_count": 8,
   "metadata": {},
   "outputs": [
    {
     "data": {
      "text/html": [
       "<div>\n",
       "<style scoped>\n",
       "    .dataframe tbody tr th:only-of-type {\n",
       "        vertical-align: middle;\n",
       "    }\n",
       "\n",
       "    .dataframe tbody tr th {\n",
       "        vertical-align: top;\n",
       "    }\n",
       "\n",
       "    .dataframe thead th {\n",
       "        text-align: right;\n",
       "    }\n",
       "</style>\n",
       "<table border=\"1\" class=\"dataframe\">\n",
       "  <thead>\n",
       "    <tr style=\"text-align: right;\">\n",
       "      <th></th>\n",
       "      <th>Size</th>\n",
       "      <th>WriteTime</th>\n",
       "    </tr>\n",
       "  </thead>\n",
       "  <tbody>\n",
       "    <tr>\n",
       "      <th>0</th>\n",
       "      <td>0.10</td>\n",
       "      <td>0.02</td>\n",
       "    </tr>\n",
       "    <tr>\n",
       "      <th>1</th>\n",
       "      <td>1.01</td>\n",
       "      <td>0.13</td>\n",
       "    </tr>\n",
       "    <tr>\n",
       "      <th>2</th>\n",
       "      <td>5.09</td>\n",
       "      <td>0.58</td>\n",
       "    </tr>\n",
       "    <tr>\n",
       "      <th>3</th>\n",
       "      <td>9.49</td>\n",
       "      <td>1.06</td>\n",
       "    </tr>\n",
       "    <tr>\n",
       "      <th>4</th>\n",
       "      <td>110.60</td>\n",
       "      <td>13.60</td>\n",
       "    </tr>\n",
       "    <tr>\n",
       "      <th>5</th>\n",
       "      <td>605.34</td>\n",
       "      <td>75.60</td>\n",
       "    </tr>\n",
       "  </tbody>\n",
       "</table>\n",
       "</div>"
      ],
      "text/plain": [
       "     Size  WriteTime\n",
       "0    0.10       0.02\n",
       "1    1.01       0.13\n",
       "2    5.09       0.58\n",
       "3    9.49       1.06\n",
       "4  110.60      13.60\n",
       "5  605.34      75.60"
      ]
     },
     "execution_count": 8,
     "metadata": {},
     "output_type": "execute_result"
    }
   ],
   "source": [
    "writeval = pd.DataFrame(list(serial_results.items()), columns=['Size', 'WriteTime'])\n",
    "writeval"
   ]
  },
  {
   "cell_type": "markdown",
   "metadata": {},
   "source": [
    "> Reading all the files for each files size into dataframe and calculating the time elapsed to load the csv data on disk to dataframe"
   ]
  },
  {
   "cell_type": "code",
   "execution_count": 9,
   "metadata": {},
   "outputs": [
    {
     "name": "stdout",
     "output_type": "stream",
     "text": [
      "elapsed time: 0.02 seconds for 0.1 MB\n",
      "elapsed time: 0.03 seconds for 1.01 MB\n",
      "elapsed time: 0.11 seconds for 5.09 MB\n",
      "elapsed time: 0.21 seconds for 9.49 MB\n",
      "elapsed time: 2.44 seconds for 110.6 MB\n",
      "elapsed time: 11.05 seconds for 605.34 MB\n"
     ]
    }
   ],
   "source": [
    "number_of_tests=3\n",
    "list_of_row_size=[1400, 14000, 70000, 130000,100,500]\n",
    "\n",
    "disktodf_results = {}\n",
    "\n",
    "for row_count in list_of_row_size:\n",
    "    test_results = []This \n",
    "    for test_indx in range(number_of_tests):\n",
    "        start_time=time.time()\n",
    "        df =  pd.read_csv(\"testdata{0}_{1}.csv\".format(row_count,test_indx))\n",
    "        #df = {values: pd.read_csv(\"testdata{0}_{1}.csv\".format(row_count,test_indx))   for values in dataframes}\n",
    "        test_results.append(time.time() - start_time)\n",
    "        size = os.path.getsize(\"testdata{0}_{1}.csv\".format(row_count,test_indx))/(1024*1024)\n",
    "        size_round = round(size,2)\n",
    "    disktodf_results[size_round]= round(sum(test_results)/number_of_tests,2)\n",
    "    print('elapsed time:',round(sum(test_results)/number_of_tests,2),'seconds','for',size_round, 'MB')\n",
    "    \n",
    "    "
   ]
  },
  {
   "cell_type": "markdown",
   "metadata": {},
   "source": [
    "> Storing the Read values into dictionary"
   ]
  },
  {
   "cell_type": "code",
   "execution_count": 10,
   "metadata": {},
   "outputs": [
    {
     "data": {
      "text/plain": [
       "{0.1: 0.02, 1.01: 0.03, 5.09: 0.11, 9.49: 0.21, 110.6: 2.44, 605.34: 11.05}"
      ]
     },
     "execution_count": 10,
     "metadata": {},
     "output_type": "execute_result"
    }
   ],
   "source": [
    "disktodf_results"
   ]
  },
  {
   "cell_type": "markdown",
   "metadata": {},
   "source": [
    "> Dataframe with read values is generated"
   ]
  },
  {
   "cell_type": "code",
   "execution_count": 11,
   "metadata": {},
   "outputs": [
    {
     "data": {
      "text/html": [
       "<div>\n",
       "<style scoped>\n",
       "    .dataframe tbody tr th:only-of-type {\n",
       "        vertical-align: middle;\n",
       "    }\n",
       "\n",
       "    .dataframe tbody tr th {\n",
       "        vertical-align: top;\n",
       "    }\n",
       "\n",
       "    .dataframe thead th {\n",
       "        text-align: right;\n",
       "    }\n",
       "</style>\n",
       "<table border=\"1\" class=\"dataframe\">\n",
       "  <thead>\n",
       "    <tr style=\"text-align: right;\">\n",
       "      <th></th>\n",
       "      <th>Size</th>\n",
       "      <th>ReadTime</th>\n",
       "    </tr>\n",
       "  </thead>\n",
       "  <tbody>\n",
       "    <tr>\n",
       "      <th>0</th>\n",
       "      <td>0.10</td>\n",
       "      <td>0.02</td>\n",
       "    </tr>\n",
       "    <tr>\n",
       "      <th>1</th>\n",
       "      <td>1.01</td>\n",
       "      <td>0.03</td>\n",
       "    </tr>\n",
       "    <tr>\n",
       "      <th>2</th>\n",
       "      <td>5.09</td>\n",
       "      <td>0.11</td>\n",
       "    </tr>\n",
       "    <tr>\n",
       "      <th>3</th>\n",
       "      <td>9.49</td>\n",
       "      <td>0.21</td>\n",
       "    </tr>\n",
       "    <tr>\n",
       "      <th>4</th>\n",
       "      <td>110.60</td>\n",
       "      <td>2.44</td>\n",
       "    </tr>\n",
       "    <tr>\n",
       "      <th>5</th>\n",
       "      <td>605.34</td>\n",
       "      <td>11.05</td>\n",
       "    </tr>\n",
       "  </tbody>\n",
       "</table>\n",
       "</div>"
      ],
      "text/plain": [
       "     Size  ReadTime\n",
       "0    0.10      0.02\n",
       "1    1.01      0.03\n",
       "2    5.09      0.11\n",
       "3    9.49      0.21\n",
       "4  110.60      2.44\n",
       "5  605.34     11.05"
      ]
     },
     "execution_count": 11,
     "metadata": {},
     "output_type": "execute_result"
    }
   ],
   "source": [
    "readval = pd.DataFrame(list(disktodf_results.items()), columns=['Size', 'ReadTime'])\n",
    "readval"
   ]
  },
  {
   "cell_type": "markdown",
   "metadata": {},
   "source": [
    "> Merging both thedataframes with read values and write values"
   ]
  },
  {
   "cell_type": "code",
   "execution_count": 12,
   "metadata": {},
   "outputs": [
    {
     "data": {
      "text/html": [
       "<div>\n",
       "<style scoped>\n",
       "    .dataframe tbody tr th:only-of-type {\n",
       "        vertical-align: middle;\n",
       "    }\n",
       "\n",
       "    .dataframe tbody tr th {\n",
       "        vertical-align: top;\n",
       "    }\n",
       "\n",
       "    .dataframe thead th {\n",
       "        text-align: right;\n",
       "    }\n",
       "</style>\n",
       "<table border=\"1\" class=\"dataframe\">\n",
       "  <thead>\n",
       "    <tr style=\"text-align: right;\">\n",
       "      <th></th>\n",
       "      <th>Size</th>\n",
       "      <th>WriteTime</th>\n",
       "      <th>ReadTime</th>\n",
       "    </tr>\n",
       "  </thead>\n",
       "  <tbody>\n",
       "    <tr>\n",
       "      <th>0</th>\n",
       "      <td>0.10</td>\n",
       "      <td>0.02</td>\n",
       "      <td>0.02</td>\n",
       "    </tr>\n",
       "    <tr>\n",
       "      <th>1</th>\n",
       "      <td>1.01</td>\n",
       "      <td>0.13</td>\n",
       "      <td>0.03</td>\n",
       "    </tr>\n",
       "    <tr>\n",
       "      <th>2</th>\n",
       "      <td>5.09</td>\n",
       "      <td>0.58</td>\n",
       "      <td>0.11</td>\n",
       "    </tr>\n",
       "    <tr>\n",
       "      <th>3</th>\n",
       "      <td>9.49</td>\n",
       "      <td>1.06</td>\n",
       "      <td>0.21</td>\n",
       "    </tr>\n",
       "    <tr>\n",
       "      <th>4</th>\n",
       "      <td>110.60</td>\n",
       "      <td>13.60</td>\n",
       "      <td>2.44</td>\n",
       "    </tr>\n",
       "    <tr>\n",
       "      <th>5</th>\n",
       "      <td>605.34</td>\n",
       "      <td>75.60</td>\n",
       "      <td>11.05</td>\n",
       "    </tr>\n",
       "  </tbody>\n",
       "</table>\n",
       "</div>"
      ],
      "text/plain": [
       "     Size  WriteTime  ReadTime\n",
       "0    0.10       0.02      0.02\n",
       "1    1.01       0.13      0.03\n",
       "2    5.09       0.58      0.11\n",
       "3    9.49       1.06      0.21\n",
       "4  110.60      13.60      2.44\n",
       "5  605.34      75.60     11.05"
      ]
     },
     "execution_count": 12,
     "metadata": {},
     "output_type": "execute_result"
    }
   ],
   "source": [
    "read_write = pd.merge(writeval, readval, how='outer')\n",
    "read_write"
   ]
  },
  {
   "cell_type": "markdown",
   "metadata": {},
   "source": [
    "> Plotting the average write times and average load times versus file size in a single scatter plot with semilogx scale"
   ]
  },
  {
   "cell_type": "code",
   "execution_count": 13,
   "metadata": {},
   "outputs": [
    {
     "data": {
      "text/plain": [
       "Text(0.5, 1.0, 'Scaling of file I/O')"
      ]
     },
     "execution_count": 13,
     "metadata": {},
     "output_type": "execute_result"
    },
    {
     "data": {
      "image/png": "[encoded data removed]",
      "text/plain": [
       "<Figure size 640x480 with 1 Axes>"
      ]
     },
     "metadata": {
      "needs_background": "light"
     },
     "output_type": "display_data"
    }
   ],
   "source": [
    "figure(num=None, figsize=(8, 6), dpi=80)\n",
    "_=plt.scatter(read_write.Size,read_write.WriteTime,label = 'WriteTime',color='blue')\n",
    "_=plt.scatter(read_write.Size,read_write.ReadTime,label = 'ReadTime', color='red')\n",
    "_=plt.ylabel('average time in seconds',fontsize=14)\n",
    "_=plt.xlabel('File Size in MB',fontsize=14)\n",
    "pyplot.xscale('log')\n",
    "plt.legend()\n",
    "#plt.grid()\n",
    "plt.title('Scaling of file I/O',fontsize=18)\n",
    "\n"
   ]
  },
  {
   "cell_type": "code",
   "execution_count": null,
   "metadata": {},
   "outputs": [],
   "source": []
  }
 ],
 "metadata": {
  "kernelspec": {
   "display_name": "Python 3",
   "language": "python",
   "name": "python3"
  },
  "language_info": {
   "codemirror_mode": {
    "name": "ipython",
    "version": 3
   },
   "file_extension": ".py",
   "mimetype": "text/x-python",
   "name": "python",
   "nbconvert_exporter": "python",
   "pygments_lexer": "ipython3",
   "version": "3.7.3"
  }
 },
 "nbformat": 4,
 "nbformat_minor": 2
}
